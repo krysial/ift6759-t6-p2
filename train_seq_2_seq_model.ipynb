{
  "nbformat": 4,
  "nbformat_minor": 0,
  "metadata": {
    "colab": {
      "name": "train_seq_2_seq_model.ipynb",
      "provenance": [],
      "collapsed_sections": []
    },
    "kernelspec": {
      "name": "python3",
      "display_name": "Python 3"
    }
  },
  "cells": [
    {
      "cell_type": "code",
      "metadata": {
        "id": "-LPWD5uFAQmp",
        "colab_type": "code",
        "outputId": "e4713ca1-c4c2-4a69-f4ad-9b5a62271591",
        "colab": {
          "base_uri": "https://localhost:8080/"
        }
      },
      "source": [
        "from google.colab import drive\n",
        "drive.mount('/content/drive')"
      ],
      "execution_count": 0,
      "outputs": [
        {
          "output_type": "stream",
          "text": [
            "Go to this URL in a browser: https://accounts.google.com/o/oauth2/auth?client_id=947318989803-6bn6qk8qdgf4n4g3pfee6491hc0brc4i.apps.googleusercontent.com&redirect_uri=urn%3aietf%3awg%3aoauth%3a2.0%3aoob&response_type=code&scope=email%20https%3a%2f%2fwww.googleapis.com%2fauth%2fdocs.test%20https%3a%2f%2fwww.googleapis.com%2fauth%2fdrive%20https%3a%2f%2fwww.googleapis.com%2fauth%2fdrive.photos.readonly%20https%3a%2f%2fwww.googleapis.com%2fauth%2fpeopleapi.readonly\n",
            "\n",
            "Enter your authorization code:\n",
            "··········\n",
            "Mounted at /content/drive\n"
          ],
          "name": "stdout"
        }
      ]
    },
    {
      "cell_type": "code",
      "metadata": {
        "id": "H8MMKcrEo3ZM",
        "colab_type": "code",
        "outputId": "8529b3dd-bb48-4b50-a6ec-f0f92dfbdeeb",
        "colab": {
          "base_uri": "https://localhost:8080/"
        }
      },
      "source": [
        "import os\n",
        "os.chdir(os.path.join('drive', 'My Drive', 'ift6759', 'ift6759-t6-p2'))\n",
        "os.getcwd()"
      ],
      "execution_count": 0,
      "outputs": [
        {
          "output_type": "execute_result",
          "data": {
            "text/plain": [
              "'/content/drive/My Drive/ift6759/ift6759-t6-p2'"
            ]
          },
          "metadata": {
            "tags": []
          },
          "execution_count": 2
        }
      ]
    },
    {
      "cell_type": "code",
      "metadata": {
        "colab_type": "code",
        "outputId": "4cba3111-40e4-444d-ee9d-bcea8815e922",
        "id": "BBAB-9i7WRy_",
        "colab": {
          "base_uri": "https://localhost:8080/"
        }
      },
      "source": [
        "!nvidia-smi"
      ],
      "execution_count": 0,
      "outputs": [
        {
          "output_type": "stream",
          "text": [
            "NVIDIA-SMI has failed because it couldn't communicate with the NVIDIA driver. Make sure that the latest NVIDIA driver is installed and running.\n",
            "\n"
          ],
          "name": "stdout"
        }
      ]
    },
    {
      "cell_type": "code",
      "metadata": {
        "id": "sn_6QbIUpLGd",
        "colab_type": "code",
        "outputId": "d3959b21-3533-4239-c941-a3c757e22a9e",
        "colab": {
          "base_uri": "https://localhost:8080/"
        }
      },
      "source": [
        "!python train_seq_2_seq_model.py --model_name GRU --encoder_lang_model_task unformated_en_w2w --decoder_lang_model_task unformated_fr_w2w "
      ],
      "execution_count": 0,
      "outputs": [
        {
          "output_type": "stream",
          "text": [
            "2020-04-11 03:53:58.215928: I tensorflow/stream_executor/platform/default/dso_loader.cc:44] Successfully opened dynamic library libcudart.so.10.1\n",
            "/usr/local/lib/python3.6/dist-packages/smart_open/smart_open_lib.py:410: UserWarning: This function is deprecated, use smart_open.open instead. See the migration notes for details: https://github.com/RaRe-Technologies/smart_open/blob/master/README.rst#migrating-to-the-new-open-function\n",
            "  'See the migration notes for details: %s' % _MIGRATION_NOTES_URL\n",
            "  0% 0/11000 [00:00<?, ?it/s]/usr/local/lib/python3.6/dist-packages/gensim/matutils.py:737: FutureWarning: Conversion of the second argument of issubdtype from `int` to `np.signedinteger` is deprecated. In future, it will be treated as `np.int64 == np.dtype(int).type`.\n",
            "  if np.issubdtype(vec.dtype, np.int):\n",
            "100% 11000/11000 [00:01<00:00, 6629.06it/s]\n",
            "100% 11000/11000 [00:03<00:00, 3663.42it/s]\n",
            "#### ENC-DEC DATA Preprocessed ####\n",
            "Enc: {'max_seq': 97, 'vocab_size': 60019, 'remove_punctuation': True, 'embedding_dim': 256, 'fasttext_model': '/content/drive/My Drive/ift6759/ift6759-t6-p2/embeddings/unformated_en_w2w/unaligned_unformated_en', 'tokenize_type': 'w', 'data_file': 'data/aligned_unformated_en'}\n",
            "Dec: {'max_seq': 107, 'vocab_size': 83143, 'remove_punctuation': True, 'embedding_dim': 256, 'fasttext_model': '/content/drive/My Drive/ift6759/ift6759-t6-p2/embeddings/unformated_fr_w2w/unaligned_unformated_fr', 'tokenize_type': 'w', 'data_file': 'data/aligned_unformated_fr'}\n",
            "2020-04-11 03:54:10.889207: I tensorflow/stream_executor/platform/default/dso_loader.cc:44] Successfully opened dynamic library libcuda.so.1\n",
            "2020-04-11 03:54:10.891726: E tensorflow/stream_executor/cuda/cuda_driver.cc:313] failed call to cuInit: CUDA_ERROR_NO_DEVICE: no CUDA-capable device is detected\n",
            "2020-04-11 03:54:10.891779: I tensorflow/stream_executor/cuda/cuda_diagnostics.cc:156] kernel driver does not appear to be running on this host (33f0ad68a13d): /proc/driver/nvidia/version does not exist\n",
            "2020-04-11 03:54:10.897497: I tensorflow/core/platform/profile_utils/cpu_utils.cc:102] CPU Frequency: 2200000000 Hz\n",
            "2020-04-11 03:54:10.897745: I tensorflow/compiler/xla/service/service.cc:168] XLA service 0x23b7640 initialized for platform Host (this does not guarantee that XLA will be used). Devices:\n",
            "2020-04-11 03:54:10.897783: I tensorflow/compiler/xla/service/service.cc:176]   StreamExecutor device (0): Host, Default Version\n",
            "#### Datasets Loaded ####\n",
            "<RepeatDataset shapes: (((64, 97), (64, 107)), (64, 107)), types: ((tf.int32, tf.int32), tf.int32)> <RepeatDataset shapes: (((64, 97), (64, 107)), (64, 107)), types: ((tf.int32, tf.int32), tf.int32)>\n",
            "#### Model Loaded ####\n",
            "Epoch 1/10\n",
            "Traceback (most recent call last):\n",
            "  File \"train_seq_2_seq_model.py\", line 171, in <module>\n",
            "    train()\n",
            "  File \"/usr/local/lib/python3.6/dist-packages/click/core.py\", line 829, in __call__\n",
            "    return self.main(*args, **kwargs)\n",
            "  File \"/usr/local/lib/python3.6/dist-packages/click/core.py\", line 782, in main\n",
            "    rv = self.invoke(ctx)\n",
            "  File \"/usr/local/lib/python3.6/dist-packages/click/core.py\", line 1066, in invoke\n",
            "    return ctx.invoke(self.callback, **ctx.params)\n",
            "  File \"/usr/local/lib/python3.6/dist-packages/click/core.py\", line 610, in invoke\n",
            "    return callback(*args, **kwargs)\n",
            "  File \"train_seq_2_seq_model.py\", line 166, in train\n",
            "    validation_steps=train_opts['steps_per_epoch']\n",
            "  File \"/usr/local/lib/python3.6/dist-packages/tensorflow/python/keras/engine/training.py\", line 66, in _method_wrapper\n",
            "    return method(self, *args, **kwargs)\n",
            "  File \"/usr/local/lib/python3.6/dist-packages/tensorflow/python/keras/engine/training.py\", line 785, in fit\n",
            "    tmp_logs = train_function(iterator)\n",
            "  File \"/usr/local/lib/python3.6/dist-packages/tensorflow/python/keras/engine/training.py\", line 506, in train_function\n",
            "    self.train_step, args=(data,))\n",
            "  File \"/usr/local/lib/python3.6/dist-packages/tensorflow/python/distribute/distribute_lib.py\", line 951, in run\n",
            "    return self._extended.call_for_each_replica(fn, args=args, kwargs=kwargs)\n",
            "  File \"/usr/local/lib/python3.6/dist-packages/tensorflow/python/distribute/distribute_lib.py\", line 2290, in call_for_each_replica\n",
            "    return self._call_for_each_replica(fn, args, kwargs)\n",
            "  File \"/usr/local/lib/python3.6/dist-packages/tensorflow/python/distribute/distribute_lib.py\", line 2649, in _call_for_each_replica\n",
            "    return fn(*args, **kwargs)\n",
            "  File \"/usr/local/lib/python3.6/dist-packages/tensorflow/python/autograph/impl/api.py\", line 282, in wrapper\n",
            "    return func(*args, **kwargs)\n",
            "  File \"/usr/local/lib/python3.6/dist-packages/tensorflow/python/keras/engine/training.py\", line 465, in train_step\n",
            "    y_pred = self(x, training=True)\n",
            "  File \"/usr/local/lib/python3.6/dist-packages/tensorflow/python/keras/engine/base_layer.py\", line 968, in __call__\n",
            "    outputs = self.call(cast_inputs, *args, **kwargs)\n",
            "  File \"/content/drive/My Drive/ift6759/ift6759-t6-p2/seq_2_seq_models/seq_2_seq.py\", line 36, in call\n",
            "    dec_input = tf.expand_dims([self.v2id['<SOS>']] * BATCH_SIZE, 1)\n",
            "KeyError: '<SOS>'\n"
          ],
          "name": "stdout"
        }
      ]
    },
    {
      "cell_type": "code",
      "metadata": {
        "id": "guKjdS2R8j2k",
        "colab_type": "code",
        "colab": {}
      },
      "source": [
        ""
      ],
      "execution_count": 0,
      "outputs": []
    }
  ]
}