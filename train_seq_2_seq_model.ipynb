{
  "nbformat": 4,
  "nbformat_minor": 0,
  "metadata": {
    "colab": {
      "name": "train_seq_2_seq_model.ipynb",
      "provenance": [],
      "collapsed_sections": []
    },
    "kernelspec": {
      "name": "python3",
      "display_name": "Python 3"
    },
    "accelerator": "GPU"
  },
  "cells": [
    {
      "cell_type": "code",
      "metadata": {
        "colab_type": "code",
        "outputId": "95b9bd99-2c20-42aa-88be-2d6706c6d8c4",
        "id": "BBAB-9i7WRy_",
        "colab": {
          "base_uri": "https://localhost:8080/",
          "height": 306
        }
      },
      "source": [
        "!nvidia-smi"
      ],
      "execution_count": 6,
      "outputs": [
        {
          "output_type": "stream",
          "text": [
            "Wed Apr 15 02:36:39 2020       \n",
            "+-----------------------------------------------------------------------------+\n",
            "| NVIDIA-SMI 440.64.00    Driver Version: 418.67       CUDA Version: 10.1     |\n",
            "|-------------------------------+----------------------+----------------------+\n",
            "| GPU  Name        Persistence-M| Bus-Id        Disp.A | Volatile Uncorr. ECC |\n",
            "| Fan  Temp  Perf  Pwr:Usage/Cap|         Memory-Usage | GPU-Util  Compute M. |\n",
            "|===============================+======================+======================|\n",
            "|   0  Tesla P100-PCIE...  Off  | 00000000:00:04.0 Off |                    0 |\n",
            "| N/A   35C    P0    26W / 250W |      0MiB / 16280MiB |      0%      Default |\n",
            "+-------------------------------+----------------------+----------------------+\n",
            "                                                                               \n",
            "+-----------------------------------------------------------------------------+\n",
            "| Processes:                                                       GPU Memory |\n",
            "|  GPU       PID   Type   Process name                             Usage      |\n",
            "|=============================================================================|\n",
            "|  No running processes found                                                 |\n",
            "+-----------------------------------------------------------------------------+\n"
          ],
          "name": "stdout"
        }
      ]
    },
    {
      "cell_type": "code",
      "metadata": {
        "id": "ZBGFwzH2PSRb",
        "colab_type": "code",
        "outputId": "d5a75edb-0219-4320-ee16-f3200e57b6e8",
        "colab": {
          "base_uri": "https://localhost:8080/",
          "height": 649
        }
      },
      "source": [
        "!pip install gensim==3.8.1"
      ],
      "execution_count": 4,
      "outputs": [
        {
          "output_type": "stream",
          "text": [
            "Collecting gensim==3.8.1\n",
            "\u001b[?25l  Downloading https://files.pythonhosted.org/packages/d1/dd/112bd4258cee11e0baaaba064060eb156475a42362e59e3ff28e7ca2d29d/gensim-3.8.1-cp36-cp36m-manylinux1_x86_64.whl (24.2MB)\n",
            "\u001b[K     |████████████████████████████████| 24.2MB 1.4MB/s \n",
            "\u001b[?25hRequirement already satisfied: smart-open>=1.8.1 in /usr/local/lib/python3.6/dist-packages (from gensim==3.8.1) (1.10.0)\n",
            "Requirement already satisfied: numpy>=1.11.3 in /usr/local/lib/python3.6/dist-packages (from gensim==3.8.1) (1.18.2)\n",
            "Requirement already satisfied: six>=1.5.0 in /usr/local/lib/python3.6/dist-packages (from gensim==3.8.1) (1.12.0)\n",
            "Requirement already satisfied: scipy>=0.18.1 in /usr/local/lib/python3.6/dist-packages (from gensim==3.8.1) (1.4.1)\n",
            "Requirement already satisfied: google-cloud-storage in /usr/local/lib/python3.6/dist-packages (from smart-open>=1.8.1->gensim==3.8.1) (1.18.1)\n",
            "Requirement already satisfied: requests in /usr/local/lib/python3.6/dist-packages (from smart-open>=1.8.1->gensim==3.8.1) (2.21.0)\n",
            "Requirement already satisfied: boto3 in /usr/local/lib/python3.6/dist-packages (from smart-open>=1.8.1->gensim==3.8.1) (1.12.38)\n",
            "Requirement already satisfied: google-resumable-media<0.5.0dev,>=0.3.1 in /usr/local/lib/python3.6/dist-packages (from google-cloud-storage->smart-open>=1.8.1->gensim==3.8.1) (0.4.1)\n",
            "Requirement already satisfied: google-cloud-core<2.0dev,>=1.0.0 in /usr/local/lib/python3.6/dist-packages (from google-cloud-storage->smart-open>=1.8.1->gensim==3.8.1) (1.0.3)\n",
            "Requirement already satisfied: google-auth>=1.2.0 in /usr/local/lib/python3.6/dist-packages (from google-cloud-storage->smart-open>=1.8.1->gensim==3.8.1) (1.7.2)\n",
            "Requirement already satisfied: certifi>=2017.4.17 in /usr/local/lib/python3.6/dist-packages (from requests->smart-open>=1.8.1->gensim==3.8.1) (2020.4.5.1)\n",
            "Requirement already satisfied: chardet<3.1.0,>=3.0.2 in /usr/local/lib/python3.6/dist-packages (from requests->smart-open>=1.8.1->gensim==3.8.1) (3.0.4)\n",
            "Requirement already satisfied: idna<2.9,>=2.5 in /usr/local/lib/python3.6/dist-packages (from requests->smart-open>=1.8.1->gensim==3.8.1) (2.8)\n",
            "Requirement already satisfied: urllib3<1.25,>=1.21.1 in /usr/local/lib/python3.6/dist-packages (from requests->smart-open>=1.8.1->gensim==3.8.1) (1.24.3)\n",
            "Requirement already satisfied: s3transfer<0.4.0,>=0.3.0 in /usr/local/lib/python3.6/dist-packages (from boto3->smart-open>=1.8.1->gensim==3.8.1) (0.3.3)\n",
            "Requirement already satisfied: jmespath<1.0.0,>=0.7.1 in /usr/local/lib/python3.6/dist-packages (from boto3->smart-open>=1.8.1->gensim==3.8.1) (0.9.5)\n",
            "Requirement already satisfied: botocore<1.16.0,>=1.15.38 in /usr/local/lib/python3.6/dist-packages (from boto3->smart-open>=1.8.1->gensim==3.8.1) (1.15.38)\n",
            "Requirement already satisfied: google-api-core<2.0.0dev,>=1.14.0 in /usr/local/lib/python3.6/dist-packages (from google-cloud-core<2.0dev,>=1.0.0->google-cloud-storage->smart-open>=1.8.1->gensim==3.8.1) (1.16.0)\n",
            "Requirement already satisfied: pyasn1-modules>=0.2.1 in /usr/local/lib/python3.6/dist-packages (from google-auth>=1.2.0->google-cloud-storage->smart-open>=1.8.1->gensim==3.8.1) (0.2.8)\n",
            "Requirement already satisfied: rsa<4.1,>=3.1.4 in /usr/local/lib/python3.6/dist-packages (from google-auth>=1.2.0->google-cloud-storage->smart-open>=1.8.1->gensim==3.8.1) (4.0)\n",
            "Requirement already satisfied: setuptools>=40.3.0 in /usr/local/lib/python3.6/dist-packages (from google-auth>=1.2.0->google-cloud-storage->smart-open>=1.8.1->gensim==3.8.1) (46.1.3)\n",
            "Requirement already satisfied: cachetools<3.2,>=2.0.0 in /usr/local/lib/python3.6/dist-packages (from google-auth>=1.2.0->google-cloud-storage->smart-open>=1.8.1->gensim==3.8.1) (3.1.1)\n",
            "Requirement already satisfied: python-dateutil<3.0.0,>=2.1 in /usr/local/lib/python3.6/dist-packages (from botocore<1.16.0,>=1.15.38->boto3->smart-open>=1.8.1->gensim==3.8.1) (2.8.1)\n",
            "Requirement already satisfied: docutils<0.16,>=0.10 in /usr/local/lib/python3.6/dist-packages (from botocore<1.16.0,>=1.15.38->boto3->smart-open>=1.8.1->gensim==3.8.1) (0.15.2)\n",
            "Requirement already satisfied: protobuf>=3.4.0 in /usr/local/lib/python3.6/dist-packages (from google-api-core<2.0.0dev,>=1.14.0->google-cloud-core<2.0dev,>=1.0.0->google-cloud-storage->smart-open>=1.8.1->gensim==3.8.1) (3.10.0)\n",
            "Requirement already satisfied: pytz in /usr/local/lib/python3.6/dist-packages (from google-api-core<2.0.0dev,>=1.14.0->google-cloud-core<2.0dev,>=1.0.0->google-cloud-storage->smart-open>=1.8.1->gensim==3.8.1) (2018.9)\n",
            "Requirement already satisfied: googleapis-common-protos<2.0dev,>=1.6.0 in /usr/local/lib/python3.6/dist-packages (from google-api-core<2.0.0dev,>=1.14.0->google-cloud-core<2.0dev,>=1.0.0->google-cloud-storage->smart-open>=1.8.1->gensim==3.8.1) (1.51.0)\n",
            "Requirement already satisfied: pyasn1<0.5.0,>=0.4.6 in /usr/local/lib/python3.6/dist-packages (from pyasn1-modules>=0.2.1->google-auth>=1.2.0->google-cloud-storage->smart-open>=1.8.1->gensim==3.8.1) (0.4.8)\n",
            "Installing collected packages: gensim\n",
            "  Found existing installation: gensim 3.6.0\n",
            "    Uninstalling gensim-3.6.0:\n",
            "      Successfully uninstalled gensim-3.6.0\n",
            "Successfully installed gensim-3.8.1\n"
          ],
          "name": "stdout"
        }
      ]
    },
    {
      "cell_type": "code",
      "metadata": {
        "id": "-LPWD5uFAQmp",
        "colab_type": "code",
        "outputId": "6ae41f74-a8be-4c9d-f573-b0a377aee9ac",
        "colab": {
          "base_uri": "https://localhost:8080/",
          "height": 54
        }
      },
      "source": [
        "from google.colab import drive\n",
        "drive.mount('/content/drive')"
      ],
      "execution_count": 5,
      "outputs": [
        {
          "output_type": "stream",
          "text": [
            "Drive already mounted at /content/drive; to attempt to forcibly remount, call drive.mount(\"/content/drive\", force_remount=True).\n"
          ],
          "name": "stdout"
        }
      ]
    },
    {
      "cell_type": "code",
      "metadata": {
        "id": "H8MMKcrEo3ZM",
        "colab_type": "code",
        "outputId": "56c4c1b4-ed8b-41da-a224-445c8be913dc",
        "colab": {
          "base_uri": "https://localhost:8080/",
          "height": 34
        }
      },
      "source": [
        "import os\n",
        "os.chdir(os.path.join('drive', 'My Drive', 'ift6759', 'ift6759-t6-p2'))\n",
        "os.getcwd()"
      ],
      "execution_count": 2,
      "outputs": [
        {
          "output_type": "execute_result",
          "data": {
            "text/plain": [
              "'/content/drive/My Drive/ift6759/ift6759-t6-p2'"
            ]
          },
          "metadata": {
            "tags": []
          },
          "execution_count": 2
        }
      ]
    },
    {
      "cell_type": "code",
      "metadata": {
        "id": "guKjdS2R8j2k",
        "colab_type": "code",
        "colab": {}
      },
      "source": [
        "!python train_seq_2_seq_model.py \\\n",
        "--model_name GRU \\\n",
        "--batch_size 8 \\\n",
        "--epochs 2 \\\n",
        "--lr 0.001 \\\n",
        "--steps_per_epoch 100 \\\n",
        "--units 128 \\\n",
        "--embedding_dim 128 \\\n",
        "--load_embedding\n",
        "--enc_embd_start_train_epoch 5 \\\n",
        "--dec_embd_start_train_epoch 5 \\\n",
        "--enc_gru_start_train_epoch 5 \\\n",
        "--dec_gru_start_train_epoch 5 \\\n",
        "--encoder_lang_model_task unformated_en_w2w \\\n",
        "--decoder_lang_model_task unformated_fr_w2w "
      ],
      "execution_count": 0,
      "outputs": []
    },
    {
      "cell_type": "code",
      "metadata": {
        "id": "sn_6QbIUpLGd",
        "colab_type": "code",
        "colab": {}
      },
      "source": [
        "!python train_seq_2_seq_model.py \\\n",
        "--model_name GRU \\\n",
        "--batch_size 8 \\\n",
        "--epochs 2 \\\n",
        "--lr 0.001 \\\n",
        "--steps_per_epoch 100 \\\n",
        "--units 128 \\\n",
        "--embedding_dim 128 \\\n",
        "--load_embedding\n",
        "--enc_embd_start_train_epoch 5 \\\n",
        "--dec_embd_start_train_epoch 5 \\\n",
        "--enc_gru_start_train_epoch 5 \\\n",
        "--dec_gru_start_train_epoch 5 \\\n",
        "--encoder_lang_model_task unformated_fr_c2c \\\n",
        "--decoder_lang_model_task formated_fr_c2c "
      ],
      "execution_count": 0,
      "outputs": []
    },
    {
      "cell_type": "markdown",
      "metadata": {
        "id": "-fhxsYVeDcoa",
        "colab_type": "text"
      },
      "source": [
        "### Transformer"
      ]
    },
    {
      "cell_type": "code",
      "metadata": {
        "id": "rd3GCEFm_JYk",
        "colab_type": "code",
        "outputId": "d927471a-f636-42b6-d871-3730e7526798",
        "colab": {
          "base_uri": "https://localhost:8080/",
          "height": 1000
        }
      },
      "source": [
        "!python train_seq_2_seq_model.py \\\n",
        "--model_name Transformer \\\n",
        "--validation_freq 3 \\\n",
        "--batch_size 16 \\\n",
        "--lr 0.001 \\\n",
        "--steps_per_epoch 100 \\\n",
        "--epochs 20 \\\n",
        "--load_embedding \\\n",
        "--num_layers 2 \\\n",
        "--atten_dim 64 \\\n",
        "--num_heads 8 \\\n",
        "--ff_dim 128 \\\n",
        "--encoder_lang_model_task unformated_en_w2w \\\n",
        "--decoder_lang_model_task unformated_fr_w2w"
      ],
      "execution_count": 0,
      "outputs": [
        {
          "output_type": "stream",
          "text": [
            "2020-04-15 02:48:02.498416: I tensorflow/stream_executor/platform/default/dso_loader.cc:44] Successfully opened dynamic library libcudart.so.10.1\n",
            "100% 11000/11000 [00:08<00:00, 1323.74it/s]\n",
            "100% 11000/11000 [00:09<00:00, 1219.27it/s]\n",
            "#### ENC-DEC DATA Preprocessed ####\n",
            "Enc: {'max_seq': 97, 'vocab_size': 20000, 'remove_punctuation': True, 'embedding_dim': 64, 'fasttext_model': 'embeddings/unformated_en_w2w/64/unaligned_unformated_en', 'CAP': True, 'UPPER': True, 'NUM': True, 'ALNUM': True, 'lower': False, 'threshold': 0.7, 'tokenize_type': 'w', 'data_file': 'data/aligned_unformated_en'}\n",
            "Dec: {'max_seq': 113, 'vocab_size': 25000, 'remove_punctuation': True, 'embedding_dim': 64, 'fasttext_model': 'embeddings/unformated_fr_w2w/64/unaligned_unformated_fr', 'CAP': True, 'UPPER': True, 'NUM': True, 'ALNUM': True, 'lower': False, 'threshold': 0.7, 'tokenize_type': 'w', 'data_file': 'data/aligned_unformated_fr'}\n",
            "2020-04-15 02:48:25.592220: I tensorflow/stream_executor/platform/default/dso_loader.cc:44] Successfully opened dynamic library libcuda.so.1\n",
            "2020-04-15 02:48:25.617412: I tensorflow/stream_executor/cuda/cuda_gpu_executor.cc:981] successful NUMA node read from SysFS had negative value (-1), but there must be at least one NUMA node, so returning NUMA node zero\n",
            "2020-04-15 02:48:25.617959: I tensorflow/core/common_runtime/gpu/gpu_device.cc:1561] Found device 0 with properties: \n",
            "pciBusID: 0000:00:04.0 name: Tesla P100-PCIE-16GB computeCapability: 6.0\n",
            "coreClock: 1.3285GHz coreCount: 56 deviceMemorySize: 15.90GiB deviceMemoryBandwidth: 681.88GiB/s\n",
            "2020-04-15 02:48:25.618009: I tensorflow/stream_executor/platform/default/dso_loader.cc:44] Successfully opened dynamic library libcudart.so.10.1\n",
            "2020-04-15 02:48:25.618069: I tensorflow/stream_executor/platform/default/dso_loader.cc:44] Successfully opened dynamic library libcublas.so.10\n",
            "2020-04-15 02:48:25.618098: I tensorflow/stream_executor/platform/default/dso_loader.cc:44] Successfully opened dynamic library libcufft.so.10\n",
            "2020-04-15 02:48:25.618129: I tensorflow/stream_executor/platform/default/dso_loader.cc:44] Successfully opened dynamic library libcurand.so.10\n",
            "2020-04-15 02:48:25.618159: I tensorflow/stream_executor/platform/default/dso_loader.cc:44] Successfully opened dynamic library libcusolver.so.10\n",
            "2020-04-15 02:48:25.618894: I tensorflow/stream_executor/platform/default/dso_loader.cc:44] Successfully opened dynamic library libcusparse.so.10\n",
            "2020-04-15 02:48:25.618983: I tensorflow/stream_executor/platform/default/dso_loader.cc:44] Successfully opened dynamic library libcudnn.so.7\n",
            "2020-04-15 02:48:25.619071: I tensorflow/stream_executor/cuda/cuda_gpu_executor.cc:981] successful NUMA node read from SysFS had negative value (-1), but there must be at least one NUMA node, so returning NUMA node zero\n",
            "2020-04-15 02:48:25.619646: I tensorflow/stream_executor/cuda/cuda_gpu_executor.cc:981] successful NUMA node read from SysFS had negative value (-1), but there must be at least one NUMA node, so returning NUMA node zero\n",
            "2020-04-15 02:48:25.620164: I tensorflow/core/common_runtime/gpu/gpu_device.cc:1703] Adding visible gpu devices: 0\n",
            "2020-04-15 02:48:25.620521: I tensorflow/core/platform/cpu_feature_guard.cc:143] Your CPU supports instructions that this TensorFlow binary was not compiled to use: AVX512F\n",
            "2020-04-15 02:48:25.624904: I tensorflow/core/platform/profile_utils/cpu_utils.cc:102] CPU Frequency: 2000179999 Hz\n",
            "2020-04-15 02:48:25.625071: I tensorflow/compiler/xla/service/service.cc:168] XLA service 0x2cf9480 initialized for platform Host (this does not guarantee that XLA will be used). Devices:\n",
            "2020-04-15 02:48:25.625096: I tensorflow/compiler/xla/service/service.cc:176]   StreamExecutor device (0): Host, Default Version\n",
            "2020-04-15 02:48:25.695539: I tensorflow/stream_executor/cuda/cuda_gpu_executor.cc:981] successful NUMA node read from SysFS had negative value (-1), but there must be at least one NUMA node, so returning NUMA node zero\n",
            "2020-04-15 02:48:25.697139: I tensorflow/compiler/xla/service/service.cc:168] XLA service 0x2cf92c0 initialized for platform CUDA (this does not guarantee that XLA will be used). Devices:\n",
            "2020-04-15 02:48:25.697208: I tensorflow/compiler/xla/service/service.cc:176]   StreamExecutor device (0): Tesla P100-PCIE-16GB, Compute Capability 6.0\n",
            "2020-04-15 02:48:25.697459: I tensorflow/stream_executor/cuda/cuda_gpu_executor.cc:981] successful NUMA node read from SysFS had negative value (-1), but there must be at least one NUMA node, so returning NUMA node zero\n",
            "2020-04-15 02:48:25.697976: I tensorflow/core/common_runtime/gpu/gpu_device.cc:1561] Found device 0 with properties: \n",
            "pciBusID: 0000:00:04.0 name: Tesla P100-PCIE-16GB computeCapability: 6.0\n",
            "coreClock: 1.3285GHz coreCount: 56 deviceMemorySize: 15.90GiB deviceMemoryBandwidth: 681.88GiB/s\n",
            "2020-04-15 02:48:25.698031: I tensorflow/stream_executor/platform/default/dso_loader.cc:44] Successfully opened dynamic library libcudart.so.10.1\n",
            "2020-04-15 02:48:25.698055: I tensorflow/stream_executor/platform/default/dso_loader.cc:44] Successfully opened dynamic library libcublas.so.10\n",
            "2020-04-15 02:48:25.698078: I tensorflow/stream_executor/platform/default/dso_loader.cc:44] Successfully opened dynamic library libcufft.so.10\n",
            "2020-04-15 02:48:25.698095: I tensorflow/stream_executor/platform/default/dso_loader.cc:44] Successfully opened dynamic library libcurand.so.10\n",
            "2020-04-15 02:48:25.698111: I tensorflow/stream_executor/platform/default/dso_loader.cc:44] Successfully opened dynamic library libcusolver.so.10\n",
            "2020-04-15 02:48:25.698151: I tensorflow/stream_executor/platform/default/dso_loader.cc:44] Successfully opened dynamic library libcusparse.so.10\n",
            "2020-04-15 02:48:25.698168: I tensorflow/stream_executor/platform/default/dso_loader.cc:44] Successfully opened dynamic library libcudnn.so.7\n",
            "2020-04-15 02:48:25.698266: I tensorflow/stream_executor/cuda/cuda_gpu_executor.cc:981] successful NUMA node read from SysFS had negative value (-1), but there must be at least one NUMA node, so returning NUMA node zero\n",
            "2020-04-15 02:48:25.698794: I tensorflow/stream_executor/cuda/cuda_gpu_executor.cc:981] successful NUMA node read from SysFS had negative value (-1), but there must be at least one NUMA node, so returning NUMA node zero\n",
            "2020-04-15 02:48:25.699296: I tensorflow/core/common_runtime/gpu/gpu_device.cc:1703] Adding visible gpu devices: 0\n",
            "2020-04-15 02:48:25.699361: I tensorflow/stream_executor/platform/default/dso_loader.cc:44] Successfully opened dynamic library libcudart.so.10.1\n",
            "2020-04-15 02:48:26.084649: I tensorflow/core/common_runtime/gpu/gpu_device.cc:1102] Device interconnect StreamExecutor with strength 1 edge matrix:\n",
            "2020-04-15 02:48:26.084701: I tensorflow/core/common_runtime/gpu/gpu_device.cc:1108]      0 \n",
            "2020-04-15 02:48:26.084714: I tensorflow/core/common_runtime/gpu/gpu_device.cc:1121] 0:   N \n",
            "2020-04-15 02:48:26.084926: I tensorflow/stream_executor/cuda/cuda_gpu_executor.cc:981] successful NUMA node read from SysFS had negative value (-1), but there must be at least one NUMA node, so returning NUMA node zero\n",
            "2020-04-15 02:48:26.085726: I tensorflow/stream_executor/cuda/cuda_gpu_executor.cc:981] successful NUMA node read from SysFS had negative value (-1), but there must be at least one NUMA node, so returning NUMA node zero\n",
            "2020-04-15 02:48:26.086293: W tensorflow/core/common_runtime/gpu/gpu_bfc_allocator.cc:39] Overriding allow_growth setting because the TF_FORCE_GPU_ALLOW_GROWTH environment variable is set. Original config value was 0.\n",
            "2020-04-15 02:48:26.086344: I tensorflow/core/common_runtime/gpu/gpu_device.cc:1247] Created TensorFlow device (/job:localhost/replica:0/task:0/device:GPU:0 with 14974 MB memory) -> physical GPU (device: 0, name: Tesla P100-PCIE-16GB, pci bus id: 0000:00:04.0, compute capability: 6.0)\n",
            "#### Datasets Loaded ####\n",
            "<RepeatDataset shapes: (((16, 97), (16, 113)), (16, 113)), types: ((tf.int32, tf.int32), tf.int32)> <RepeatDataset shapes: (((16, 97), (16, 113)), (16, 113)), types: ((tf.int32, tf.int32), tf.int32)>\n",
            "2020-04-15 02:48:26.169516: I tensorflow/core/profiler/lib/profiler_session.cc:159] Profiler session started.\n",
            "2020-04-15 02:48:26.169569: I tensorflow/core/profiler/internal/gpu/cupti_tracer.cc:1363] Profiler found 1 GPUs\n",
            "2020-04-15 02:48:26.170303: I tensorflow/stream_executor/platform/default/dso_loader.cc:44] Successfully opened dynamic library libcupti.so.10.1\n",
            "2020-04-15 02:48:26.245128: I tensorflow/core/profiler/internal/gpu/cupti_tracer.cc:1479] CUPTI activity buffer flushed\n",
            "#### Model Loaded ####\n",
            "Epoch 1/20\n",
            "2020-04-15 02:48:29.654952: I tensorflow/stream_executor/platform/default/dso_loader.cc:44] Successfully opened dynamic library libcublas.so.10\n",
            "2020-04-15 02:48:30.296596: I tensorflow/core/profiler/lib/profiler_session.cc:159] Profiler session started.\n",
            "  1/100 [..............................] - ETA: 0s - loss: 10.13092020-04-15 02:48:37.589223: I tensorflow/core/profiler/internal/gpu/cupti_tracer.cc:1479] CUPTI activity buffer flushed\n",
            "2020-04-15 02:48:37.679641: I tensorflow/core/profiler/internal/gpu/device_tracer.cc:216]  GpuTracer has collected 41141 callback api events and 41141 activity events.\n",
            "100/100 [==============================] - 360s 4s/step - loss: 7.5310\n",
            "Epoch 2/20\n",
            "100/100 [==============================] - 384s 4s/step - loss: 6.4725\n",
            "Epoch 3/20\n",
            "100/100 [==============================] - 888s 9s/step - loss: 6.3313 - val_loss: 6.3728\n",
            "Epoch 4/20\n",
            "100/100 [==============================] - 292s 3s/step - loss: 6.2510\n",
            "Epoch 5/20\n",
            "100/100 [==============================] - 247s 2s/step - loss: 6.1854\n",
            "Epoch 6/20\n",
            "100/100 [==============================] - 895s 9s/step - loss: 6.0603 - val_loss: 6.3506\n",
            "Epoch 7/20\n",
            "100/100 [==============================] - 366s 4s/step - loss: 5.9889\n",
            "Epoch 8/20\n",
            "100/100 [==============================] - 334s 3s/step - loss: 5.9285\n",
            "Epoch 9/20\n",
            "100/100 [==============================] - 910s 9s/step - loss: 5.9148 - val_loss: 6.2750\n",
            "Epoch 10/20\n",
            "100/100 [==============================] - 404s 4s/step - loss: 5.9713\n",
            "Epoch 11/20\n",
            "100/100 [==============================] - 370s 4s/step - loss: 5.9545\n",
            "Epoch 12/20\n",
            "100/100 [==============================] - 819s 8s/step - loss: 5.7486 - val_loss: 6.3108\n",
            "Epoch 13/20\n",
            "100/100 [==============================] - 304s 3s/step - loss: 5.7378\n",
            "Epoch 14/20\n",
            " 36/100 [=========>....................] - ETA: 2:55 - loss: 5.7241"
          ],
          "name": "stdout"
        }
      ]
    }
  ]
}