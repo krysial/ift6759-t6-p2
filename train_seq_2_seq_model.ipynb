{
  "nbformat": 4,
  "nbformat_minor": 0,
  "metadata": {
    "colab": {
      "name": "train_seq_2_seq_model.ipynb",
      "provenance": [],
      "collapsed_sections": [],
      "toc_visible": true
    },
    "kernelspec": {
      "name": "python3",
      "display_name": "Python 3"
    },
    "accelerator": "GPU"
  },
  "cells": [
    {
      "cell_type": "markdown",
      "metadata": {
        "id": "yeYQUfEueh-g",
        "colab_type": "text"
      },
      "source": [
        "### GRU"
      ]
    },
    {
      "cell_type": "markdown",
      "metadata": {
        "id": "FRT13BigelSA",
        "colab_type": "text"
      },
      "source": [
        "#### unformated_en_2_unformated_fr_w2w"
      ]
    },
    {
      "cell_type": "code",
      "metadata": {
        "id": "guKjdS2R8j2k",
        "colab_type": "code",
        "colab": {}
      },
      "source": [
        "!python train_seq_2_seq_model.py \\\n",
        "--model_name GRU \\\n",
        "--batch_size 8 \\\n",
        "--epochs 2 \\\n",
        "--lr 0.001 \\\n",
        "--steps_per_epoch 100 \\\n",
        "--units 128 \\\n",
        "--enc_embedding_dim 128 \\\n",
        "--dec_embedding_dim 128 \\\n",
        "--load_embedding \\\n",
        "--enc_embd_start_train_epoch 5 \\\n",
        "--dec_embd_start_train_epoch 5 \\\n",
        "--enc_gru_start_train_epoch 5 \\\n",
        "--dec_gru_start_train_epoch 5 \\\n",
        "--encoder_lang_model_task unformated_en_w2w \\\n",
        "--decoder_lang_model_task unformated_fr_w2w "
      ],
      "execution_count": 0,
      "outputs": []
    },
    {
      "cell_type": "markdown",
      "metadata": {
        "id": "S9qFuqEMeo5M",
        "colab_type": "text"
      },
      "source": [
        "#### unformated_fr_2_formated_fr_c2c\n"
      ]
    },
    {
      "cell_type": "code",
      "metadata": {
        "id": "sn_6QbIUpLGd",
        "colab_type": "code",
        "colab": {}
      },
      "source": [
        "!python train_seq_2_seq_model.py \\\n",
        "--model_name GRU \\\n",
        "--batch_size 8 \\\n",
        "--epochs 2 \\\n",
        "--lr 0.001 \\\n",
        "--steps_per_epoch 100 \\\n",
        "--units 128 \\\n",
        "--embedding_dim 128 \\\n",
        "--load_embedding \\\n",
        "--enc_embd_start_train_epoch 5 \\\n",
        "--dec_embd_start_train_epoch 5 \\\n",
        "--enc_gru_start_train_epoch 5 \\\n",
        "--dec_gru_start_train_epoch 5 \\\n",
        "--encoder_lang_model_task unformated_fr_c2c \\\n",
        "--decoder_lang_model_task formated_fr_c2c "
      ],
      "execution_count": 0,
      "outputs": []
    },
    {
      "cell_type": "markdown",
      "metadata": {
        "colab_type": "text",
        "id": "L1I_q4I5j--n"
      },
      "source": [
        "#### unformated_en_2_formated_fr_w2w\n"
      ]
    },
    {
      "cell_type": "code",
      "metadata": {
        "colab_type": "code",
        "id": "qxNaaVhZj--r",
        "colab": {}
      },
      "source": [
        "!python train_seq_2_seq_model.py \\\n",
        "--model_name GRU \\\n",
        "--batch_size 8 \\\n",
        "--epochs 2 \\\n",
        "--lr 0.001 \\\n",
        "--steps_per_epoch 100 \\\n",
        "--units 128 \\\n",
        "--enc_embedding_dim 128 \\\n",
        "--dec_embedding_dim 128 \\\n",
        "--load_embedding \\\n",
        "--enc_embd_start_train_epoch 5 \\\n",
        "--dec_embd_start_train_epoch 5 \\\n",
        "--enc_gru_start_train_epoch 5 \\\n",
        "--dec_gru_start_train_epoch 5 \\\n",
        "--encoder_lang_model_task unformated_en_w2w \\\n",
        "--decoder_lang_model_task formated_fr_w2w "
      ],
      "execution_count": 0,
      "outputs": []
    },
    {
      "cell_type": "markdown",
      "metadata": {
        "id": "0MCu0aEU4HP4",
        "colab_type": "text"
      },
      "source": [
        "### Transformer\n",
        "\n"
      ]
    },
    {
      "cell_type": "markdown",
      "metadata": {
        "id": "THHT2gkHeIvG",
        "colab_type": "text"
      },
      "source": [
        "#### unformated_en_2_formated_fr_w2w\n"
      ]
    },
    {
      "cell_type": "code",
      "metadata": {
        "id": "gXckfFFseHwo",
        "colab_type": "code",
        "colab": {
          "base_uri": "https://localhost:8080/",
          "height": 83
        },
        "outputId": "d31ff9fa-36f1-4797-88d2-3c0ce1cb9d43"
      },
      "source": [
        "!python train_seq_2_seq_model.py \\\n",
        "--model_name Transformer \\\n",
        "--validation_freq 5 \\\n",
        "--batch_size 16 \\\n",
        "--lr 0.01 \\\n",
        "--steps_per_epoch 100 \\\n",
        "--epochs 30 \\\n",
        "--load_embedding \\\n",
        "--enc_embd_start_train_epoch 5 \\\n",
        "--dec_embd_start_train_epoch 5 \\\n",
        "--num_layers 2 \\\n",
        "--atten_dim 64 \\\n",
        "--num_heads 8 \\\n",
        "--ff_dim 64 \\\n",
        "--encoder_lang_model_task unformated_en_w2w \\\n",
        "--decoder_lang_model_task formated_fr_w2w"
      ],
      "execution_count": 0,
      "outputs": [
        {
          "output_type": "stream",
          "text": [
            "2020-04-16 01:25:16.596476: I tensorflow/stream_executor/platform/default/dso_loader.cc:44] Successfully opened dynamic library libcudart.so.10.1\n"
          ],
          "name": "stdout"
        }
      ]
    },
    {
      "cell_type": "markdown",
      "metadata": {
        "id": "otVV3aAKeUBx",
        "colab_type": "text"
      },
      "source": [
        "#### unformated_en_2_unformated_fr_w2w\n"
      ]
    },
    {
      "cell_type": "code",
      "metadata": {
        "id": "rd3GCEFm_JYk",
        "colab_type": "code",
        "outputId": "c1572d63-14bc-446e-d72b-82339c8a7d0d",
        "colab": {
          "base_uri": "https://localhost:8080/",
          "height": 1000
        }
      },
      "source": [
        "!python train_seq_2_seq_model.py \\\n",
        "--model_name Transformer \\\n",
        "--validation_freq 5 \\\n",
        "--batch_size 16 \\\n",
        "--lr 0.01 \\\n",
        "--steps_per_epoch 100 \\\n",
        "--epochs 30 \\\n",
        "--load_embedding \\\n",
        "--enc_embd_start_train_epoch 5 \\\n",
        "--dec_embd_start_train_epoch 5 \\\n",
        "--num_layers 2 \\\n",
        "--atten_dim 64 \\\n",
        "--num_heads 8 \\\n",
        "--ff_dim 128 \\\n",
        "--encoder_lang_model_task unformated_en_w2w \\\n",
        "--decoder_lang_model_task unformated_fr_w2w"
      ],
      "execution_count": 0,
      "outputs": [
        {
          "output_type": "stream",
          "text": [
            "2020-04-15 06:36:18.068267: I tensorflow/stream_executor/platform/default/dso_loader.cc:44] Successfully opened dynamic library libcudart.so.10.1\n",
            "100% 11000/11000 [00:08<00:00, 1324.67it/s]\n",
            "100% 11000/11000 [00:08<00:00, 1271.48it/s]\n",
            "#### ENC-DEC DATA Preprocessed ####\n",
            "Enc: {'max_seq': 97, 'vocab_size': 20000, 'remove_punctuation': True, 'embedding_dim': 8, 'fasttext_model': 'embeddings/unformated_en_w2w/64/unaligned_unformated_en', 'CAP': True, 'UPPER': True, 'NUM': True, 'ALNUM': True, 'lower': False, 'threshold': 0.7, 'tokenize_type': 'w', 'data_file': 'data/aligned_unformated_en'}\n",
            "Dec: {'max_seq': 113, 'vocab_size': 25000, 'remove_punctuation': True, 'embedding_dim': 8, 'fasttext_model': 'embeddings/unformated_fr_w2w/64/unaligned_unformated_fr', 'CAP': True, 'UPPER': True, 'NUM': True, 'ALNUM': True, 'lower': False, 'threshold': 0.7, 'tokenize_type': 'w', 'data_file': 'data/aligned_unformated_fr'}\n",
            "2020-04-15 06:36:40.686778: I tensorflow/stream_executor/platform/default/dso_loader.cc:44] Successfully opened dynamic library libcuda.so.1\n",
            "2020-04-15 06:36:40.705713: I tensorflow/stream_executor/cuda/cuda_gpu_executor.cc:981] successful NUMA node read from SysFS had negative value (-1), but there must be at least one NUMA node, so returning NUMA node zero\n",
            "2020-04-15 06:36:40.706395: I tensorflow/core/common_runtime/gpu/gpu_device.cc:1561] Found device 0 with properties: \n",
            "pciBusID: 0000:00:04.0 name: Tesla P100-PCIE-16GB computeCapability: 6.0\n",
            "coreClock: 1.3285GHz coreCount: 56 deviceMemorySize: 15.90GiB deviceMemoryBandwidth: 681.88GiB/s\n",
            "2020-04-15 06:36:40.706463: I tensorflow/stream_executor/platform/default/dso_loader.cc:44] Successfully opened dynamic library libcudart.so.10.1\n",
            "2020-04-15 06:36:40.706532: I tensorflow/stream_executor/platform/default/dso_loader.cc:44] Successfully opened dynamic library libcublas.so.10\n",
            "2020-04-15 06:36:40.706572: I tensorflow/stream_executor/platform/default/dso_loader.cc:44] Successfully opened dynamic library libcufft.so.10\n",
            "2020-04-15 06:36:40.706620: I tensorflow/stream_executor/platform/default/dso_loader.cc:44] Successfully opened dynamic library libcurand.so.10\n",
            "2020-04-15 06:36:40.706652: I tensorflow/stream_executor/platform/default/dso_loader.cc:44] Successfully opened dynamic library libcusolver.so.10\n",
            "2020-04-15 06:36:40.707667: I tensorflow/stream_executor/platform/default/dso_loader.cc:44] Successfully opened dynamic library libcusparse.so.10\n",
            "2020-04-15 06:36:40.707741: I tensorflow/stream_executor/platform/default/dso_loader.cc:44] Successfully opened dynamic library libcudnn.so.7\n",
            "2020-04-15 06:36:40.707842: I tensorflow/stream_executor/cuda/cuda_gpu_executor.cc:981] successful NUMA node read from SysFS had negative value (-1), but there must be at least one NUMA node, so returning NUMA node zero\n",
            "2020-04-15 06:36:40.708637: I tensorflow/stream_executor/cuda/cuda_gpu_executor.cc:981] successful NUMA node read from SysFS had negative value (-1), but there must be at least one NUMA node, so returning NUMA node zero\n",
            "2020-04-15 06:36:40.709380: I tensorflow/core/common_runtime/gpu/gpu_device.cc:1703] Adding visible gpu devices: 0\n",
            "2020-04-15 06:36:40.714382: I tensorflow/core/platform/profile_utils/cpu_utils.cc:102] CPU Frequency: 2200000000 Hz\n",
            "2020-04-15 06:36:40.714587: I tensorflow/compiler/xla/service/service.cc:168] XLA service 0x30ab480 initialized for platform Host (this does not guarantee that XLA will be used). Devices:\n",
            "2020-04-15 06:36:40.714612: I tensorflow/compiler/xla/service/service.cc:176]   StreamExecutor device (0): Host, Default Version\n",
            "2020-04-15 06:36:40.785265: I tensorflow/stream_executor/cuda/cuda_gpu_executor.cc:981] successful NUMA node read from SysFS had negative value (-1), but there must be at least one NUMA node, so returning NUMA node zero\n",
            "2020-04-15 06:36:40.785925: I tensorflow/compiler/xla/service/service.cc:168] XLA service 0x30ab2c0 initialized for platform CUDA (this does not guarantee that XLA will be used). Devices:\n",
            "2020-04-15 06:36:40.785954: I tensorflow/compiler/xla/service/service.cc:176]   StreamExecutor device (0): Tesla P100-PCIE-16GB, Compute Capability 6.0\n",
            "2020-04-15 06:36:40.786197: I tensorflow/stream_executor/cuda/cuda_gpu_executor.cc:981] successful NUMA node read from SysFS had negative value (-1), but there must be at least one NUMA node, so returning NUMA node zero\n",
            "2020-04-15 06:36:40.786704: I tensorflow/core/common_runtime/gpu/gpu_device.cc:1561] Found device 0 with properties: \n",
            "pciBusID: 0000:00:04.0 name: Tesla P100-PCIE-16GB computeCapability: 6.0\n",
            "coreClock: 1.3285GHz coreCount: 56 deviceMemorySize: 15.90GiB deviceMemoryBandwidth: 681.88GiB/s\n",
            "2020-04-15 06:36:40.786749: I tensorflow/stream_executor/platform/default/dso_loader.cc:44] Successfully opened dynamic library libcudart.so.10.1\n",
            "2020-04-15 06:36:40.786774: I tensorflow/stream_executor/platform/default/dso_loader.cc:44] Successfully opened dynamic library libcublas.so.10\n",
            "2020-04-15 06:36:40.786795: I tensorflow/stream_executor/platform/default/dso_loader.cc:44] Successfully opened dynamic library libcufft.so.10\n",
            "2020-04-15 06:36:40.786812: I tensorflow/stream_executor/platform/default/dso_loader.cc:44] Successfully opened dynamic library libcurand.so.10\n",
            "2020-04-15 06:36:40.786827: I tensorflow/stream_executor/platform/default/dso_loader.cc:44] Successfully opened dynamic library libcusolver.so.10\n",
            "2020-04-15 06:36:40.786861: I tensorflow/stream_executor/platform/default/dso_loader.cc:44] Successfully opened dynamic library libcusparse.so.10\n",
            "2020-04-15 06:36:40.786878: I tensorflow/stream_executor/platform/default/dso_loader.cc:44] Successfully opened dynamic library libcudnn.so.7\n",
            "2020-04-15 06:36:40.786954: I tensorflow/stream_executor/cuda/cuda_gpu_executor.cc:981] successful NUMA node read from SysFS had negative value (-1), but there must be at least one NUMA node, so returning NUMA node zero\n",
            "2020-04-15 06:36:40.787584: I tensorflow/stream_executor/cuda/cuda_gpu_executor.cc:981] successful NUMA node read from SysFS had negative value (-1), but there must be at least one NUMA node, so returning NUMA node zero\n",
            "2020-04-15 06:36:40.788137: I tensorflow/core/common_runtime/gpu/gpu_device.cc:1703] Adding visible gpu devices: 0\n",
            "2020-04-15 06:36:40.788199: I tensorflow/stream_executor/platform/default/dso_loader.cc:44] Successfully opened dynamic library libcudart.so.10.1\n",
            "2020-04-15 06:36:41.160616: I tensorflow/core/common_runtime/gpu/gpu_device.cc:1102] Device interconnect StreamExecutor with strength 1 edge matrix:\n",
            "2020-04-15 06:36:41.160672: I tensorflow/core/common_runtime/gpu/gpu_device.cc:1108]      0 \n",
            "2020-04-15 06:36:41.160685: I tensorflow/core/common_runtime/gpu/gpu_device.cc:1121] 0:   N \n",
            "2020-04-15 06:36:41.160909: I tensorflow/stream_executor/cuda/cuda_gpu_executor.cc:981] successful NUMA node read from SysFS had negative value (-1), but there must be at least one NUMA node, so returning NUMA node zero\n",
            "2020-04-15 06:36:41.161679: I tensorflow/stream_executor/cuda/cuda_gpu_executor.cc:981] successful NUMA node read from SysFS had negative value (-1), but there must be at least one NUMA node, so returning NUMA node zero\n",
            "2020-04-15 06:36:41.162453: W tensorflow/core/common_runtime/gpu/gpu_bfc_allocator.cc:39] Overriding allow_growth setting because the TF_FORCE_GPU_ALLOW_GROWTH environment variable is set. Original config value was 0.\n",
            "2020-04-15 06:36:41.162512: I tensorflow/core/common_runtime/gpu/gpu_device.cc:1247] Created TensorFlow device (/job:localhost/replica:0/task:0/device:GPU:0 with 14974 MB memory) -> physical GPU (device: 0, name: Tesla P100-PCIE-16GB, pci bus id: 0000:00:04.0, compute capability: 6.0)\n",
            "#### Datasets Loaded ####\n",
            "<RepeatDataset shapes: (((16, 97), (16, 113)), (16, 113)), types: ((tf.int32, tf.int32), tf.int32)> <RepeatDataset shapes: (((16, 97), (16, 113)), (16, 113)), types: ((tf.int32, tf.int32), tf.int32)>\n",
            "2020-04-15 06:36:41.245991: I tensorflow/core/profiler/lib/profiler_session.cc:159] Profiler session started.\n",
            "2020-04-15 06:36:41.246118: I tensorflow/core/profiler/internal/gpu/cupti_tracer.cc:1363] Profiler found 1 GPUs\n",
            "2020-04-15 06:36:41.246896: I tensorflow/stream_executor/platform/default/dso_loader.cc:44] Successfully opened dynamic library libcupti.so.10.1\n",
            "2020-04-15 06:36:41.319345: I tensorflow/core/profiler/internal/gpu/cupti_tracer.cc:1479] CUPTI activity buffer flushed\n",
            "#### Model Loaded ####\n",
            "Epoch 1/30\n",
            "2020-04-15 06:36:44.679503: I tensorflow/stream_executor/platform/default/dso_loader.cc:44] Successfully opened dynamic library libcublas.so.10\n",
            "2020-04-15 06:36:49.771076: I tensorflow/core/profiler/lib/profiler_session.cc:159] Profiler session started.\n",
            "  1/100 [..............................] - ETA: 0s - loss: 10.13182020-04-15 06:36:49.902813: I tensorflow/core/profiler/internal/gpu/cupti_tracer.cc:1479] CUPTI activity buffer flushed\n",
            "2020-04-15 06:36:49.905592: I tensorflow/core/profiler/internal/gpu/device_tracer.cc:216]  GpuTracer has collected 1129 callback api events and 1129 activity events.\n",
            "100/100 [==============================] - 247s 2s/step - loss: 6.8639\n",
            "Epoch 2/30\n",
            "100/100 [==============================] - 188s 2s/step - loss: 6.5949\n",
            "Epoch 3/30\n",
            "100/100 [==============================] - 200s 2s/step - loss: 6.5395\n",
            "Epoch 4/30\n",
            "100/100 [==============================] - 222s 2s/step - loss: 6.5144\n",
            "Epoch 5/30\n",
            "100/100 [==============================] - 633s 6s/step - loss: 6.5406 - val_loss: 6.5398\n",
            "Epoch 6/30\n",
            "100/100 [==============================] - 259s 3s/step - loss: 6.4849\n",
            "Epoch 7/30\n",
            "100/100 [==============================] - 234s 2s/step - loss: 6.4144\n",
            "Epoch 8/30\n",
            "100/100 [==============================] - 225s 2s/step - loss: 6.4216\n",
            "Epoch 9/30\n",
            "100/100 [==============================] - 216s 2s/step - loss: 6.4264\n",
            "Epoch 10/30\n",
            "100/100 [==============================] - 597s 6s/step - loss: 6.4332 - val_loss: 6.5557\n",
            "Epoch 11/30\n",
            " 46/100 [============>.................] - ETA: 1:47 - loss: 6.4470"
          ],
          "name": "stdout"
        }
      ]
    },
    {
      "cell_type": "code",
      "metadata": {
        "id": "NHaMa4vIauWS",
        "colab_type": "code",
        "colab": {}
      },
      "source": [
        ""
      ],
      "execution_count": 0,
      "outputs": []
    }
  ]
}