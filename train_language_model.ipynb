{
  "nbformat": 4,
  "nbformat_minor": 0,
  "metadata": {
    "colab": {
      "name": "train_language_model.ipynb",
      "provenance": [],
      "collapsed_sections": [
        "G33ZAtYtjVeu"
      ],
      "toc_visible": true,
      "machine_shape": "hm"
    },
    "kernelspec": {
      "name": "python3",
      "display_name": "Python 3"
    }
  },
  "cells": [
    {
      "cell_type": "code",
      "metadata": {
        "id": "8QJtXh6MLkwG",
        "colab_type": "code",
        "outputId": "1da9b8c6-7461-46e9-eed4-f2ab4e0b0c57",
        "colab": {
          "base_uri": "https://localhost:8080/",
          "height": 530
        }
      },
      "source": [
        "!pip install gensim==3.8.1"
      ],
      "execution_count": 2,
      "outputs": [
        {
          "output_type": "stream",
          "text": [
            "Requirement already satisfied: gensim==3.8.1 in /usr/local/lib/python3.6/dist-packages (3.8.1)\n",
            "Requirement already satisfied: scipy>=0.18.1 in /usr/local/lib/python3.6/dist-packages (from gensim==3.8.1) (1.4.1)\n",
            "Requirement already satisfied: six>=1.5.0 in /usr/local/lib/python3.6/dist-packages (from gensim==3.8.1) (1.12.0)\n",
            "Requirement already satisfied: numpy>=1.11.3 in /usr/local/lib/python3.6/dist-packages (from gensim==3.8.1) (1.18.2)\n",
            "Requirement already satisfied: smart-open>=1.8.1 in /usr/local/lib/python3.6/dist-packages (from gensim==3.8.1) (1.10.0)\n",
            "Requirement already satisfied: boto3 in /usr/local/lib/python3.6/dist-packages (from smart-open>=1.8.1->gensim==3.8.1) (1.12.38)\n",
            "Requirement already satisfied: google-cloud-storage in /usr/local/lib/python3.6/dist-packages (from smart-open>=1.8.1->gensim==3.8.1) (1.18.1)\n",
            "Requirement already satisfied: requests in /usr/local/lib/python3.6/dist-packages (from smart-open>=1.8.1->gensim==3.8.1) (2.21.0)\n",
            "Requirement already satisfied: botocore<1.16.0,>=1.15.38 in /usr/local/lib/python3.6/dist-packages (from boto3->smart-open>=1.8.1->gensim==3.8.1) (1.15.38)\n",
            "Requirement already satisfied: s3transfer<0.4.0,>=0.3.0 in /usr/local/lib/python3.6/dist-packages (from boto3->smart-open>=1.8.1->gensim==3.8.1) (0.3.3)\n",
            "Requirement already satisfied: jmespath<1.0.0,>=0.7.1 in /usr/local/lib/python3.6/dist-packages (from boto3->smart-open>=1.8.1->gensim==3.8.1) (0.9.5)\n",
            "Requirement already satisfied: google-auth>=1.2.0 in /usr/local/lib/python3.6/dist-packages (from google-cloud-storage->smart-open>=1.8.1->gensim==3.8.1) (1.7.2)\n",
            "Requirement already satisfied: google-cloud-core<2.0dev,>=1.0.0 in /usr/local/lib/python3.6/dist-packages (from google-cloud-storage->smart-open>=1.8.1->gensim==3.8.1) (1.0.3)\n",
            "Requirement already satisfied: google-resumable-media<0.5.0dev,>=0.3.1 in /usr/local/lib/python3.6/dist-packages (from google-cloud-storage->smart-open>=1.8.1->gensim==3.8.1) (0.4.1)\n",
            "Requirement already satisfied: urllib3<1.25,>=1.21.1 in /usr/local/lib/python3.6/dist-packages (from requests->smart-open>=1.8.1->gensim==3.8.1) (1.24.3)\n",
            "Requirement already satisfied: idna<2.9,>=2.5 in /usr/local/lib/python3.6/dist-packages (from requests->smart-open>=1.8.1->gensim==3.8.1) (2.8)\n",
            "Requirement already satisfied: chardet<3.1.0,>=3.0.2 in /usr/local/lib/python3.6/dist-packages (from requests->smart-open>=1.8.1->gensim==3.8.1) (3.0.4)\n",
            "Requirement already satisfied: certifi>=2017.4.17 in /usr/local/lib/python3.6/dist-packages (from requests->smart-open>=1.8.1->gensim==3.8.1) (2020.4.5.1)\n",
            "Requirement already satisfied: docutils<0.16,>=0.10 in /usr/local/lib/python3.6/dist-packages (from botocore<1.16.0,>=1.15.38->boto3->smart-open>=1.8.1->gensim==3.8.1) (0.15.2)\n",
            "Requirement already satisfied: python-dateutil<3.0.0,>=2.1 in /usr/local/lib/python3.6/dist-packages (from botocore<1.16.0,>=1.15.38->boto3->smart-open>=1.8.1->gensim==3.8.1) (2.8.1)\n",
            "Requirement already satisfied: rsa<4.1,>=3.1.4 in /usr/local/lib/python3.6/dist-packages (from google-auth>=1.2.0->google-cloud-storage->smart-open>=1.8.1->gensim==3.8.1) (4.0)\n",
            "Requirement already satisfied: setuptools>=40.3.0 in /usr/local/lib/python3.6/dist-packages (from google-auth>=1.2.0->google-cloud-storage->smart-open>=1.8.1->gensim==3.8.1) (46.1.3)\n",
            "Requirement already satisfied: cachetools<3.2,>=2.0.0 in /usr/local/lib/python3.6/dist-packages (from google-auth>=1.2.0->google-cloud-storage->smart-open>=1.8.1->gensim==3.8.1) (3.1.1)\n",
            "Requirement already satisfied: pyasn1-modules>=0.2.1 in /usr/local/lib/python3.6/dist-packages (from google-auth>=1.2.0->google-cloud-storage->smart-open>=1.8.1->gensim==3.8.1) (0.2.8)\n",
            "Requirement already satisfied: google-api-core<2.0.0dev,>=1.14.0 in /usr/local/lib/python3.6/dist-packages (from google-cloud-core<2.0dev,>=1.0.0->google-cloud-storage->smart-open>=1.8.1->gensim==3.8.1) (1.16.0)\n",
            "Requirement already satisfied: pyasn1>=0.1.3 in /usr/local/lib/python3.6/dist-packages (from rsa<4.1,>=3.1.4->google-auth>=1.2.0->google-cloud-storage->smart-open>=1.8.1->gensim==3.8.1) (0.4.8)\n",
            "Requirement already satisfied: protobuf>=3.4.0 in /usr/local/lib/python3.6/dist-packages (from google-api-core<2.0.0dev,>=1.14.0->google-cloud-core<2.0dev,>=1.0.0->google-cloud-storage->smart-open>=1.8.1->gensim==3.8.1) (3.10.0)\n",
            "Requirement already satisfied: googleapis-common-protos<2.0dev,>=1.6.0 in /usr/local/lib/python3.6/dist-packages (from google-api-core<2.0.0dev,>=1.14.0->google-cloud-core<2.0dev,>=1.0.0->google-cloud-storage->smart-open>=1.8.1->gensim==3.8.1) (1.51.0)\n",
            "Requirement already satisfied: pytz in /usr/local/lib/python3.6/dist-packages (from google-api-core<2.0.0dev,>=1.14.0->google-cloud-core<2.0dev,>=1.0.0->google-cloud-storage->smart-open>=1.8.1->gensim==3.8.1) (2018.9)\n"
          ],
          "name": "stdout"
        }
      ]
    },
    {
      "cell_type": "markdown",
      "metadata": {
        "id": "_5vlWBw3jiZM",
        "colab_type": "text"
      },
      "source": [
        "##### Colab Stuff"
      ]
    },
    {
      "cell_type": "code",
      "metadata": {
        "id": "70-riBj15Np_",
        "colab_type": "code",
        "outputId": "022c8de9-cc61-4540-a8e5-52d5003b2e93",
        "colab": {
          "base_uri": "https://localhost:8080/",
          "height": 54
        }
      },
      "source": [
        "from google.colab import drive\n",
        "drive.mount('/content/drive')"
      ],
      "execution_count": 3,
      "outputs": [
        {
          "output_type": "stream",
          "text": [
            "Drive already mounted at /content/drive; to attempt to forcibly remount, call drive.mount(\"/content/drive\", force_remount=True).\n"
          ],
          "name": "stdout"
        }
      ]
    },
    {
      "cell_type": "code",
      "metadata": {
        "id": "Gvkf2NtYUnga",
        "colab_type": "code",
        "outputId": "0cc27407-9312-4516-ae9d-9e50c7b3a2fb",
        "colab": {
          "base_uri": "https://localhost:8080/",
          "height": 34
        }
      },
      "source": [
        "import os\n",
        "os.chdir(os.path.join('drive', 'My Drive', 'ift6759', 'ift6759-t6-p2'))\n",
        "os.getcwd()"
      ],
      "execution_count": 4,
      "outputs": [
        {
          "output_type": "execute_result",
          "data": {
            "text/plain": [
              "'/content/drive/My Drive/ift6759/ift6759-t6-p2'"
            ]
          },
          "metadata": {
            "tags": []
          },
          "execution_count": 4
        }
      ]
    },
    {
      "cell_type": "code",
      "metadata": {
        "id": "Qzzy3rwtU8Fl",
        "colab_type": "code",
        "outputId": "7d5e1c80-85ae-47ed-cee9-35c6dd9a8d8e",
        "colab": {
          "base_uri": "https://localhost:8080/",
          "height": 71
        }
      },
      "source": [
        "!nvidia-smi"
      ],
      "execution_count": 5,
      "outputs": [
        {
          "output_type": "stream",
          "text": [
            "NVIDIA-SMI has failed because it couldn't communicate with the NVIDIA driver. Make sure that the latest NVIDIA driver is installed and running.\n",
            "\n"
          ],
          "name": "stdout"
        }
      ]
    },
    {
      "cell_type": "markdown",
      "metadata": {
        "id": "uKSd-LHvjE9N",
        "colab_type": "text"
      },
      "source": [
        "### Embeding Matrix Generation\n"
      ]
    },
    {
      "cell_type": "code",
      "metadata": {
        "id": "9sXgIJM4YeZL",
        "colab_type": "code",
        "colab": {}
      },
      "source": [
        "from utils.gensim_embeddings import create_model\n",
        "from gensim.models import FastText\n",
        "\n",
        "def build_emb_matrix(task, emb_size, alignment='unaligned'):\n",
        "    file_name = alignment + '_' + task[:-4]\n",
        "    data_path = os.path.join(os.getcwd(), 'data', file_name)\n",
        "    os.makedirs(os.path.join(os.getcwd(), 'embeddings', task, str(emb_size)), exist_ok=True)\n",
        "    save_path = os.path.join(os.getcwd(), 'embeddings', task, str(emb_size), file_name)\n",
        "    print(task, file_name, data_path, save_path)\n",
        "    return create_model(FastText, data_path, save_path=save_path, size=emb_size)\n",
        "\n",
        "def build_enc_dec_emb_matrices(enc_task, dec_task, emb_size=128, alignment='unaligned'):\n",
        "    enc_emb = build_emb_matrix(enc_task, emb_size, alignment)\n",
        "    print(\"enc_emb created\")\n",
        "    dec_emb = build_emb_matrix(dec_task, emb_size, alignment)\n",
        "    print(\"dec_emb created\")\n",
        "    return enc_emb, dec_emb"
      ],
      "execution_count": 0,
      "outputs": []
    },
    {
      "cell_type": "code",
      "metadata": {
        "id": "zw2kLCuySLHr",
        "colab_type": "code",
        "colab": {}
      },
      "source": [
        "build_emb_matrix(task='formated_fr_w2w', \n",
        "                 emb_size=512)"
      ],
      "execution_count": 0,
      "outputs": []
    },
    {
      "cell_type": "code",
      "metadata": {
        "colab_type": "code",
        "outputId": "f166d981-7014-4d42-db63-f5ad811e3e0c",
        "id": "nvFqcaTujC0j",
        "colab": {
          "base_uri": "https://localhost:8080/",
          "height": 54
        }
      },
      "source": [
        "build_enc_dec_emb_matrices(\n",
        "    enc_task = 'unformated_en_w2w',\n",
        "    dec_task = 'unformated_fr_w2w',\n",
        "    emb_size = 512\n",
        ")"
      ],
      "execution_count": 0,
      "outputs": [
        {
          "output_type": "stream",
          "text": [
            "unformated_en_w2w unaligned_unformated_en /content/drive/My Drive/ift6759/ift6759-t6-p2/data/unaligned_unformated_en /content/drive/My Drive/ift6759/ift6759-t6-p2/embeddings/unformated_en_w2w/1024/unaligned_unformated_en\n"
          ],
          "name": "stdout"
        }
      ]
    },
    {
      "cell_type": "markdown",
      "metadata": {
        "colab_type": "text",
        "id": "pt963ZuBiSfb"
      },
      "source": [
        "#### Generate v2id for unformated_fr_w2w"
      ]
    },
    {
      "cell_type": "code",
      "metadata": {
        "colab_type": "code",
        "outputId": "4c3391c5-f5a5-4311-a24f-0f2d6d4d95bc",
        "id": "p3nOwhxAiSfz",
        "colab": {
          "base_uri": "https://localhost:8080/",
          "height": 80
        }
      },
      "source": [
        "!python train_language_model.py \\\n",
        "--epochs 0 \\\n",
        "--task formated_fr_w2w "
      ],
      "execution_count": 0,
      "outputs": [
        {
          "output_type": "stream",
          "text": [
            "Tensorflow version 2.2.0-rc2\n",
            "data_file:data/unaligned_formated_fr, tokenize_type:w, rm_punc:True\n",
            " 29% 137020/474000 [01:47<04:40, 1199.23it/s]"
          ],
          "name": "stdout"
        }
      ]
    },
    {
      "cell_type": "markdown",
      "metadata": {
        "id": "SLZloDN8jLF1",
        "colab_type": "text"
      },
      "source": [
        "### GRU Language Model Training"
      ]
    },
    {
      "cell_type": "markdown",
      "metadata": {
        "id": "Y7rzaED4jQG9",
        "colab_type": "text"
      },
      "source": [
        "#### unformated_en_w2w"
      ]
    },
    {
      "cell_type": "code",
      "metadata": {
        "id": "X2-RDyFC5gEU",
        "colab_type": "code",
        "outputId": "f200212b-dd4a-4273-b28b-e6be6a58b7cc",
        "colab": {
          "base_uri": "https://localhost:8080/",
          "height": 445
        }
      },
      "source": [
        "!python train_language_model.py \\\n",
        "--epochs 20 \\\n",
        "--batch_size 512 \\\n",
        "--lr 0.01 \\\n",
        "--steps_per_epoch 500 \\\n",
        "--embedding_dim 128 \\\n",
        "--units 1024 \\\n",
        "--embedding_warmer_epoch 5 \\\n",
        "--task unformated_en_w2w "
      ],
      "execution_count": 0,
      "outputs": [
        {
          "output_type": "stream",
          "text": [
            "2020-04-15 04:23:36.182208: I tensorflow/stream_executor/platform/default/dso_loader.cc:44] Successfully opened dynamic library libcudart.so.10.1\n",
            "Tensorflow version 2.2.0-rc2\n",
            "data_file:data/unaligned_unformated_en, tokenize_type:w, rm_punc:True\n",
            "100% 474000/474000 [08:30<00:00, 929.02it/s]\n",
            "2020-04-15 04:33:11.659690: I tensorflow/stream_executor/platform/default/dso_loader.cc:44] Successfully opened dynamic library libcuda.so.1\n",
            "2020-04-15 04:33:11.709829: E tensorflow/stream_executor/cuda/cuda_driver.cc:313] failed call to cuInit: CUDA_ERROR_NO_DEVICE: no CUDA-capable device is detected\n",
            "2020-04-15 04:33:11.710069: I tensorflow/stream_executor/cuda/cuda_diagnostics.cc:156] kernel driver does not appear to be running on this host (22c357fadf83): /proc/driver/nvidia/version does not exist\n",
            "2020-04-15 04:33:11.736918: I tensorflow/core/platform/profile_utils/cpu_utils.cc:102] CPU Frequency: 2300000000 Hz\n",
            "2020-04-15 04:33:11.737487: I tensorflow/compiler/xla/service/service.cc:168] XLA service 0x1a9db80 initialized for platform Host (this does not guarantee that XLA will be used). Devices:\n",
            "2020-04-15 04:33:11.737534: I tensorflow/compiler/xla/service/service.cc:176]   StreamExecutor device (0): Host, Default Version\n",
            "Traceback (most recent call last):\n",
            "  File \"train_language_model.py\", line 165, in <module>\n",
            "    train()\n",
            "  File \"/usr/local/lib/python3.6/dist-packages/click/core.py\", line 829, in __call__\n",
            "    return self.main(*args, **kwargs)\n",
            "  File \"/usr/local/lib/python3.6/dist-packages/click/core.py\", line 782, in main\n",
            "    rv = self.invoke(ctx)\n",
            "  File \"/usr/local/lib/python3.6/dist-packages/click/core.py\", line 1066, in invoke\n",
            "    return ctx.invoke(self.callback, **ctx.params)\n",
            "  File \"/usr/local/lib/python3.6/dist-packages/click/core.py\", line 610, in invoke\n",
            "    return callback(*args, **kwargs)\n",
            "  File \"train_language_model.py\", line 140, in train\n",
            "    with tpu_strategy.scope():\n",
            "NameError: name 'tpu_strategy' is not defined\n"
          ],
          "name": "stdout"
        }
      ]
    },
    {
      "cell_type": "markdown",
      "metadata": {
        "id": "G33ZAtYtjVeu",
        "colab_type": "text"
      },
      "source": [
        "#### unformated_fr_w2w"
      ]
    },
    {
      "cell_type": "code",
      "metadata": {
        "id": "i0Qh54ia5oTC",
        "colab_type": "code",
        "outputId": "23c91149-bf12-4e25-bd18-2c3291731256",
        "colab": {
          "base_uri": "https://localhost:8080/",
          "height": 870
        }
      },
      "source": [
        "!python train_language_model.py \\\n",
        "--epochs 20 \\\n",
        "--batch_size 512 \\\n",
        "--lr 0.01 \\\n",
        "--steps_per_epoch 500 \\\n",
        "--embedding_dim 128 \\\n",
        "--units 1024 \\\n",
        "--embedding_warmer_epoch 5 \\\n",
        "--task unformated_fr_w2w "
      ],
      "execution_count": 0,
      "outputs": [
        {
          "output_type": "stream",
          "text": [
            "Tensorflow version 2.2.0-rc2\n",
            "2020-04-14 19:28:49.830510: E tensorflow/stream_executor/cuda/cuda_driver.cc:313] failed call to cuInit: CUDA_ERROR_NO_DEVICE: no CUDA-capable device is detected\n",
            "Running on TPU  ['10.87.101.58:8470']\n",
            "data_file:data/unaligned_unformated_fr, tokenize_type:w, rm_punc:True\n",
            "100% 474000/474000 [04:02<00:00, 1956.04it/s]\n",
            "Epoch 1/10\n",
            "WARNING:tensorflow:Model was constructed with shape (512, None) for input Tensor(\"embedding_input:0\", shape=(512, None), dtype=float32), but it was called on an input with incompatible shape (64, 243).\n",
            "WARNING:tensorflow:Model was constructed with shape (512, None) for input Tensor(\"embedding_input:0\", shape=(512, None), dtype=float32), but it was called on an input with incompatible shape (64, 243).\n",
            "WARNING:tensorflow:Model was constructed with shape (512, None) for input Tensor(\"embedding_input:0\", shape=(512, None), dtype=float32), but it was called on an input with incompatible shape (64, 243).\n",
            "WARNING:tensorflow:Model was constructed with shape (512, None) for input Tensor(\"embedding_input:0\", shape=(512, None), dtype=float32), but it was called on an input with incompatible shape (64, 243).\n",
            "500/500 [==============================] - ETA: 0s - loss: 5.8019WARNING:tensorflow:Model was constructed with shape (512, None) for input Tensor(\"embedding_input:0\", shape=(512, None), dtype=float32), but it was called on an input with incompatible shape (64, 243).\n",
            "WARNING:tensorflow:Model was constructed with shape (512, None) for input Tensor(\"embedding_input:0\", shape=(512, None), dtype=float32), but it was called on an input with incompatible shape (64, 243).\n",
            "500/500 [==============================] - 72s 143ms/step - loss: 5.8019 - val_loss: 4.8891\n",
            "Epoch 2/10\n",
            "500/500 [==============================] - ETA: 0s - loss: 4.7123WARNING:tensorflow:Model was constructed with shape (512, None) for input Tensor(\"embedding_input:0\", shape=(512, None), dtype=float32), but it was called on an input with incompatible shape (64, 243).\n",
            "WARNING:tensorflow:Model was constructed with shape (512, None) for input Tensor(\"embedding_input:0\", shape=(512, None), dtype=float32), but it was called on an input with incompatible shape (64, 243).\n",
            "500/500 [==============================] - 72s 143ms/step - loss: 4.7123 - val_loss: 4.5981\n",
            "Epoch 3/10\n",
            "500/500 [==============================] - ETA: 0s - loss: 4.5167WARNING:tensorflow:Model was constructed with shape (512, None) for input Tensor(\"embedding_input:0\", shape=(512, None), dtype=float32), but it was called on an input with incompatible shape (64, 243).\n",
            "WARNING:tensorflow:Model was constructed with shape (512, None) for input Tensor(\"embedding_input:0\", shape=(512, None), dtype=float32), but it was called on an input with incompatible shape (64, 243).\n",
            "500/500 [==============================] - 72s 143ms/step - loss: 4.5167 - val_loss: 4.4733\n",
            "Epoch 4/10\n",
            "500/500 [==============================] - ETA: 0s - loss: 4.4122WARNING:tensorflow:Model was constructed with shape (512, None) for input Tensor(\"embedding_input:0\", shape=(512, None), dtype=float32), but it was called on an input with incompatible shape (64, 243).\n",
            "WARNING:tensorflow:Model was constructed with shape (512, None) for input Tensor(\"embedding_input:0\", shape=(512, None), dtype=float32), but it was called on an input with incompatible shape (64, 243).\n",
            "500/500 [==============================] - 72s 145ms/step - loss: 4.4122 - val_loss: 4.3976\n",
            "Epoch 5/10\n",
            "500/500 [==============================] - ETA: 0s - loss: 4.3416WARNING:tensorflow:Model was constructed with shape (512, None) for input Tensor(\"embedding_input:0\", shape=(512, None), dtype=float32), but it was called on an input with incompatible shape (64, 243).\n",
            "WARNING:tensorflow:Model was constructed with shape (512, None) for input Tensor(\"embedding_input:0\", shape=(512, None), dtype=float32), but it was called on an input with incompatible shape (64, 243).\n",
            "500/500 [==============================] - 72s 144ms/step - loss: 4.3416 - val_loss: 4.3478\n",
            "Epoch 6/10\n",
            "500/500 [==============================] - ETA: 0s - loss: 4.2922WARNING:tensorflow:Model was constructed with shape (512, None) for input Tensor(\"embedding_input:0\", shape=(512, None), dtype=float32), but it was called on an input with incompatible shape (64, 243).\n",
            "WARNING:tensorflow:Model was constructed with shape (512, None) for input Tensor(\"embedding_input:0\", shape=(512, None), dtype=float32), but it was called on an input with incompatible shape (64, 243).\n",
            "500/500 [==============================] - 72s 144ms/step - loss: 4.2922 - val_loss: 4.3101\n",
            "Epoch 7/10\n",
            "500/500 [==============================] - ETA: 0s - loss: 4.2533WARNING:tensorflow:Model was constructed with shape (512, None) for input Tensor(\"embedding_input:0\", shape=(512, None), dtype=float32), but it was called on an input with incompatible shape (64, 243).\n",
            "WARNING:tensorflow:Model was constructed with shape (512, None) for input Tensor(\"embedding_input:0\", shape=(512, None), dtype=float32), but it was called on an input with incompatible shape (64, 243).\n",
            "500/500 [==============================] - 72s 143ms/step - loss: 4.2533 - val_loss: 4.2821\n",
            "Epoch 8/10\n",
            "500/500 [==============================] - ETA: 0s - loss: 4.2211WARNING:tensorflow:Model was constructed with shape (512, None) for input Tensor(\"embedding_input:0\", shape=(512, None), dtype=float32), but it was called on an input with incompatible shape (64, 243).\n",
            "WARNING:tensorflow:Model was constructed with shape (512, None) for input Tensor(\"embedding_input:0\", shape=(512, None), dtype=float32), but it was called on an input with incompatible shape (64, 243).\n",
            "500/500 [==============================] - 72s 144ms/step - loss: 4.2211 - val_loss: 4.2583\n",
            "Epoch 9/10\n",
            "500/500 [==============================] - ETA: 0s - loss: 4.1950WARNING:tensorflow:Model was constructed with shape (512, None) for input Tensor(\"embedding_input:0\", shape=(512, None), dtype=float32), but it was called on an input with incompatible shape (64, 243).\n",
            "WARNING:tensorflow:Model was constructed with shape (512, None) for input Tensor(\"embedding_input:0\", shape=(512, None), dtype=float32), but it was called on an input with incompatible shape (64, 243).\n",
            "500/500 [==============================] - 72s 144ms/step - loss: 4.1950 - val_loss: 4.2407\n",
            "Epoch 10/10\n",
            "500/500 [==============================] - ETA: 0s - loss: 4.1726WARNING:tensorflow:Model was constructed with shape (512, None) for input Tensor(\"embedding_input:0\", shape=(512, None), dtype=float32), but it was called on an input with incompatible shape (64, 243).\n",
            "WARNING:tensorflow:Model was constructed with shape (512, None) for input Tensor(\"embedding_input:0\", shape=(512, None), dtype=float32), but it was called on an input with incompatible shape (64, 243).\n",
            "500/500 [==============================] - 72s 144ms/step - loss: 4.1726 - val_loss: 4.2248\n"
          ],
          "name": "stdout"
        }
      ]
    },
    {
      "cell_type": "markdown",
      "metadata": {
        "id": "m8vF7tcajY07",
        "colab_type": "text"
      },
      "source": [
        "#### unformated_fr_c2c"
      ]
    },
    {
      "cell_type": "code",
      "metadata": {
        "id": "60naHt9_5oFz",
        "colab_type": "code",
        "outputId": "483575f8-23bc-4e99-bb71-2140aeb6d9c1",
        "colab": {
          "base_uri": "https://localhost:8080/",
          "height": 904
        }
      },
      "source": [
        "!python train_language_model.py \\\n",
        "--epochs 20 \\\n",
        "--batch_size 512 \\\n",
        "--lr 0.01 \\\n",
        "--steps_per_epoch 500 \\\n",
        "--embedding_dim 128 \\\n",
        "--units 1024 \\\n",
        "--task unformated_fr_c2c "
      ],
      "execution_count": 0,
      "outputs": [
        {
          "output_type": "stream",
          "text": [
            "Tensorflow version 2.2.0-rc2\n",
            "2020-04-14 19:46:12.599218: E tensorflow/stream_executor/cuda/cuda_driver.cc:313] failed call to cuInit: CUDA_ERROR_NO_DEVICE: no CUDA-capable device is detected\n",
            "Running on TPU  ['10.87.101.58:8470']\n",
            "data_file:data/unaligned_unformated_fr, tokenize_type:c, rm_punc:True\n",
            "100% 474000/474000 [00:09<00:00, 52286.39it/s]\n",
            "tcmalloc: large alloc 1844813824 bytes == 0x60866000 @  0x7f2c722e91e7 0x7f2c6f7265e1 0x7f2c6f78ae88 0x7f2c6f78b147 0x7f2c6f823118 0x50ac25 0x50c5b9 0x508245 0x50a080 0x50aa7d 0x50d390 0x508245 0x50a080 0x50aa7d 0x50d390 0x508245 0x50a080 0x50aa7d 0x50d390 0x509d48 0x50aa7d 0x50c5b9 0x508245 0x50a080 0x50aa7d 0x50d390 0x508245 0x58958c 0x5a067e 0x50d966 0x508245\n",
            "tcmalloc: large alloc 1291370496 bytes == 0xcefc2000 @  0x7f2c722e91e7 0x7f2c6f7265e1 0x7f2c6f78ae88 0x7f2c6f78afa3 0x7f2c6f8160c6 0x7f2c6f816528 0x50c88b 0x508245 0x50a080 0x50aa7d 0x50d390 0x508245 0x50a080 0x50aa7d 0x50c5b9 0x58efc9 0x4c9546 0x5886f4 0x58892e 0x551b81 0x5aa6ec 0x50abb3 0x50c5b9 0x508245 0x50a080 0x50aa7d 0x50d390 0x508245 0x58958c 0x5a067e 0x50d966\n",
            "Epoch 1/10\n",
            "WARNING:tensorflow:Model was constructed with shape (256, None) for input Tensor(\"embedding_input:0\", shape=(256, None), dtype=float32), but it was called on an input with incompatible shape (32, 972).\n",
            "WARNING:tensorflow:Model was constructed with shape (256, None) for input Tensor(\"embedding_input:0\", shape=(256, None), dtype=float32), but it was called on an input with incompatible shape (32, 972).\n",
            "WARNING:tensorflow:Model was constructed with shape (256, None) for input Tensor(\"embedding_input:0\", shape=(256, None), dtype=float32), but it was called on an input with incompatible shape (32, 972).\n",
            "WARNING:tensorflow:Model was constructed with shape (256, None) for input Tensor(\"embedding_input:0\", shape=(256, None), dtype=float32), but it was called on an input with incompatible shape (32, 972).\n",
            "500/500 [==============================] - ETA: 0s - loss: 2.9362WARNING:tensorflow:Model was constructed with shape (256, None) for input Tensor(\"embedding_input:0\", shape=(256, None), dtype=float32), but it was called on an input with incompatible shape (32, 972).\n",
            "WARNING:tensorflow:Model was constructed with shape (256, None) for input Tensor(\"embedding_input:0\", shape=(256, None), dtype=float32), but it was called on an input with incompatible shape (32, 972).\n",
            "500/500 [==============================] - 143s 286ms/step - loss: 2.9362 - val_loss: 2.5748\n",
            "Epoch 2/10\n",
            "500/500 [==============================] - ETA: 0s - loss: 2.3782WARNING:tensorflow:Model was constructed with shape (256, None) for input Tensor(\"embedding_input:0\", shape=(256, None), dtype=float32), but it was called on an input with incompatible shape (32, 972).\n",
            "WARNING:tensorflow:Model was constructed with shape (256, None) for input Tensor(\"embedding_input:0\", shape=(256, None), dtype=float32), but it was called on an input with incompatible shape (32, 972).\n",
            "500/500 [==============================] - 143s 285ms/step - loss: 2.3782 - val_loss: 2.2243\n",
            "Epoch 3/10\n",
            "500/500 [==============================] - ETA: 0s - loss: 2.1313WARNING:tensorflow:Model was constructed with shape (256, None) for input Tensor(\"embedding_input:0\", shape=(256, None), dtype=float32), but it was called on an input with incompatible shape (32, 972).\n",
            "WARNING:tensorflow:Model was constructed with shape (256, None) for input Tensor(\"embedding_input:0\", shape=(256, None), dtype=float32), but it was called on an input with incompatible shape (32, 972).\n",
            "500/500 [==============================] - 143s 286ms/step - loss: 2.1313 - val_loss: 2.0458\n",
            "Epoch 4/10\n",
            "500/500 [==============================] - ETA: 0s - loss: 1.9809WARNING:tensorflow:Model was constructed with shape (256, None) for input Tensor(\"embedding_input:0\", shape=(256, None), dtype=float32), but it was called on an input with incompatible shape (32, 972).\n",
            "WARNING:tensorflow:Model was constructed with shape (256, None) for input Tensor(\"embedding_input:0\", shape=(256, None), dtype=float32), but it was called on an input with incompatible shape (32, 972).\n",
            "500/500 [==============================] - 143s 287ms/step - loss: 1.9809 - val_loss: 1.9195\n",
            "Epoch 5/10\n",
            "500/500 [==============================] - ETA: 0s - loss: 1.8662WARNING:tensorflow:Model was constructed with shape (256, None) for input Tensor(\"embedding_input:0\", shape=(256, None), dtype=float32), but it was called on an input with incompatible shape (32, 972).\n",
            "WARNING:tensorflow:Model was constructed with shape (256, None) for input Tensor(\"embedding_input:0\", shape=(256, None), dtype=float32), but it was called on an input with incompatible shape (32, 972).\n",
            "500/500 [==============================] - 143s 286ms/step - loss: 1.8662 - val_loss: 1.8155\n",
            "Epoch 6/10\n",
            "500/500 [==============================] - ETA: 0s - loss: 1.7745WARNING:tensorflow:Model was constructed with shape (256, None) for input Tensor(\"embedding_input:0\", shape=(256, None), dtype=float32), but it was called on an input with incompatible shape (32, 972).\n",
            "WARNING:tensorflow:Model was constructed with shape (256, None) for input Tensor(\"embedding_input:0\", shape=(256, None), dtype=float32), but it was called on an input with incompatible shape (32, 972).\n",
            "500/500 [==============================] - 143s 286ms/step - loss: 1.7745 - val_loss: 1.7329\n",
            "Epoch 7/10\n",
            "500/500 [==============================] - ETA: 0s - loss: 1.6984WARNING:tensorflow:Model was constructed with shape (256, None) for input Tensor(\"embedding_input:0\", shape=(256, None), dtype=float32), but it was called on an input with incompatible shape (32, 972).\n",
            "WARNING:tensorflow:Model was constructed with shape (256, None) for input Tensor(\"embedding_input:0\", shape=(256, None), dtype=float32), but it was called on an input with incompatible shape (32, 972).\n",
            "500/500 [==============================] - 143s 287ms/step - loss: 1.6984 - val_loss: 1.6634\n",
            "Epoch 8/10\n",
            "500/500 [==============================] - ETA: 0s - loss: 1.6340WARNING:tensorflow:Model was constructed with shape (256, None) for input Tensor(\"embedding_input:0\", shape=(256, None), dtype=float32), but it was called on an input with incompatible shape (32, 972).\n",
            "WARNING:tensorflow:Model was constructed with shape (256, None) for input Tensor(\"embedding_input:0\", shape=(256, None), dtype=float32), but it was called on an input with incompatible shape (32, 972).\n",
            "500/500 [==============================] - 143s 286ms/step - loss: 1.6340 - val_loss: 1.6030\n",
            "Epoch 9/10\n",
            "500/500 [==============================] - ETA: 0s - loss: 1.5776WARNING:tensorflow:Model was constructed with shape (256, None) for input Tensor(\"embedding_input:0\", shape=(256, None), dtype=float32), but it was called on an input with incompatible shape (32, 972).\n",
            "WARNING:tensorflow:Model was constructed with shape (256, None) for input Tensor(\"embedding_input:0\", shape=(256, None), dtype=float32), but it was called on an input with incompatible shape (32, 972).\n",
            "500/500 [==============================] - 143s 285ms/step - loss: 1.5776 - val_loss: 1.5511\n",
            "Epoch 10/10\n",
            "500/500 [==============================] - ETA: 0s - loss: 1.5278WARNING:tensorflow:Model was constructed with shape (256, None) for input Tensor(\"embedding_input:0\", shape=(256, None), dtype=float32), but it was called on an input with incompatible shape (32, 972).\n",
            "WARNING:tensorflow:Model was constructed with shape (256, None) for input Tensor(\"embedding_input:0\", shape=(256, None), dtype=float32), but it was called on an input with incompatible shape (32, 972).\n",
            "500/500 [==============================] - 143s 285ms/step - loss: 1.5278 - val_loss: 1.5063\n"
          ],
          "name": "stdout"
        }
      ]
    },
    {
      "cell_type": "markdown",
      "metadata": {
        "id": "ub5rJGd4jcew",
        "colab_type": "text"
      },
      "source": [
        "#### formated_fr_c2c\n"
      ]
    },
    {
      "cell_type": "code",
      "metadata": {
        "id": "aOd8rCxK5n4Z",
        "colab_type": "code",
        "outputId": "cc41e54f-6508-45d3-ad36-86b848ac48df",
        "colab": {
          "base_uri": "https://localhost:8080/",
          "height": 904
        }
      },
      "source": [
        "!python train_language_model.py \\\n",
        "--epochs 20 \\\n",
        "--batch_size 512 \\\n",
        "--lr 0.01 \\\n",
        "--steps_per_epoch 500 \\\n",
        "--embedding_dim 128 \\\n",
        "--units 1024 \\\n",
        "--task formated_fr_c2c"
      ],
      "execution_count": 0,
      "outputs": [
        {
          "output_type": "stream",
          "text": [
            "Tensorflow version 2.2.0-rc2\n",
            "2020-04-14 20:28:20.954602: E tensorflow/stream_executor/cuda/cuda_driver.cc:313] failed call to cuInit: CUDA_ERROR_NO_DEVICE: no CUDA-capable device is detected\n",
            "Running on TPU  ['10.87.101.58:8470']\n",
            "data_file:data/unaligned_formated_fr, tokenize_type:c, rm_punc:False\n",
            "100% 474000/474000 [00:10<00:00, 45956.61it/s]\n",
            "tcmalloc: large alloc 1859977216 bytes == 0x64ca2000 @  0x7fe88e0061e7 0x7fe88b4435e1 0x7fe88b4a7e88 0x7fe88b4a8147 0x7fe88b540118 0x50ac25 0x50c5b9 0x508245 0x50a080 0x50aa7d 0x50d390 0x508245 0x50a080 0x50aa7d 0x50d390 0x508245 0x50a080 0x50aa7d 0x50d390 0x509d48 0x50aa7d 0x50c5b9 0x508245 0x50a080 0x50aa7d 0x50d390 0x508245 0x58958c 0x5a067e 0x50d966 0x508245\n",
            "tcmalloc: large alloc 1301987328 bytes == 0xd4274000 @  0x7fe88e0061e7 0x7fe88b4435e1 0x7fe88b4a7e88 0x7fe88b4a7fa3 0x7fe88b5330c6 0x7fe88b533528 0x50c88b 0x508245 0x50a080 0x50aa7d 0x50d390 0x508245 0x50a080 0x50aa7d 0x50c5b9 0x58efc9 0x4c9546 0x5886f4 0x58892e 0x551b81 0x5aa6ec 0x50abb3 0x50c5b9 0x508245 0x50a080 0x50aa7d 0x50d390 0x508245 0x58958c 0x5a067e 0x50d966\n",
            "Epoch 1/10\n",
            "WARNING:tensorflow:Model was constructed with shape (512, None) for input Tensor(\"embedding_input:0\", shape=(512, None), dtype=float32), but it was called on an input with incompatible shape (64, 980).\n",
            "WARNING:tensorflow:Model was constructed with shape (512, None) for input Tensor(\"embedding_input:0\", shape=(512, None), dtype=float32), but it was called on an input with incompatible shape (64, 980).\n",
            "WARNING:tensorflow:Model was constructed with shape (512, None) for input Tensor(\"embedding_input:0\", shape=(512, None), dtype=float32), but it was called on an input with incompatible shape (64, 980).\n",
            "WARNING:tensorflow:Model was constructed with shape (512, None) for input Tensor(\"embedding_input:0\", shape=(512, None), dtype=float32), but it was called on an input with incompatible shape (64, 980).\n",
            "499/500 [============================>.] - ETA: 0s - loss: 3.0746WARNING:tensorflow:Model was constructed with shape (512, None) for input Tensor(\"embedding_input:0\", shape=(512, None), dtype=float32), but it was called on an input with incompatible shape (64, 980).\n",
            "WARNING:tensorflow:Model was constructed with shape (512, None) for input Tensor(\"embedding_input:0\", shape=(512, None), dtype=float32), but it was called on an input with incompatible shape (64, 980).\n",
            "500/500 [==============================] - 36s 72ms/step - loss: 3.0739 - val_loss: 2.7371\n",
            "Epoch 2/10\n",
            "499/500 [============================>.] - ETA: 0s - loss: 2.5247WARNING:tensorflow:Model was constructed with shape (512, None) for input Tensor(\"embedding_input:0\", shape=(512, None), dtype=float32), but it was called on an input with incompatible shape (64, 980).\n",
            "WARNING:tensorflow:Model was constructed with shape (512, None) for input Tensor(\"embedding_input:0\", shape=(512, None), dtype=float32), but it was called on an input with incompatible shape (64, 980).\n",
            "500/500 [==============================] - 36s 73ms/step - loss: 2.5243 - val_loss: 2.3356\n",
            "Epoch 3/10\n",
            "500/500 [==============================] - ETA: 0s - loss: 2.2182WARNING:tensorflow:Model was constructed with shape (512, None) for input Tensor(\"embedding_input:0\", shape=(512, None), dtype=float32), but it was called on an input with incompatible shape (64, 980).\n",
            "WARNING:tensorflow:Model was constructed with shape (512, None) for input Tensor(\"embedding_input:0\", shape=(512, None), dtype=float32), but it was called on an input with incompatible shape (64, 980).\n",
            "500/500 [==============================] - 36s 71ms/step - loss: 2.2182 - val_loss: 2.1319\n",
            "Epoch 4/10\n",
            "499/500 [============================>.] - ETA: 0s - loss: 2.0684WARNING:tensorflow:Model was constructed with shape (512, None) for input Tensor(\"embedding_input:0\", shape=(512, None), dtype=float32), but it was called on an input with incompatible shape (64, 980).\n",
            "WARNING:tensorflow:Model was constructed with shape (512, None) for input Tensor(\"embedding_input:0\", shape=(512, None), dtype=float32), but it was called on an input with incompatible shape (64, 980).\n",
            "500/500 [==============================] - 36s 72ms/step - loss: 2.0683 - val_loss: 2.0106\n",
            "Epoch 5/10\n",
            "499/500 [============================>.] - ETA: 0s - loss: 1.9632WARNING:tensorflow:Model was constructed with shape (512, None) for input Tensor(\"embedding_input:0\", shape=(512, None), dtype=float32), but it was called on an input with incompatible shape (64, 980).\n",
            "WARNING:tensorflow:Model was constructed with shape (512, None) for input Tensor(\"embedding_input:0\", shape=(512, None), dtype=float32), but it was called on an input with incompatible shape (64, 980).\n",
            "500/500 [==============================] - 37s 73ms/step - loss: 1.9631 - val_loss: 1.9186\n",
            "Epoch 6/10\n",
            "499/500 [============================>.] - ETA: 0s - loss: 1.8816WARNING:tensorflow:Model was constructed with shape (512, None) for input Tensor(\"embedding_input:0\", shape=(512, None), dtype=float32), but it was called on an input with incompatible shape (64, 980).\n",
            "WARNING:tensorflow:Model was constructed with shape (512, None) for input Tensor(\"embedding_input:0\", shape=(512, None), dtype=float32), but it was called on an input with incompatible shape (64, 980).\n",
            "500/500 [==============================] - 37s 74ms/step - loss: 1.8816 - val_loss: 1.8482\n",
            "Epoch 7/10\n",
            "499/500 [============================>.] - ETA: 0s - loss: 1.8147WARNING:tensorflow:Model was constructed with shape (512, None) for input Tensor(\"embedding_input:0\", shape=(512, None), dtype=float32), but it was called on an input with incompatible shape (64, 980).\n",
            "WARNING:tensorflow:Model was constructed with shape (512, None) for input Tensor(\"embedding_input:0\", shape=(512, None), dtype=float32), but it was called on an input with incompatible shape (64, 980).\n",
            "500/500 [==============================] - 37s 73ms/step - loss: 1.8146 - val_loss: 1.7824\n",
            "Epoch 8/10\n",
            "499/500 [============================>.] - ETA: 0s - loss: 1.7517WARNING:tensorflow:Model was constructed with shape (512, None) for input Tensor(\"embedding_input:0\", shape=(512, None), dtype=float32), but it was called on an input with incompatible shape (64, 980).\n",
            "WARNING:tensorflow:Model was constructed with shape (512, None) for input Tensor(\"embedding_input:0\", shape=(512, None), dtype=float32), but it was called on an input with incompatible shape (64, 980).\n",
            "500/500 [==============================] - 36s 72ms/step - loss: 1.7517 - val_loss: 1.7208\n",
            "Epoch 9/10\n",
            "499/500 [============================>.] - ETA: 0s - loss: 1.6933WARNING:tensorflow:Model was constructed with shape (512, None) for input Tensor(\"embedding_input:0\", shape=(512, None), dtype=float32), but it was called on an input with incompatible shape (64, 980).\n",
            "WARNING:tensorflow:Model was constructed with shape (512, None) for input Tensor(\"embedding_input:0\", shape=(512, None), dtype=float32), but it was called on an input with incompatible shape (64, 980).\n",
            "500/500 [==============================] - 37s 74ms/step - loss: 1.6933 - val_loss: 1.6668\n",
            "Epoch 10/10\n",
            "499/500 [============================>.] - ETA: 0s - loss: 1.6431WARNING:tensorflow:Model was constructed with shape (512, None) for input Tensor(\"embedding_input:0\", shape=(512, None), dtype=float32), but it was called on an input with incompatible shape (64, 980).\n",
            "WARNING:tensorflow:Model was constructed with shape (512, None) for input Tensor(\"embedding_input:0\", shape=(512, None), dtype=float32), but it was called on an input with incompatible shape (64, 980).\n",
            "500/500 [==============================] - 36s 72ms/step - loss: 1.6430 - val_loss: 1.6200\n"
          ],
          "name": "stdout"
        }
      ]
    },
    {
      "cell_type": "code",
      "metadata": {
        "id": "KCKmPo_nmVJN",
        "colab_type": "code",
        "colab": {}
      },
      "source": [
        ""
      ],
      "execution_count": 0,
      "outputs": []
    }
  ]
}