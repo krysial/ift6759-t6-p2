{
  "nbformat": 4,
  "nbformat_minor": 0,
  "metadata": {
    "colab": {
      "name": "train_language_model.ipynb",
      "provenance": [],
      "collapsed_sections": [],
      "toc_visible": true
    },
    "kernelspec": {
      "name": "python3",
      "display_name": "Python 3"
    },
    "accelerator": "TPU"
  },
  "cells": [
    {
      "cell_type": "markdown",
      "metadata": {
        "id": "_5vlWBw3jiZM",
        "colab_type": "text"
      },
      "source": [
        "##### Colab Stuff"
      ]
    },
    {
      "cell_type": "code",
      "metadata": {
        "id": "70-riBj15Np_",
        "colab_type": "code",
        "outputId": "9325d1db-36e1-47c8-f1ed-01e86abe2c9a",
        "colab": {
          "base_uri": "https://localhost:8080/",
          "height": 122
        }
      },
      "source": [
        "from google.colab import drive\n",
        "drive.mount('/content/drive')"
      ],
      "execution_count": 1,
      "outputs": [
        {
          "output_type": "stream",
          "text": [
            "Go to this URL in a browser: https://accounts.google.com/o/oauth2/auth?client_id=947318989803-6bn6qk8qdgf4n4g3pfee6491hc0brc4i.apps.googleusercontent.com&redirect_uri=urn%3aietf%3awg%3aoauth%3a2.0%3aoob&response_type=code&scope=email%20https%3a%2f%2fwww.googleapis.com%2fauth%2fdocs.test%20https%3a%2f%2fwww.googleapis.com%2fauth%2fdrive%20https%3a%2f%2fwww.googleapis.com%2fauth%2fdrive.photos.readonly%20https%3a%2f%2fwww.googleapis.com%2fauth%2fpeopleapi.readonly\n",
            "\n",
            "Enter your authorization code:\n",
            "··········\n",
            "Mounted at /content/drive\n"
          ],
          "name": "stdout"
        }
      ]
    },
    {
      "cell_type": "code",
      "metadata": {
        "id": "Gvkf2NtYUnga",
        "colab_type": "code",
        "outputId": "144e5c73-6cff-49c7-d557-809c37dff191",
        "colab": {
          "base_uri": "https://localhost:8080/",
          "height": 34
        }
      },
      "source": [
        "import os\n",
        "os.chdir(os.path.join('drive', 'My Drive', 'ift6759', 'ift6759-t6-p2'))\n",
        "os.getcwd()"
      ],
      "execution_count": 2,
      "outputs": [
        {
          "output_type": "execute_result",
          "data": {
            "text/plain": [
              "'/content/drive/My Drive/ift6759/ift6759-t6-p2'"
            ]
          },
          "metadata": {
            "tags": []
          },
          "execution_count": 2
        }
      ]
    },
    {
      "cell_type": "code",
      "metadata": {
        "id": "Qzzy3rwtU8Fl",
        "colab_type": "code",
        "outputId": "6736455e-c139-4020-b37c-752818f7bc89",
        "colab": {
          "base_uri": "https://localhost:8080/",
          "height": 71
        }
      },
      "source": [
        "!nvidia-smi"
      ],
      "execution_count": 3,
      "outputs": [
        {
          "output_type": "stream",
          "text": [
            "NVIDIA-SMI has failed because it couldn't communicate with the NVIDIA driver. Make sure that the latest NVIDIA driver is installed and running.\n",
            "\n"
          ],
          "name": "stdout"
        }
      ]
    },
    {
      "cell_type": "markdown",
      "metadata": {
        "id": "uKSd-LHvjE9N",
        "colab_type": "text"
      },
      "source": [
        "### Embeding Matrix Generation\n"
      ]
    },
    {
      "cell_type": "code",
      "metadata": {
        "id": "9sXgIJM4YeZL",
        "colab_type": "code",
        "colab": {}
      },
      "source": [
        "from utils.gensim_embeddings import create_model\n",
        "from gensim.models import FastText\n",
        "\n",
        "def build_emb_matrix(task, emb_size, alignment):\n",
        "    file_name = alignment + '_' + task[:-4]\n",
        "    data_path = os.path.join(os.getcwd(), 'data', file_name)\n",
        "    save_path = os.path.join(os.getcwd(), 'embeddings', task, file_name + \"_\" + str(emb_size))\n",
        "    print(task, file_name, data_path, save_path)\n",
        "    return create_model(FastText, data_path, save_path=save_path, size=emb_size)\n",
        "\n",
        "def build_enc_dec_emb_matrices(enc_task, dec_task, emb_size=128, alignment='unaligned'):\n",
        "    enc_emb = build_emb_matrix(enc_task, emb_size, alignment)\n",
        "    print(\"enc_emb created\")\n",
        "    dec_emb = build_emb_matrix(dec_task, emb_size, alignment)\n",
        "    print(\"dec_emb created\")\n",
        "    return enc_emb, dec_emb"
      ],
      "execution_count": 0,
      "outputs": []
    },
    {
      "cell_type": "code",
      "metadata": {
        "id": "xtkVv_ozx-RG",
        "colab_type": "code",
        "outputId": "8b1269e9-2285-422c-85dc-cfa99d6c885c",
        "colab": {
          "base_uri": "https://localhost:8080/",
          "height": 173
        }
      },
      "source": [
        "build_enc_dec_emb_matrices(\n",
        "    enc_task = 'unformated_en_w2w',\n",
        "    dec_task = 'unformated_fr_w2w',\n",
        "    emb_size = 8\n",
        ")"
      ],
      "execution_count": 18,
      "outputs": [
        {
          "output_type": "stream",
          "text": [
            "unformated_en_w2w unaligned_unformated_en /content/drive/My Drive/ift6759/ift6759-t6-p2/data/unaligned_unformated_en /content/drive/My Drive/ift6759/ift6759-t6-p2/embeddings/unformated_en_w2w/unaligned_unformated_en_8\n"
          ],
          "name": "stdout"
        },
        {
          "output_type": "stream",
          "text": [
            "/usr/local/lib/python3.6/dist-packages/smart_open/smart_open_lib.py:410: UserWarning: This function is deprecated, use smart_open.open instead. See the migration notes for details: https://github.com/RaRe-Technologies/smart_open/blob/master/README.rst#migrating-to-the-new-open-function\n",
            "  'See the migration notes for details: %s' % _MIGRATION_NOTES_URL\n"
          ],
          "name": "stderr"
        },
        {
          "output_type": "stream",
          "text": [
            "FastText(vocab=24681, size=8, alpha=0.025)\n",
            "unformated_fr_w2w unaligned_unformated_fr /content/drive/My Drive/ift6759/ift6759-t6-p2/data/unaligned_unformated_fr /content/drive/My Drive/ift6759/ift6759-t6-p2/embeddings/unformated_fr_w2w/unaligned_unformated_fr_8\n",
            "FastText(vocab=32123, size=8, alpha=0.025)\n"
          ],
          "name": "stdout"
        },
        {
          "output_type": "execute_result",
          "data": {
            "text/plain": [
              "(<gensim.models.fasttext.FastText at 0x7f5468e940f0>,\n",
              " <gensim.models.fasttext.FastText at 0x7f5468b8a860>)"
            ]
          },
          "metadata": {
            "tags": []
          },
          "execution_count": 18
        }
      ]
    },
    {
      "cell_type": "markdown",
      "metadata": {
        "id": "SLZloDN8jLF1",
        "colab_type": "text"
      },
      "source": [
        "### GRU Language Model Training"
      ]
    },
    {
      "cell_type": "markdown",
      "metadata": {
        "id": "Y7rzaED4jQG9",
        "colab_type": "text"
      },
      "source": [
        "#### unformated_en_w2w"
      ]
    },
    {
      "cell_type": "code",
      "metadata": {
        "id": "X2-RDyFC5gEU",
        "colab_type": "code",
        "outputId": "683157fb-80dd-4ce6-f9a3-caa375953ec7",
        "colab": {
          "base_uri": "https://localhost:8080/",
          "height": 1000
        }
      },
      "source": [
        "!python train_language_model.py --task unformated_en_w2w --epochs 10 --batch_size 512 --embedding_warmer_epoch 5"
      ],
      "execution_count": 8,
      "outputs": [
        {
          "output_type": "stream",
          "text": [
            "2020-04-13 19:12:24.093586: I tensorflow/stream_executor/platform/default/dso_loader.cc:44] Successfully opened dynamic library libcudart.so.10.1\n",
            "Tensorflow version 2.2.0-rc2\n",
            "2020-04-13 19:12:26.416485: I tensorflow/stream_executor/platform/default/dso_loader.cc:44] Successfully opened dynamic library libcuda.so.1\n",
            "2020-04-13 19:12:26.418427: E tensorflow/stream_executor/cuda/cuda_driver.cc:313] failed call to cuInit: CUDA_ERROR_NO_DEVICE: no CUDA-capable device is detected\n",
            "2020-04-13 19:12:26.418467: I tensorflow/stream_executor/cuda/cuda_diagnostics.cc:156] kernel driver does not appear to be running on this host (4df7907d14d6): /proc/driver/nvidia/version does not exist\n",
            "2020-04-13 19:12:26.424709: I tensorflow/core/platform/profile_utils/cpu_utils.cc:102] CPU Frequency: 2300000000 Hz\n",
            "2020-04-13 19:12:26.424920: I tensorflow/compiler/xla/service/service.cc:168] XLA service 0x23032c0 initialized for platform Host (this does not guarantee that XLA will be used). Devices:\n",
            "2020-04-13 19:12:26.424952: I tensorflow/compiler/xla/service/service.cc:176]   StreamExecutor device (0): Host, Default Version\n",
            "2020-04-13 19:12:26.430541: I tensorflow/core/distributed_runtime/rpc/grpc_channel.cc:300] Initialize GrpcChannelCache for job worker -> {0 -> 10.63.248.194:8470}\n",
            "2020-04-13 19:12:26.430586: I tensorflow/core/distributed_runtime/rpc/grpc_channel.cc:300] Initialize GrpcChannelCache for job localhost -> {0 -> localhost:30700}\n",
            "2020-04-13 19:12:26.445767: I tensorflow/core/distributed_runtime/rpc/grpc_channel.cc:300] Initialize GrpcChannelCache for job worker -> {0 -> 10.63.248.194:8470}\n",
            "2020-04-13 19:12:26.445817: I tensorflow/core/distributed_runtime/rpc/grpc_channel.cc:300] Initialize GrpcChannelCache for job localhost -> {0 -> localhost:30700}\n",
            "2020-04-13 19:12:26.446389: I tensorflow/core/distributed_runtime/rpc/grpc_server_lib.cc:390] Started server with target: grpc://localhost:30700\n",
            "Running on TPU  ['10.63.248.194:8470']\n",
            "data_file:data/unaligned_unformated_en, tokenize_type:w, rm_punc:True\n",
            "/usr/local/lib/python3.6/dist-packages/smart_open/smart_open_lib.py:410: UserWarning: This function is deprecated, use smart_open.open instead. See the migration notes for details: https://github.com/RaRe-Technologies/smart_open/blob/master/README.rst#migrating-to-the-new-open-function\n",
            "  'See the migration notes for details: %s' % _MIGRATION_NOTES_URL\n",
            "  0% 0/474000 [00:00<?, ?it/s]/usr/local/lib/python3.6/dist-packages/gensim/matutils.py:737: FutureWarning: Conversion of the second argument of issubdtype from `int` to `np.signedinteger` is deprecated. In future, it will be treated as `np.int64 == np.dtype(int).type`.\n",
            "  if np.issubdtype(vec.dtype, np.int):\n",
            "100% 474000/474000 [08:36<00:00, 918.15it/s]\n",
            "Epoch 1/10\n",
            "WARNING:tensorflow:Model was constructed with shape (512, None) for input Tensor(\"embedding_input:0\", shape=(512, None), dtype=float32), but it was called on an input with incompatible shape (64, 194).\n",
            "WARNING:tensorflow:Model was constructed with shape (512, None) for input Tensor(\"embedding_input:0\", shape=(512, None), dtype=float32), but it was called on an input with incompatible shape (64, 194).\n",
            "WARNING:tensorflow:Model was constructed with shape (512, None) for input Tensor(\"embedding_input:0\", shape=(512, None), dtype=float32), but it was called on an input with incompatible shape (64, 194).\n",
            "WARNING:tensorflow:Model was constructed with shape (512, None) for input Tensor(\"embedding_input:0\", shape=(512, None), dtype=float32), but it was called on an input with incompatible shape (64, 194).\n",
            "500/500 [==============================] - ETA: 0s - loss: 5.5806WARNING:tensorflow:Model was constructed with shape (512, None) for input Tensor(\"embedding_input:0\", shape=(512, None), dtype=float32), but it was called on an input with incompatible shape (64, 194).\n",
            "WARNING:tensorflow:Model was constructed with shape (512, None) for input Tensor(\"embedding_input:0\", shape=(512, None), dtype=float32), but it was called on an input with incompatible shape (64, 194).\n",
            "500/500 [==============================] - 50s 99ms/step - loss: 5.5806 - val_loss: 4.8912\n",
            "Epoch 2/10\n",
            "500/500 [==============================] - ETA: 0s - loss: 4.7302WARNING:tensorflow:Model was constructed with shape (512, None) for input Tensor(\"embedding_input:0\", shape=(512, None), dtype=float32), but it was called on an input with incompatible shape (64, 194).\n",
            "WARNING:tensorflow:Model was constructed with shape (512, None) for input Tensor(\"embedding_input:0\", shape=(512, None), dtype=float32), but it was called on an input with incompatible shape (64, 194).\n",
            "500/500 [==============================] - 49s 99ms/step - loss: 4.7302 - val_loss: 4.6163\n",
            "Epoch 3/10\n",
            "500/500 [==============================] - ETA: 0s - loss: 4.5353WARNING:tensorflow:Model was constructed with shape (512, None) for input Tensor(\"embedding_input:0\", shape=(512, None), dtype=float32), but it was called on an input with incompatible shape (64, 194).\n",
            "WARNING:tensorflow:Model was constructed with shape (512, None) for input Tensor(\"embedding_input:0\", shape=(512, None), dtype=float32), but it was called on an input with incompatible shape (64, 194).\n",
            "500/500 [==============================] - 50s 99ms/step - loss: 4.5353 - val_loss: 4.4920\n",
            "Epoch 4/10\n",
            "500/500 [==============================] - ETA: 0s - loss: 4.4317WARNING:tensorflow:Model was constructed with shape (512, None) for input Tensor(\"embedding_input:0\", shape=(512, None), dtype=float32), but it was called on an input with incompatible shape (64, 194).\n",
            "WARNING:tensorflow:Model was constructed with shape (512, None) for input Tensor(\"embedding_input:0\", shape=(512, None), dtype=float32), but it was called on an input with incompatible shape (64, 194).\n",
            "500/500 [==============================] - 49s 99ms/step - loss: 4.4317 - val_loss: 4.4206\n",
            "Epoch 5/10\n",
            "500/500 [==============================] - ETA: 0s - loss: 4.3658WARNING:tensorflow:Model was constructed with shape (512, None) for input Tensor(\"embedding_input:0\", shape=(512, None), dtype=float32), but it was called on an input with incompatible shape (64, 194).\n",
            "WARNING:tensorflow:Model was constructed with shape (512, None) for input Tensor(\"embedding_input:0\", shape=(512, None), dtype=float32), but it was called on an input with incompatible shape (64, 194).\n",
            "500/500 [==============================] - 51s 102ms/step - loss: 4.3658 - val_loss: 4.3736\n",
            "Epoch 6/10\n",
            "500/500 [==============================] - ETA: 0s - loss: 4.3190WARNING:tensorflow:Model was constructed with shape (512, None) for input Tensor(\"embedding_input:0\", shape=(512, None), dtype=float32), but it was called on an input with incompatible shape (64, 194).\n",
            "WARNING:tensorflow:Model was constructed with shape (512, None) for input Tensor(\"embedding_input:0\", shape=(512, None), dtype=float32), but it was called on an input with incompatible shape (64, 194).\n",
            "500/500 [==============================] - 50s 100ms/step - loss: 4.3190 - val_loss: 4.3411\n",
            "Epoch 7/10\n",
            "500/500 [==============================] - ETA: 0s - loss: 4.2807WARNING:tensorflow:Model was constructed with shape (512, None) for input Tensor(\"embedding_input:0\", shape=(512, None), dtype=float32), but it was called on an input with incompatible shape (64, 194).\n",
            "WARNING:tensorflow:Model was constructed with shape (512, None) for input Tensor(\"embedding_input:0\", shape=(512, None), dtype=float32), but it was called on an input with incompatible shape (64, 194).\n",
            "500/500 [==============================] - 51s 101ms/step - loss: 4.2807 - val_loss: 4.3171\n",
            "Epoch 8/10\n",
            "500/500 [==============================] - ETA: 0s - loss: 4.2525WARNING:tensorflow:Model was constructed with shape (512, None) for input Tensor(\"embedding_input:0\", shape=(512, None), dtype=float32), but it was called on an input with incompatible shape (64, 194).\n",
            "WARNING:tensorflow:Model was constructed with shape (512, None) for input Tensor(\"embedding_input:0\", shape=(512, None), dtype=float32), but it was called on an input with incompatible shape (64, 194).\n",
            "500/500 [==============================] - 50s 100ms/step - loss: 4.2525 - val_loss: 4.2985\n",
            "Epoch 9/10\n",
            "500/500 [==============================] - ETA: 0s - loss: 4.2307WARNING:tensorflow:Model was constructed with shape (512, None) for input Tensor(\"embedding_input:0\", shape=(512, None), dtype=float32), but it was called on an input with incompatible shape (64, 194).\n",
            "WARNING:tensorflow:Model was constructed with shape (512, None) for input Tensor(\"embedding_input:0\", shape=(512, None), dtype=float32), but it was called on an input with incompatible shape (64, 194).\n",
            "500/500 [==============================] - 51s 102ms/step - loss: 4.2307 - val_loss: 4.2827\n",
            "Epoch 10/10\n",
            "500/500 [==============================] - ETA: 0s - loss: 4.2100WARNING:tensorflow:Model was constructed with shape (512, None) for input Tensor(\"embedding_input:0\", shape=(512, None), dtype=float32), but it was called on an input with incompatible shape (64, 194).\n",
            "WARNING:tensorflow:Model was constructed with shape (512, None) for input Tensor(\"embedding_input:0\", shape=(512, None), dtype=float32), but it was called on an input with incompatible shape (64, 194).\n",
            "500/500 [==============================] - 51s 102ms/step - loss: 4.2100 - val_loss: 4.2697\n"
          ],
          "name": "stdout"
        }
      ]
    },
    {
      "cell_type": "markdown",
      "metadata": {
        "id": "G33ZAtYtjVeu",
        "colab_type": "text"
      },
      "source": [
        "#### unformated_fr_w2w"
      ]
    },
    {
      "cell_type": "code",
      "metadata": {
        "id": "i0Qh54ia5oTC",
        "colab_type": "code",
        "outputId": "ae1a6893-7d41-42e3-ce53-d81983727e45",
        "colab": {
          "base_uri": "https://localhost:8080/",
          "height": 1000
        }
      },
      "source": [
        "!python train_language_model.py --task unformated_fr_w2w --epochs 10 --batch_size 512 --embedding_warmer_epoch 5"
      ],
      "execution_count": 9,
      "outputs": [
        {
          "output_type": "stream",
          "text": [
            "2020-04-13 19:30:17.566636: I tensorflow/stream_executor/platform/default/dso_loader.cc:44] Successfully opened dynamic library libcudart.so.10.1\n",
            "Tensorflow version 2.2.0-rc2\n",
            "2020-04-13 19:30:20.108938: I tensorflow/stream_executor/platform/default/dso_loader.cc:44] Successfully opened dynamic library libcuda.so.1\n",
            "2020-04-13 19:30:20.110990: E tensorflow/stream_executor/cuda/cuda_driver.cc:313] failed call to cuInit: CUDA_ERROR_NO_DEVICE: no CUDA-capable device is detected\n",
            "2020-04-13 19:30:20.111038: I tensorflow/stream_executor/cuda/cuda_diagnostics.cc:156] kernel driver does not appear to be running on this host (4df7907d14d6): /proc/driver/nvidia/version does not exist\n",
            "2020-04-13 19:30:20.117752: I tensorflow/core/platform/profile_utils/cpu_utils.cc:102] CPU Frequency: 2300000000 Hz\n",
            "2020-04-13 19:30:20.117987: I tensorflow/compiler/xla/service/service.cc:168] XLA service 0x15cd2c0 initialized for platform Host (this does not guarantee that XLA will be used). Devices:\n",
            "2020-04-13 19:30:20.118022: I tensorflow/compiler/xla/service/service.cc:176]   StreamExecutor device (0): Host, Default Version\n",
            "2020-04-13 19:30:20.124013: I tensorflow/core/distributed_runtime/rpc/grpc_channel.cc:300] Initialize GrpcChannelCache for job worker -> {0 -> 10.63.248.194:8470}\n",
            "2020-04-13 19:30:20.124067: I tensorflow/core/distributed_runtime/rpc/grpc_channel.cc:300] Initialize GrpcChannelCache for job localhost -> {0 -> localhost:31163}\n",
            "2020-04-13 19:30:20.137511: I tensorflow/core/distributed_runtime/rpc/grpc_channel.cc:300] Initialize GrpcChannelCache for job worker -> {0 -> 10.63.248.194:8470}\n",
            "2020-04-13 19:30:20.137572: I tensorflow/core/distributed_runtime/rpc/grpc_channel.cc:300] Initialize GrpcChannelCache for job localhost -> {0 -> localhost:31163}\n",
            "2020-04-13 19:30:20.138136: I tensorflow/core/distributed_runtime/rpc/grpc_server_lib.cc:390] Started server with target: grpc://localhost:31163\n",
            "Running on TPU  ['10.63.248.194:8470']\n",
            "data_file:data/unaligned_unformated_fr, tokenize_type:w, rm_punc:True\n",
            "/usr/local/lib/python3.6/dist-packages/smart_open/smart_open_lib.py:410: UserWarning: This function is deprecated, use smart_open.open instead. See the migration notes for details: https://github.com/RaRe-Technologies/smart_open/blob/master/README.rst#migrating-to-the-new-open-function\n",
            "  'See the migration notes for details: %s' % _MIGRATION_NOTES_URL\n",
            "  0% 0/474000 [00:00<?, ?it/s]/usr/local/lib/python3.6/dist-packages/gensim/matutils.py:737: FutureWarning: Conversion of the second argument of issubdtype from `int` to `np.signedinteger` is deprecated. In future, it will be treated as `np.int64 == np.dtype(int).type`.\n",
            "  if np.issubdtype(vec.dtype, np.int):\n",
            "100% 474000/474000 [12:55<00:00, 611.32it/s]\n",
            "Epoch 1/10\n",
            "WARNING:tensorflow:Model was constructed with shape (512, None) for input Tensor(\"embedding_input:0\", shape=(512, None), dtype=float32), but it was called on an input with incompatible shape (64, 243).\n",
            "WARNING:tensorflow:Model was constructed with shape (512, None) for input Tensor(\"embedding_input:0\", shape=(512, None), dtype=float32), but it was called on an input with incompatible shape (64, 243).\n",
            "WARNING:tensorflow:Model was constructed with shape (512, None) for input Tensor(\"embedding_input:0\", shape=(512, None), dtype=float32), but it was called on an input with incompatible shape (64, 243).\n",
            "WARNING:tensorflow:Model was constructed with shape (512, None) for input Tensor(\"embedding_input:0\", shape=(512, None), dtype=float32), but it was called on an input with incompatible shape (64, 243).\n",
            "500/500 [==============================] - ETA: 0s - loss: 5.5337WARNING:tensorflow:Model was constructed with shape (512, None) for input Tensor(\"embedding_input:0\", shape=(512, None), dtype=float32), but it was called on an input with incompatible shape (64, 243).\n",
            "WARNING:tensorflow:Model was constructed with shape (512, None) for input Tensor(\"embedding_input:0\", shape=(512, None), dtype=float32), but it was called on an input with incompatible shape (64, 243).\n",
            "500/500 [==============================] - 72s 145ms/step - loss: 5.5337 - val_loss: 4.7839\n",
            "Epoch 2/10\n",
            "500/500 [==============================] - ETA: 0s - loss: 4.6018WARNING:tensorflow:Model was constructed with shape (512, None) for input Tensor(\"embedding_input:0\", shape=(512, None), dtype=float32), but it was called on an input with incompatible shape (64, 243).\n",
            "WARNING:tensorflow:Model was constructed with shape (512, None) for input Tensor(\"embedding_input:0\", shape=(512, None), dtype=float32), but it was called on an input with incompatible shape (64, 243).\n",
            "500/500 [==============================] - 72s 145ms/step - loss: 4.6018 - val_loss: 4.4824\n",
            "Epoch 3/10\n",
            "500/500 [==============================] - ETA: 0s - loss: 4.3919WARNING:tensorflow:Model was constructed with shape (512, None) for input Tensor(\"embedding_input:0\", shape=(512, None), dtype=float32), but it was called on an input with incompatible shape (64, 243).\n",
            "WARNING:tensorflow:Model was constructed with shape (512, None) for input Tensor(\"embedding_input:0\", shape=(512, None), dtype=float32), but it was called on an input with incompatible shape (64, 243).\n",
            "500/500 [==============================] - 72s 144ms/step - loss: 4.3919 - val_loss: 4.3477\n",
            "Epoch 4/10\n",
            "500/500 [==============================] - ETA: 0s - loss: 4.2790WARNING:tensorflow:Model was constructed with shape (512, None) for input Tensor(\"embedding_input:0\", shape=(512, None), dtype=float32), but it was called on an input with incompatible shape (64, 243).\n",
            "WARNING:tensorflow:Model was constructed with shape (512, None) for input Tensor(\"embedding_input:0\", shape=(512, None), dtype=float32), but it was called on an input with incompatible shape (64, 243).\n",
            "500/500 [==============================] - 72s 144ms/step - loss: 4.2790 - val_loss: 4.2682\n",
            "Epoch 5/10\n",
            "500/500 [==============================] - ETA: 0s - loss: 4.2055WARNING:tensorflow:Model was constructed with shape (512, None) for input Tensor(\"embedding_input:0\", shape=(512, None), dtype=float32), but it was called on an input with incompatible shape (64, 243).\n",
            "WARNING:tensorflow:Model was constructed with shape (512, None) for input Tensor(\"embedding_input:0\", shape=(512, None), dtype=float32), but it was called on an input with incompatible shape (64, 243).\n",
            "500/500 [==============================] - 72s 144ms/step - loss: 4.2055 - val_loss: 4.2163\n",
            "Epoch 6/10\n",
            "500/500 [==============================] - ETA: 0s - loss: 4.1543WARNING:tensorflow:Model was constructed with shape (512, None) for input Tensor(\"embedding_input:0\", shape=(512, None), dtype=float32), but it was called on an input with incompatible shape (64, 243).\n",
            "WARNING:tensorflow:Model was constructed with shape (512, None) for input Tensor(\"embedding_input:0\", shape=(512, None), dtype=float32), but it was called on an input with incompatible shape (64, 243).\n",
            "500/500 [==============================] - 72s 144ms/step - loss: 4.1543 - val_loss: 4.1801\n",
            "Epoch 7/10\n",
            "500/500 [==============================] - ETA: 0s - loss: 4.1139WARNING:tensorflow:Model was constructed with shape (512, None) for input Tensor(\"embedding_input:0\", shape=(512, None), dtype=float32), but it was called on an input with incompatible shape (64, 243).\n",
            "WARNING:tensorflow:Model was constructed with shape (512, None) for input Tensor(\"embedding_input:0\", shape=(512, None), dtype=float32), but it was called on an input with incompatible shape (64, 243).\n",
            "500/500 [==============================] - 72s 144ms/step - loss: 4.1139 - val_loss: 4.1528\n",
            "Epoch 8/10\n",
            "500/500 [==============================] - ETA: 0s - loss: 4.0832WARNING:tensorflow:Model was constructed with shape (512, None) for input Tensor(\"embedding_input:0\", shape=(512, None), dtype=float32), but it was called on an input with incompatible shape (64, 243).\n",
            "WARNING:tensorflow:Model was constructed with shape (512, None) for input Tensor(\"embedding_input:0\", shape=(512, None), dtype=float32), but it was called on an input with incompatible shape (64, 243).\n",
            "500/500 [==============================] - 72s 143ms/step - loss: 4.0832 - val_loss: 4.1309\n",
            "Epoch 9/10\n",
            "500/500 [==============================] - ETA: 0s - loss: 4.0569WARNING:tensorflow:Model was constructed with shape (512, None) for input Tensor(\"embedding_input:0\", shape=(512, None), dtype=float32), but it was called on an input with incompatible shape (64, 243).\n",
            "WARNING:tensorflow:Model was constructed with shape (512, None) for input Tensor(\"embedding_input:0\", shape=(512, None), dtype=float32), but it was called on an input with incompatible shape (64, 243).\n",
            "500/500 [==============================] - 72s 144ms/step - loss: 4.0569 - val_loss: 4.1136\n",
            "Epoch 10/10\n",
            "500/500 [==============================] - ETA: 0s - loss: 4.0341WARNING:tensorflow:Model was constructed with shape (512, None) for input Tensor(\"embedding_input:0\", shape=(512, None), dtype=float32), but it was called on an input with incompatible shape (64, 243).\n",
            "WARNING:tensorflow:Model was constructed with shape (512, None) for input Tensor(\"embedding_input:0\", shape=(512, None), dtype=float32), but it was called on an input with incompatible shape (64, 243).\n",
            "500/500 [==============================] - 72s 144ms/step - loss: 4.0341 - val_loss: 4.0998\n"
          ],
          "name": "stdout"
        }
      ]
    },
    {
      "cell_type": "markdown",
      "metadata": {
        "id": "m8vF7tcajY07",
        "colab_type": "text"
      },
      "source": [
        "#### unformated_fr_c2c"
      ]
    },
    {
      "cell_type": "code",
      "metadata": {
        "id": "60naHt9_5oFz",
        "colab_type": "code",
        "outputId": "a6368d11-6a23-49b9-d3df-44fd8124314b",
        "colab": {
          "base_uri": "https://localhost:8080/",
          "height": 1000
        }
      },
      "source": [
        "!python train_language_model.py --task unformated_fr_c2c --epochs 10 --batch_size 512"
      ],
      "execution_count": 10,
      "outputs": [
        {
          "output_type": "stream",
          "text": [
            "2020-04-13 19:56:35.477014: I tensorflow/stream_executor/platform/default/dso_loader.cc:44] Successfully opened dynamic library libcudart.so.10.1\n",
            "Tensorflow version 2.2.0-rc2\n",
            "2020-04-13 19:56:37.875094: I tensorflow/stream_executor/platform/default/dso_loader.cc:44] Successfully opened dynamic library libcuda.so.1\n",
            "2020-04-13 19:56:37.877069: E tensorflow/stream_executor/cuda/cuda_driver.cc:313] failed call to cuInit: CUDA_ERROR_NO_DEVICE: no CUDA-capable device is detected\n",
            "2020-04-13 19:56:37.877110: I tensorflow/stream_executor/cuda/cuda_diagnostics.cc:156] kernel driver does not appear to be running on this host (4df7907d14d6): /proc/driver/nvidia/version does not exist\n",
            "2020-04-13 19:56:37.883437: I tensorflow/core/platform/profile_utils/cpu_utils.cc:102] CPU Frequency: 2300000000 Hz\n",
            "2020-04-13 19:56:37.883654: I tensorflow/compiler/xla/service/service.cc:168] XLA service 0x2ed72c0 initialized for platform Host (this does not guarantee that XLA will be used). Devices:\n",
            "2020-04-13 19:56:37.883686: I tensorflow/compiler/xla/service/service.cc:176]   StreamExecutor device (0): Host, Default Version\n",
            "2020-04-13 19:56:37.889809: I tensorflow/core/distributed_runtime/rpc/grpc_channel.cc:300] Initialize GrpcChannelCache for job worker -> {0 -> 10.63.248.194:8470}\n",
            "2020-04-13 19:56:37.889862: I tensorflow/core/distributed_runtime/rpc/grpc_channel.cc:300] Initialize GrpcChannelCache for job localhost -> {0 -> localhost:31796}\n",
            "2020-04-13 19:56:37.903092: I tensorflow/core/distributed_runtime/rpc/grpc_channel.cc:300] Initialize GrpcChannelCache for job worker -> {0 -> 10.63.248.194:8470}\n",
            "2020-04-13 19:56:37.903145: I tensorflow/core/distributed_runtime/rpc/grpc_channel.cc:300] Initialize GrpcChannelCache for job localhost -> {0 -> localhost:31796}\n",
            "2020-04-13 19:56:37.903744: I tensorflow/core/distributed_runtime/rpc/grpc_server_lib.cc:390] Started server with target: grpc://localhost:31796\n",
            "Running on TPU  ['10.63.248.194:8470']\n",
            "data_file:data/unaligned_unformated_fr, tokenize_type:c, rm_punc:True\n",
            "100% 474000/474000 [00:09<00:00, 49663.61it/s]\n",
            "tcmalloc: large alloc 1844813824 bytes == 0x6135c000 @  0x7f388ddc81e7 0x7f388b2055e1 0x7f388b269e88 0x7f388b26a147 0x7f388b302118 0x50ac25 0x50c5b9 0x508245 0x50a080 0x50aa7d 0x50d390 0x508245 0x50a080 0x50aa7d 0x50d390 0x508245 0x50a080 0x50aa7d 0x50d390 0x509d48 0x50aa7d 0x50c5b9 0x508245 0x50a080 0x50aa7d 0x50d390 0x508245 0x58958c 0x5a067e 0x50d966 0x508245\n",
            "tcmalloc: large alloc 1291370496 bytes == 0xcfab8000 @  0x7f388ddc81e7 0x7f388b2055e1 0x7f388b269e88 0x7f388b269fa3 0x7f388b2f50c6 0x7f388b2f5528 0x50c88b 0x508245 0x50a080 0x50aa7d 0x50d390 0x508245 0x50a080 0x50aa7d 0x50c5b9 0x58efc9 0x4c9546 0x5886f4 0x58892e 0x551b81 0x5aa6ec 0x50abb3 0x50c5b9 0x508245 0x50a080 0x50aa7d 0x50d390 0x508245 0x58958c 0x5a067e 0x50d966\n",
            "Epoch 1/10\n",
            "WARNING:tensorflow:Model was constructed with shape (512, None) for input Tensor(\"embedding_input:0\", shape=(512, None), dtype=float32), but it was called on an input with incompatible shape (64, 972).\n",
            "WARNING:tensorflow:Model was constructed with shape (512, None) for input Tensor(\"embedding_input:0\", shape=(512, None), dtype=float32), but it was called on an input with incompatible shape (64, 972).\n",
            "WARNING:tensorflow:Model was constructed with shape (512, None) for input Tensor(\"embedding_input:0\", shape=(512, None), dtype=float32), but it was called on an input with incompatible shape (64, 972).\n",
            "WARNING:tensorflow:Model was constructed with shape (512, None) for input Tensor(\"embedding_input:0\", shape=(512, None), dtype=float32), but it was called on an input with incompatible shape (64, 972).\n",
            "500/500 [==============================] - ETA: 0s - loss: 2.8147WARNING:tensorflow:Model was constructed with shape (512, None) for input Tensor(\"embedding_input:0\", shape=(512, None), dtype=float32), but it was called on an input with incompatible shape (64, 972).\n",
            "WARNING:tensorflow:Model was constructed with shape (512, None) for input Tensor(\"embedding_input:0\", shape=(512, None), dtype=float32), but it was called on an input with incompatible shape (64, 972).\n",
            "500/500 [==============================] - 275s 550ms/step - loss: 2.8147 - val_loss: 2.3590\n",
            "Epoch 2/10\n",
            "500/500 [==============================] - ETA: 0s - loss: 2.1719WARNING:tensorflow:Model was constructed with shape (512, None) for input Tensor(\"embedding_input:0\", shape=(512, None), dtype=float32), but it was called on an input with incompatible shape (64, 972).\n",
            "WARNING:tensorflow:Model was constructed with shape (512, None) for input Tensor(\"embedding_input:0\", shape=(512, None), dtype=float32), but it was called on an input with incompatible shape (64, 972).\n",
            "500/500 [==============================] - 274s 548ms/step - loss: 2.1719 - val_loss: 2.0260\n",
            "Epoch 3/10\n",
            "500/500 [==============================] - ETA: 0s - loss: 1.9209WARNING:tensorflow:Model was constructed with shape (512, None) for input Tensor(\"embedding_input:0\", shape=(512, None), dtype=float32), but it was called on an input with incompatible shape (64, 972).\n",
            "WARNING:tensorflow:Model was constructed with shape (512, None) for input Tensor(\"embedding_input:0\", shape=(512, None), dtype=float32), but it was called on an input with incompatible shape (64, 972).\n",
            "500/500 [==============================] - 274s 549ms/step - loss: 1.9209 - val_loss: 1.8286\n",
            "Epoch 4/10\n",
            "500/500 [==============================] - ETA: 0s - loss: 1.7634WARNING:tensorflow:Model was constructed with shape (512, None) for input Tensor(\"embedding_input:0\", shape=(512, None), dtype=float32), but it was called on an input with incompatible shape (64, 972).\n",
            "WARNING:tensorflow:Model was constructed with shape (512, None) for input Tensor(\"embedding_input:0\", shape=(512, None), dtype=float32), but it was called on an input with incompatible shape (64, 972).\n",
            "500/500 [==============================] - 274s 548ms/step - loss: 1.7634 - val_loss: 1.7066\n",
            "Epoch 5/10\n",
            "500/500 [==============================] - ETA: 0s - loss: 1.6618WARNING:tensorflow:Model was constructed with shape (512, None) for input Tensor(\"embedding_input:0\", shape=(512, None), dtype=float32), but it was called on an input with incompatible shape (64, 972).\n",
            "WARNING:tensorflow:Model was constructed with shape (512, None) for input Tensor(\"embedding_input:0\", shape=(512, None), dtype=float32), but it was called on an input with incompatible shape (64, 972).\n",
            "500/500 [==============================] - 275s 550ms/step - loss: 1.6618 - val_loss: 1.6197\n",
            "Epoch 6/10\n",
            "500/500 [==============================] - ETA: 0s - loss: 1.5836WARNING:tensorflow:Model was constructed with shape (512, None) for input Tensor(\"embedding_input:0\", shape=(512, None), dtype=float32), but it was called on an input with incompatible shape (64, 972).\n",
            "WARNING:tensorflow:Model was constructed with shape (512, None) for input Tensor(\"embedding_input:0\", shape=(512, None), dtype=float32), but it was called on an input with incompatible shape (64, 972).\n",
            "500/500 [==============================] - 274s 549ms/step - loss: 1.5836 - val_loss: 1.5489\n",
            "Epoch 7/10\n",
            "500/500 [==============================] - ETA: 0s - loss: 1.5189WARNING:tensorflow:Model was constructed with shape (512, None) for input Tensor(\"embedding_input:0\", shape=(512, None), dtype=float32), but it was called on an input with incompatible shape (64, 972).\n",
            "WARNING:tensorflow:Model was constructed with shape (512, None) for input Tensor(\"embedding_input:0\", shape=(512, None), dtype=float32), but it was called on an input with incompatible shape (64, 972).\n",
            "500/500 [==============================] - 275s 549ms/step - loss: 1.5189 - val_loss: 1.4897\n",
            "Epoch 8/10\n",
            "500/500 [==============================] - ETA: 0s - loss: 1.4636WARNING:tensorflow:Model was constructed with shape (512, None) for input Tensor(\"embedding_input:0\", shape=(512, None), dtype=float32), but it was called on an input with incompatible shape (64, 972).\n",
            "WARNING:tensorflow:Model was constructed with shape (512, None) for input Tensor(\"embedding_input:0\", shape=(512, None), dtype=float32), but it was called on an input with incompatible shape (64, 972).\n",
            "500/500 [==============================] - 274s 548ms/step - loss: 1.4636 - val_loss: 1.4384\n",
            "Epoch 9/10\n",
            "500/500 [==============================] - ETA: 0s - loss: 1.4160WARNING:tensorflow:Model was constructed with shape (512, None) for input Tensor(\"embedding_input:0\", shape=(512, None), dtype=float32), but it was called on an input with incompatible shape (64, 972).\n",
            "WARNING:tensorflow:Model was constructed with shape (512, None) for input Tensor(\"embedding_input:0\", shape=(512, None), dtype=float32), but it was called on an input with incompatible shape (64, 972).\n",
            "500/500 [==============================] - 274s 548ms/step - loss: 1.4160 - val_loss: 1.3935\n",
            "Epoch 10/10\n",
            "500/500 [==============================] - ETA: 0s - loss: 1.3754WARNING:tensorflow:Model was constructed with shape (512, None) for input Tensor(\"embedding_input:0\", shape=(512, None), dtype=float32), but it was called on an input with incompatible shape (64, 972).\n",
            "WARNING:tensorflow:Model was constructed with shape (512, None) for input Tensor(\"embedding_input:0\", shape=(512, None), dtype=float32), but it was called on an input with incompatible shape (64, 972).\n",
            "500/500 [==============================] - 275s 550ms/step - loss: 1.3754 - val_loss: 1.3582\n"
          ],
          "name": "stdout"
        }
      ]
    },
    {
      "cell_type": "markdown",
      "metadata": {
        "id": "ub5rJGd4jcew",
        "colab_type": "text"
      },
      "source": [
        "#### formated_fr_c2c\n"
      ]
    },
    {
      "cell_type": "code",
      "metadata": {
        "id": "aOd8rCxK5n4Z",
        "colab_type": "code",
        "outputId": "2d77c27a-46d5-478c-feb5-d6bf3249fba9",
        "colab": {
          "base_uri": "https://localhost:8080/",
          "height": 1000
        }
      },
      "source": [
        "!python train_language_model.py --task formated_fr_c2c --epochs 10 --batch_size 512 "
      ],
      "execution_count": 11,
      "outputs": [
        {
          "output_type": "stream",
          "text": [
            "2020-04-13 20:43:23.071321: I tensorflow/stream_executor/platform/default/dso_loader.cc:44] Successfully opened dynamic library libcudart.so.10.1\n",
            "Tensorflow version 2.2.0-rc2\n",
            "2020-04-13 20:43:25.500083: I tensorflow/stream_executor/platform/default/dso_loader.cc:44] Successfully opened dynamic library libcuda.so.1\n",
            "2020-04-13 20:43:25.519453: E tensorflow/stream_executor/cuda/cuda_driver.cc:313] failed call to cuInit: CUDA_ERROR_NO_DEVICE: no CUDA-capable device is detected\n",
            "2020-04-13 20:43:25.519547: I tensorflow/stream_executor/cuda/cuda_diagnostics.cc:156] kernel driver does not appear to be running on this host (4df7907d14d6): /proc/driver/nvidia/version does not exist\n",
            "2020-04-13 20:43:25.533904: I tensorflow/core/platform/profile_utils/cpu_utils.cc:102] CPU Frequency: 2300000000 Hz\n",
            "2020-04-13 20:43:25.534357: I tensorflow/compiler/xla/service/service.cc:168] XLA service 0x27492c0 initialized for platform Host (this does not guarantee that XLA will be used). Devices:\n",
            "2020-04-13 20:43:25.534408: I tensorflow/compiler/xla/service/service.cc:176]   StreamExecutor device (0): Host, Default Version\n",
            "2020-04-13 20:43:25.540720: I tensorflow/core/distributed_runtime/rpc/grpc_channel.cc:300] Initialize GrpcChannelCache for job worker -> {0 -> 10.63.248.194:8470}\n",
            "2020-04-13 20:43:25.540773: I tensorflow/core/distributed_runtime/rpc/grpc_channel.cc:300] Initialize GrpcChannelCache for job localhost -> {0 -> localhost:32060}\n",
            "2020-04-13 20:43:25.555889: I tensorflow/core/distributed_runtime/rpc/grpc_channel.cc:300] Initialize GrpcChannelCache for job worker -> {0 -> 10.63.248.194:8470}\n",
            "2020-04-13 20:43:25.555952: I tensorflow/core/distributed_runtime/rpc/grpc_channel.cc:300] Initialize GrpcChannelCache for job localhost -> {0 -> localhost:32060}\n",
            "2020-04-13 20:43:25.556489: I tensorflow/core/distributed_runtime/rpc/grpc_server_lib.cc:390] Started server with target: grpc://localhost:32060\n",
            "Running on TPU  ['10.63.248.194:8470']\n",
            "data_file:data/unaligned_formated_fr, tokenize_type:c, rm_punc:False\n",
            "100% 474000/474000 [00:10<00:00, 43711.73it/s]\n",
            "tcmalloc: large alloc 1859977216 bytes == 0x6452a000 @  0x7fe97ca951e7 0x7fe979ed25e1 0x7fe979f36e88 0x7fe979f37147 0x7fe979fcf118 0x50ac25 0x50c5b9 0x508245 0x50a080 0x50aa7d 0x50d390 0x508245 0x50a080 0x50aa7d 0x50d390 0x508245 0x50a080 0x50aa7d 0x50d390 0x509d48 0x50aa7d 0x50c5b9 0x508245 0x50a080 0x50aa7d 0x50d390 0x508245 0x58958c 0x5a067e 0x50d966 0x508245\n",
            "tcmalloc: large alloc 1301987328 bytes == 0xd3afa000 @  0x7fe97ca951e7 0x7fe979ed25e1 0x7fe979f36e88 0x7fe979f36fa3 0x7fe979fc20c6 0x7fe979fc2528 0x50c88b 0x508245 0x50a080 0x50aa7d 0x50d390 0x508245 0x50a080 0x50aa7d 0x50c5b9 0x58efc9 0x4c9546 0x5886f4 0x58892e 0x551b81 0x5aa6ec 0x50abb3 0x50c5b9 0x508245 0x50a080 0x50aa7d 0x50d390 0x508245 0x58958c 0x5a067e 0x50d966\n",
            "Epoch 1/10\n",
            "WARNING:tensorflow:Model was constructed with shape (512, None) for input Tensor(\"embedding_input:0\", shape=(512, None), dtype=float32), but it was called on an input with incompatible shape (64, 980).\n",
            "WARNING:tensorflow:Model was constructed with shape (512, None) for input Tensor(\"embedding_input:0\", shape=(512, None), dtype=float32), but it was called on an input with incompatible shape (64, 980).\n",
            "WARNING:tensorflow:Model was constructed with shape (512, None) for input Tensor(\"embedding_input:0\", shape=(512, None), dtype=float32), but it was called on an input with incompatible shape (64, 980).\n",
            "WARNING:tensorflow:Model was constructed with shape (512, None) for input Tensor(\"embedding_input:0\", shape=(512, None), dtype=float32), but it was called on an input with incompatible shape (64, 980).\n",
            "500/500 [==============================] - ETA: 0s - loss: 2.8218WARNING:tensorflow:Model was constructed with shape (512, None) for input Tensor(\"embedding_input:0\", shape=(512, None), dtype=float32), but it was called on an input with incompatible shape (64, 980).\n",
            "WARNING:tensorflow:Model was constructed with shape (512, None) for input Tensor(\"embedding_input:0\", shape=(512, None), dtype=float32), but it was called on an input with incompatible shape (64, 980).\n",
            "500/500 [==============================] - 276s 552ms/step - loss: 2.8218 - val_loss: 2.3477\n",
            "Epoch 2/10\n",
            "500/500 [==============================] - ETA: 0s - loss: 2.1525WARNING:tensorflow:Model was constructed with shape (512, None) for input Tensor(\"embedding_input:0\", shape=(512, None), dtype=float32), but it was called on an input with incompatible shape (64, 980).\n",
            "WARNING:tensorflow:Model was constructed with shape (512, None) for input Tensor(\"embedding_input:0\", shape=(512, None), dtype=float32), but it was called on an input with incompatible shape (64, 980).\n",
            "500/500 [==============================] - 276s 552ms/step - loss: 2.1525 - val_loss: 2.0034\n",
            "Epoch 3/10\n",
            "500/500 [==============================] - ETA: 0s - loss: 1.9045WARNING:tensorflow:Model was constructed with shape (512, None) for input Tensor(\"embedding_input:0\", shape=(512, None), dtype=float32), but it was called on an input with incompatible shape (64, 980).\n",
            "WARNING:tensorflow:Model was constructed with shape (512, None) for input Tensor(\"embedding_input:0\", shape=(512, None), dtype=float32), but it was called on an input with incompatible shape (64, 980).\n",
            "500/500 [==============================] - 276s 552ms/step - loss: 1.9045 - val_loss: 1.8181\n",
            "Epoch 4/10\n",
            "500/500 [==============================] - ETA: 0s - loss: 1.7531WARNING:tensorflow:Model was constructed with shape (512, None) for input Tensor(\"embedding_input:0\", shape=(512, None), dtype=float32), but it was called on an input with incompatible shape (64, 980).\n",
            "WARNING:tensorflow:Model was constructed with shape (512, None) for input Tensor(\"embedding_input:0\", shape=(512, None), dtype=float32), but it was called on an input with incompatible shape (64, 980).\n",
            "500/500 [==============================] - 275s 551ms/step - loss: 1.7531 - val_loss: 1.6959\n",
            "Epoch 5/10\n",
            "500/500 [==============================] - ETA: 0s - loss: 1.6484WARNING:tensorflow:Model was constructed with shape (512, None) for input Tensor(\"embedding_input:0\", shape=(512, None), dtype=float32), but it was called on an input with incompatible shape (64, 980).\n",
            "WARNING:tensorflow:Model was constructed with shape (512, None) for input Tensor(\"embedding_input:0\", shape=(512, None), dtype=float32), but it was called on an input with incompatible shape (64, 980).\n",
            "500/500 [==============================] - 276s 552ms/step - loss: 1.6484 - val_loss: 1.6011\n",
            "Epoch 6/10\n",
            "500/500 [==============================] - ETA: 0s - loss: 1.5601WARNING:tensorflow:Model was constructed with shape (512, None) for input Tensor(\"embedding_input:0\", shape=(512, None), dtype=float32), but it was called on an input with incompatible shape (64, 980).\n",
            "WARNING:tensorflow:Model was constructed with shape (512, None) for input Tensor(\"embedding_input:0\", shape=(512, None), dtype=float32), but it was called on an input with incompatible shape (64, 980).\n",
            "500/500 [==============================] - 275s 550ms/step - loss: 1.5601 - val_loss: 1.5239\n",
            "Epoch 7/10\n",
            "500/500 [==============================] - ETA: 0s - loss: 1.4925WARNING:tensorflow:Model was constructed with shape (512, None) for input Tensor(\"embedding_input:0\", shape=(512, None), dtype=float32), but it was called on an input with incompatible shape (64, 980).\n",
            "WARNING:tensorflow:Model was constructed with shape (512, None) for input Tensor(\"embedding_input:0\", shape=(512, None), dtype=float32), but it was called on an input with incompatible shape (64, 980).\n",
            "500/500 [==============================] - 275s 551ms/step - loss: 1.4925 - val_loss: 1.4618\n",
            "Epoch 8/10\n",
            "500/500 [==============================] - ETA: 0s - loss: 1.4344WARNING:tensorflow:Model was constructed with shape (512, None) for input Tensor(\"embedding_input:0\", shape=(512, None), dtype=float32), but it was called on an input with incompatible shape (64, 980).\n",
            "WARNING:tensorflow:Model was constructed with shape (512, None) for input Tensor(\"embedding_input:0\", shape=(512, None), dtype=float32), but it was called on an input with incompatible shape (64, 980).\n",
            "500/500 [==============================] - 275s 550ms/step - loss: 1.4344 - val_loss: 1.4086\n",
            "Epoch 9/10\n",
            "500/500 [==============================] - ETA: 0s - loss: 1.3869WARNING:tensorflow:Model was constructed with shape (512, None) for input Tensor(\"embedding_input:0\", shape=(512, None), dtype=float32), but it was called on an input with incompatible shape (64, 980).\n",
            "WARNING:tensorflow:Model was constructed with shape (512, None) for input Tensor(\"embedding_input:0\", shape=(512, None), dtype=float32), but it was called on an input with incompatible shape (64, 980).\n",
            "500/500 [==============================] - 275s 551ms/step - loss: 1.3869 - val_loss: 1.3662\n",
            "Epoch 10/10\n",
            "500/500 [==============================] - ETA: 0s - loss: 1.3489WARNING:tensorflow:Model was constructed with shape (512, None) for input Tensor(\"embedding_input:0\", shape=(512, None), dtype=float32), but it was called on an input with incompatible shape (64, 980).\n",
            "WARNING:tensorflow:Model was constructed with shape (512, None) for input Tensor(\"embedding_input:0\", shape=(512, None), dtype=float32), but it was called on an input with incompatible shape (64, 980).\n",
            "500/500 [==============================] - 275s 550ms/step - loss: 1.3489 - val_loss: 1.3326\n"
          ],
          "name": "stdout"
        }
      ]
    },
    {
      "cell_type": "code",
      "metadata": {
        "id": "KCKmPo_nmVJN",
        "colab_type": "code",
        "colab": {}
      },
      "source": [
        ""
      ],
      "execution_count": 0,
      "outputs": []
    }
  ]
}