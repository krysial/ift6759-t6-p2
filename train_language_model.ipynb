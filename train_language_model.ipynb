{
  "nbformat": 4,
  "nbformat_minor": 0,
  "metadata": {
    "colab": {
      "name": "train_language_model.ipynb",
      "provenance": [],
      "collapsed_sections": [],
      "toc_visible": true
    },
    "kernelspec": {
      "name": "python3",
      "display_name": "Python 3"
    },
    "accelerator": "TPU"
  },
  "cells": [
    {
      "cell_type": "code",
      "metadata": {
        "id": "70-riBj15Np_",
        "colab_type": "code",
        "outputId": "e8f45ca9-7db5-4c9f-9820-92df8958b656",
        "colab": {
          "base_uri": "https://localhost:8080/",
          "height": 122
        }
      },
      "source": [
        "from google.colab import drive\n",
        "drive.mount('/content/drive')"
      ],
      "execution_count": 0,
      "outputs": [
        {
          "output_type": "stream",
          "text": [
            "Go to this URL in a browser: https://accounts.google.com/o/oauth2/auth?client_id=947318989803-6bn6qk8qdgf4n4g3pfee6491hc0brc4i.apps.googleusercontent.com&redirect_uri=urn%3aietf%3awg%3aoauth%3a2.0%3aoob&response_type=code&scope=email%20https%3a%2f%2fwww.googleapis.com%2fauth%2fdocs.test%20https%3a%2f%2fwww.googleapis.com%2fauth%2fdrive%20https%3a%2f%2fwww.googleapis.com%2fauth%2fdrive.photos.readonly%20https%3a%2f%2fwww.googleapis.com%2fauth%2fpeopleapi.readonly\n",
            "\n",
            "Enter your authorization code:\n",
            "··········\n",
            "Mounted at /content/drive\n"
          ],
          "name": "stdout"
        }
      ]
    },
    {
      "cell_type": "code",
      "metadata": {
        "id": "Gvkf2NtYUnga",
        "colab_type": "code",
        "outputId": "fad3d138-d24a-4985-dede-8f636b93482d",
        "colab": {
          "base_uri": "https://localhost:8080/",
          "height": 34
        }
      },
      "source": [
        "import os\n",
        "os.chdir(os.path.join('drive', 'My Drive', 'ift6759', 'ift6759-t6-p2'))\n",
        "os.getcwd()"
      ],
      "execution_count": 0,
      "outputs": [
        {
          "output_type": "execute_result",
          "data": {
            "text/plain": [
              "'/content/drive/My Drive/ift6759/ift6759-t6-p2'"
            ]
          },
          "metadata": {
            "tags": []
          },
          "execution_count": 2
        }
      ]
    },
    {
      "cell_type": "code",
      "metadata": {
        "id": "Qzzy3rwtU8Fl",
        "colab_type": "code",
        "outputId": "e01aba32-b975-4bf9-c0c6-a57312add2fd",
        "colab": {
          "base_uri": "https://localhost:8080/",
          "height": 71
        }
      },
      "source": [
        "!nvidia-smi"
      ],
      "execution_count": 0,
      "outputs": [
        {
          "output_type": "stream",
          "text": [
            "NVIDIA-SMI has failed because it couldn't communicate with the NVIDIA driver. Make sure that the latest NVIDIA driver is installed and running.\n",
            "\n"
          ],
          "name": "stdout"
        }
      ]
    },
    {
      "cell_type": "code",
      "metadata": {
        "id": "xtkVv_ozx-RG",
        "colab_type": "code",
        "outputId": "f25f736d-dbc3-4bdb-da67-77c97a16b7ea",
        "colab": {
          "base_uri": "https://localhost:8080/",
          "height": 88
        }
      },
      "source": [
        "from utils.gensim_embeddings import create_model\n",
        "from gensim.models import FastText\n",
        "task = 'unformated_fr_w2w'\n",
        "file_name = 'unaligned_' + task[:-4]\n",
        "data_path = os.path.join(os.getcwd(), 'data', file_name)\n",
        "save_path = os.path.join(os.getcwd(), 'embeddings', task, file_name)\n",
        "create_model(FastText, data_path, save_path=save_path, size=256)\n",
        "# print(task, file_name, data_path, save_path)"
      ],
      "execution_count": 0,
      "outputs": [
        {
          "output_type": "stream",
          "text": [
            "/usr/local/lib/python3.6/dist-packages/smart_open/smart_open_lib.py:410: UserWarning: This function is deprecated, use smart_open.open instead. See the migration notes for details: https://github.com/RaRe-Technologies/smart_open/blob/master/README.rst#migrating-to-the-new-open-function\n",
            "  'See the migration notes for details: %s' % _MIGRATION_NOTES_URL\n"
          ],
          "name": "stderr"
        },
        {
          "output_type": "execute_result",
          "data": {
            "text/plain": [
              "<gensim.models.fasttext.FastText at 0x7fa4ad49c4e0>"
            ]
          },
          "metadata": {
            "tags": []
          },
          "execution_count": 18
        }
      ]
    },
    {
      "cell_type": "code",
      "metadata": {
        "id": "CVANzDi9j79N",
        "colab_type": "code",
        "outputId": "c1e279af-dfa6-45d6-e587-9cf8fee79f58",
        "colab": {
          "base_uri": "https://localhost:8080/",
          "height": 938
        }
      },
      "source": [
        "#dropout\n",
        "!python train_language_model.py --task unformated_en_w2w --epochs 10 --batch_size 128 --embedding_warmer_epoch 2"
      ],
      "execution_count": 0,
      "outputs": [
        {
          "output_type": "stream",
          "text": [
            "Tensorflow version 2.2.0-rc2\n",
            "2020-04-11 00:11:18.564297: E tensorflow/stream_executor/cuda/cuda_driver.cc:313] failed call to cuInit: CUDA_ERROR_NO_DEVICE: no CUDA-capable device is detected\n",
            "Running on TPU  ['10.19.98.2:8470']\n",
            "data_file:data/unaligned_unformated_en, tokenize_type:w, rm_punc:True\n",
            "100% 474000/474000 [00:03<00:00, 136808.46it/s]\n",
            "\n",
            "# v2id dictionary saved at: /content/drive/My Drive/ift6759/ift6759-t6-p2/language_models/unformated_en_w2w/v2id.json\n",
            "/usr/local/lib/python3.6/dist-packages/smart_open/smart_open_lib.py:410: UserWarning: This function is deprecated, use smart_open.open instead. See the migration notes for details: https://github.com/RaRe-Technologies/smart_open/blob/master/README.rst#migrating-to-the-new-open-function\n",
            "  'See the migration notes for details: %s' % _MIGRATION_NOTES_URL\n",
            "Epoch 1/10\n",
            "WARNING:tensorflow:Model was constructed with shape (128, None) for input Tensor(\"embedding_input:0\", shape=(128, None), dtype=float32), but it was called on an input with incompatible shape (16, 181).\n",
            "WARNING:tensorflow:Model was constructed with shape (128, None) for input Tensor(\"embedding_input:0\", shape=(128, None), dtype=float32), but it was called on an input with incompatible shape (16, 181).\n",
            "WARNING:tensorflow:Model was constructed with shape (128, None) for input Tensor(\"embedding_input:0\", shape=(128, None), dtype=float32), but it was called on an input with incompatible shape (16, 181).\n",
            "WARNING:tensorflow:Model was constructed with shape (128, None) for input Tensor(\"embedding_input:0\", shape=(128, None), dtype=float32), but it was called on an input with incompatible shape (16, 181).\n",
            "500/500 [==============================] - ETA: 0s - loss: 0.6387WARNING:tensorflow:Model was constructed with shape (128, None) for input Tensor(\"embedding_input:0\", shape=(128, None), dtype=float32), but it was called on an input with incompatible shape (16, 181).\n",
            "WARNING:tensorflow:Model was constructed with shape (128, None) for input Tensor(\"embedding_input:0\", shape=(128, None), dtype=float32), but it was called on an input with incompatible shape (16, 181).\n",
            "500/500 [==============================] - 66s 132ms/step - loss: 0.6387 - val_loss: 0.5758\n",
            "Epoch 2/10\n",
            "500/500 [==============================] - ETA: 0s - loss: 0.5568WARNING:tensorflow:Model was constructed with shape (128, None) for input Tensor(\"embedding_input:0\", shape=(128, None), dtype=float32), but it was called on an input with incompatible shape (16, 181).\n",
            "WARNING:tensorflow:Model was constructed with shape (128, None) for input Tensor(\"embedding_input:0\", shape=(128, None), dtype=float32), but it was called on an input with incompatible shape (16, 181).\n",
            "500/500 [==============================] - 66s 133ms/step - loss: 0.5568 - val_loss: 0.5439\n",
            "Epoch 3/10\n",
            "500/500 [==============================] - ETA: 0s - loss: 0.5369WARNING:tensorflow:Model was constructed with shape (128, None) for input Tensor(\"embedding_input:0\", shape=(128, None), dtype=float32), but it was called on an input with incompatible shape (16, 181).\n",
            "WARNING:tensorflow:Model was constructed with shape (128, None) for input Tensor(\"embedding_input:0\", shape=(128, None), dtype=float32), but it was called on an input with incompatible shape (16, 181).\n",
            "500/500 [==============================] - 66s 131ms/step - loss: 0.5369 - val_loss: 0.5289\n",
            "Epoch 4/10\n",
            "500/500 [==============================] - ETA: 0s - loss: 0.5225WARNING:tensorflow:Model was constructed with shape (128, None) for input Tensor(\"embedding_input:0\", shape=(128, None), dtype=float32), but it was called on an input with incompatible shape (16, 181).\n",
            "WARNING:tensorflow:Model was constructed with shape (128, None) for input Tensor(\"embedding_input:0\", shape=(128, None), dtype=float32), but it was called on an input with incompatible shape (16, 181).\n",
            "500/500 [==============================] - 66s 132ms/step - loss: 0.5225 - val_loss: 0.5202\n",
            "Epoch 5/10\n",
            "500/500 [==============================] - ETA: 0s - loss: 0.5179WARNING:tensorflow:Model was constructed with shape (128, None) for input Tensor(\"embedding_input:0\", shape=(128, None), dtype=float32), but it was called on an input with incompatible shape (16, 181).\n",
            "WARNING:tensorflow:Model was constructed with shape (128, None) for input Tensor(\"embedding_input:0\", shape=(128, None), dtype=float32), but it was called on an input with incompatible shape (16, 181).\n",
            "500/500 [==============================] - 66s 131ms/step - loss: 0.5179 - val_loss: 0.5139\n",
            "Epoch 6/10\n",
            "500/500 [==============================] - ETA: 0s - loss: 0.5112WARNING:tensorflow:Model was constructed with shape (128, None) for input Tensor(\"embedding_input:0\", shape=(128, None), dtype=float32), but it was called on an input with incompatible shape (16, 181).\n",
            "WARNING:tensorflow:Model was constructed with shape (128, None) for input Tensor(\"embedding_input:0\", shape=(128, None), dtype=float32), but it was called on an input with incompatible shape (16, 181).\n",
            "500/500 [==============================] - 65s 131ms/step - loss: 0.5112 - val_loss: 0.5100\n",
            "Epoch 7/10\n",
            "500/500 [==============================] - ETA: 0s - loss: 0.4996WARNING:tensorflow:Model was constructed with shape (128, None) for input Tensor(\"embedding_input:0\", shape=(128, None), dtype=float32), but it was called on an input with incompatible shape (16, 181).\n",
            "WARNING:tensorflow:Model was constructed with shape (128, None) for input Tensor(\"embedding_input:0\", shape=(128, None), dtype=float32), but it was called on an input with incompatible shape (16, 181).\n",
            "500/500 [==============================] - 65s 131ms/step - loss: 0.4996 - val_loss: 0.5078\n",
            "Epoch 8/10\n",
            "500/500 [==============================] - ETA: 0s - loss: 0.4962WARNING:tensorflow:Model was constructed with shape (128, None) for input Tensor(\"embedding_input:0\", shape=(128, None), dtype=float32), but it was called on an input with incompatible shape (16, 181).\n",
            "WARNING:tensorflow:Model was constructed with shape (128, None) for input Tensor(\"embedding_input:0\", shape=(128, None), dtype=float32), but it was called on an input with incompatible shape (16, 181).\n",
            "500/500 [==============================] - 67s 134ms/step - loss: 0.4962 - val_loss: 0.5055\n",
            "Epoch 9/10\n",
            "500/500 [==============================] - ETA: 0s - loss: 0.4885WARNING:tensorflow:Model was constructed with shape (128, None) for input Tensor(\"embedding_input:0\", shape=(128, None), dtype=float32), but it was called on an input with incompatible shape (16, 181).\n",
            "WARNING:tensorflow:Model was constructed with shape (128, None) for input Tensor(\"embedding_input:0\", shape=(128, None), dtype=float32), but it was called on an input with incompatible shape (16, 181).\n",
            "500/500 [==============================] - 67s 134ms/step - loss: 0.4885 - val_loss: 0.5043\n",
            "Epoch 10/10\n",
            "500/500 [==============================] - ETA: 0s - loss: 0.4870WARNING:tensorflow:Model was constructed with shape (128, None) for input Tensor(\"embedding_input:0\", shape=(128, None), dtype=float32), but it was called on an input with incompatible shape (16, 181).\n",
            "WARNING:tensorflow:Model was constructed with shape (128, None) for input Tensor(\"embedding_input:0\", shape=(128, None), dtype=float32), but it was called on an input with incompatible shape (16, 181).\n",
            "500/500 [==============================] - 65s 131ms/step - loss: 0.4870 - val_loss: 0.5029\n"
          ],
          "name": "stdout"
        }
      ]
    },
    {
      "cell_type": "code",
      "metadata": {
        "id": "X2-RDyFC5gEU",
        "colab_type": "code",
        "outputId": "503de178-9870-4ec3-eb3f-a0ed267f1819",
        "colab": {
          "base_uri": "https://localhost:8080/",
          "height": 938
        }
      },
      "source": [
        "!python train_language_model.py --task unformated_en_w2w --epochs 10 --batch_size 128 --embedding_warmer_epoch 2"
      ],
      "execution_count": 0,
      "outputs": [
        {
          "output_type": "stream",
          "text": [
            "Tensorflow version 2.2.0-rc2\n",
            "2020-04-10 22:57:48.003378: E tensorflow/stream_executor/cuda/cuda_driver.cc:313] failed call to cuInit: CUDA_ERROR_NO_DEVICE: no CUDA-capable device is detected\n",
            "Running on TPU  ['10.19.98.2:8470']\n",
            "data_file:data/unaligned_unformated_en, tokenize_type:w, rm_punc:True\n",
            "100% 474000/474000 [00:03<00:00, 134513.98it/s]\n",
            "\n",
            "# v2id dictionary saved at: /content/drive/My Drive/ift6759/ift6759-t6-p2/language_models/unformated_en_w2w/v2id.json\n",
            "/usr/local/lib/python3.6/dist-packages/smart_open/smart_open_lib.py:410: UserWarning: This function is deprecated, use smart_open.open instead. See the migration notes for details: https://github.com/RaRe-Technologies/smart_open/blob/master/README.rst#migrating-to-the-new-open-function\n",
            "  'See the migration notes for details: %s' % _MIGRATION_NOTES_URL\n",
            "Epoch 1/10\n",
            "WARNING:tensorflow:Model was constructed with shape (128, None) for input Tensor(\"embedding_input:0\", shape=(128, None), dtype=float32), but it was called on an input with incompatible shape (16, 181).\n",
            "WARNING:tensorflow:Model was constructed with shape (128, None) for input Tensor(\"embedding_input:0\", shape=(128, None), dtype=float32), but it was called on an input with incompatible shape (16, 181).\n",
            "WARNING:tensorflow:Model was constructed with shape (128, None) for input Tensor(\"embedding_input:0\", shape=(128, None), dtype=float32), but it was called on an input with incompatible shape (16, 181).\n",
            "WARNING:tensorflow:Model was constructed with shape (128, None) for input Tensor(\"embedding_input:0\", shape=(128, None), dtype=float32), but it was called on an input with incompatible shape (16, 181).\n",
            "500/500 [==============================] - ETA: 0s - loss: 0.6358WARNING:tensorflow:Model was constructed with shape (128, None) for input Tensor(\"embedding_input:0\", shape=(128, None), dtype=float32), but it was called on an input with incompatible shape (16, 181).\n",
            "WARNING:tensorflow:Model was constructed with shape (128, None) for input Tensor(\"embedding_input:0\", shape=(128, None), dtype=float32), but it was called on an input with incompatible shape (16, 181).\n",
            "500/500 [==============================] - 66s 132ms/step - loss: 0.6358 - val_loss: 0.5749\n",
            "Epoch 2/10\n",
            "500/500 [==============================] - ETA: 0s - loss: 0.5546WARNING:tensorflow:Model was constructed with shape (128, None) for input Tensor(\"embedding_input:0\", shape=(128, None), dtype=float32), but it was called on an input with incompatible shape (16, 181).\n",
            "WARNING:tensorflow:Model was constructed with shape (128, None) for input Tensor(\"embedding_input:0\", shape=(128, None), dtype=float32), but it was called on an input with incompatible shape (16, 181).\n",
            "500/500 [==============================] - 65s 130ms/step - loss: 0.5546 - val_loss: 0.5432\n",
            "Epoch 3/10\n",
            "500/500 [==============================] - ETA: 0s - loss: 0.5352WARNING:tensorflow:Model was constructed with shape (128, None) for input Tensor(\"embedding_input:0\", shape=(128, None), dtype=float32), but it was called on an input with incompatible shape (16, 181).\n",
            "WARNING:tensorflow:Model was constructed with shape (128, None) for input Tensor(\"embedding_input:0\", shape=(128, None), dtype=float32), but it was called on an input with incompatible shape (16, 181).\n",
            "500/500 [==============================] - 65s 130ms/step - loss: 0.5352 - val_loss: 0.5288\n",
            "Epoch 4/10\n",
            "500/500 [==============================] - ETA: 0s - loss: 0.5249WARNING:tensorflow:Model was constructed with shape (128, None) for input Tensor(\"embedding_input:0\", shape=(128, None), dtype=float32), but it was called on an input with incompatible shape (16, 181).\n",
            "WARNING:tensorflow:Model was constructed with shape (128, None) for input Tensor(\"embedding_input:0\", shape=(128, None), dtype=float32), but it was called on an input with incompatible shape (16, 181).\n",
            "500/500 [==============================] - 66s 131ms/step - loss: 0.5249 - val_loss: 0.5195\n",
            "Epoch 5/10\n",
            "500/500 [==============================] - ETA: 0s - loss: 0.5133WARNING:tensorflow:Model was constructed with shape (128, None) for input Tensor(\"embedding_input:0\", shape=(128, None), dtype=float32), but it was called on an input with incompatible shape (16, 181).\n",
            "WARNING:tensorflow:Model was constructed with shape (128, None) for input Tensor(\"embedding_input:0\", shape=(128, None), dtype=float32), but it was called on an input with incompatible shape (16, 181).\n",
            "500/500 [==============================] - 65s 131ms/step - loss: 0.5133 - val_loss: 0.5138\n",
            "Epoch 6/10\n",
            "500/500 [==============================] - ETA: 0s - loss: 0.5080WARNING:tensorflow:Model was constructed with shape (128, None) for input Tensor(\"embedding_input:0\", shape=(128, None), dtype=float32), but it was called on an input with incompatible shape (16, 181).\n",
            "WARNING:tensorflow:Model was constructed with shape (128, None) for input Tensor(\"embedding_input:0\", shape=(128, None), dtype=float32), but it was called on an input with incompatible shape (16, 181).\n",
            "500/500 [==============================] - 65s 129ms/step - loss: 0.5080 - val_loss: 0.5097\n",
            "Epoch 7/10\n",
            "500/500 [==============================] - ETA: 0s - loss: 0.4980WARNING:tensorflow:Model was constructed with shape (128, None) for input Tensor(\"embedding_input:0\", shape=(128, None), dtype=float32), but it was called on an input with incompatible shape (16, 181).\n",
            "WARNING:tensorflow:Model was constructed with shape (128, None) for input Tensor(\"embedding_input:0\", shape=(128, None), dtype=float32), but it was called on an input with incompatible shape (16, 181).\n",
            "500/500 [==============================] - 65s 129ms/step - loss: 0.4980 - val_loss: 0.5074\n",
            "Epoch 8/10\n",
            "500/500 [==============================] - ETA: 0s - loss: 0.4915WARNING:tensorflow:Model was constructed with shape (128, None) for input Tensor(\"embedding_input:0\", shape=(128, None), dtype=float32), but it was called on an input with incompatible shape (16, 181).\n",
            "WARNING:tensorflow:Model was constructed with shape (128, None) for input Tensor(\"embedding_input:0\", shape=(128, None), dtype=float32), but it was called on an input with incompatible shape (16, 181).\n",
            "500/500 [==============================] - 65s 129ms/step - loss: 0.4915 - val_loss: 0.5055\n",
            "Epoch 9/10\n",
            "500/500 [==============================] - ETA: 0s - loss: 0.4895WARNING:tensorflow:Model was constructed with shape (128, None) for input Tensor(\"embedding_input:0\", shape=(128, None), dtype=float32), but it was called on an input with incompatible shape (16, 181).\n",
            "WARNING:tensorflow:Model was constructed with shape (128, None) for input Tensor(\"embedding_input:0\", shape=(128, None), dtype=float32), but it was called on an input with incompatible shape (16, 181).\n",
            "500/500 [==============================] - 64s 128ms/step - loss: 0.4895 - val_loss: 0.5040\n",
            "Epoch 10/10\n",
            "500/500 [==============================] - ETA: 0s - loss: 0.4832WARNING:tensorflow:Model was constructed with shape (128, None) for input Tensor(\"embedding_input:0\", shape=(128, None), dtype=float32), but it was called on an input with incompatible shape (16, 181).\n",
            "WARNING:tensorflow:Model was constructed with shape (128, None) for input Tensor(\"embedding_input:0\", shape=(128, None), dtype=float32), but it was called on an input with incompatible shape (16, 181).\n",
            "500/500 [==============================] - 64s 128ms/step - loss: 0.4832 - val_loss: 0.5028\n"
          ],
          "name": "stdout"
        }
      ]
    },
    {
      "cell_type": "code",
      "metadata": {
        "id": "rNH0-aznk6Sa",
        "colab_type": "code",
        "outputId": "e129495d-8ded-4ce2-c73f-b3ed3c69e277",
        "colab": {
          "base_uri": "https://localhost:8080/",
          "height": 1000
        }
      },
      "source": [
        "# dropout\n",
        "!python train_language_model.py --task unformated_fr_w2w --epochs 10 --batch_size 128 --embedding_warmer_epoch 2"
      ],
      "execution_count": 0,
      "outputs": [
        {
          "output_type": "stream",
          "text": [
            "Tensorflow version 2.2.0-rc2\n",
            "2020-04-11 00:28:16.861158: E tensorflow/stream_executor/cuda/cuda_driver.cc:313] failed call to cuInit: CUDA_ERROR_NO_DEVICE: no CUDA-capable device is detected\n",
            "Running on TPU  ['10.19.98.2:8470']\n",
            "data_file:data/unaligned_unformated_fr, tokenize_type:w, rm_punc:True\n",
            "100% 474000/474000 [00:04<00:00, 117739.35it/s]\n",
            "\n",
            "# v2id dictionary saved at: /content/drive/My Drive/ift6759/ift6759-t6-p2/language_models/unformated_fr_w2w/v2id.json\n",
            "/usr/local/lib/python3.6/dist-packages/smart_open/smart_open_lib.py:410: UserWarning: This function is deprecated, use smart_open.open instead. See the migration notes for details: https://github.com/RaRe-Technologies/smart_open/blob/master/README.rst#migrating-to-the-new-open-function\n",
            "  'See the migration notes for details: %s' % _MIGRATION_NOTES_URL\n",
            "Epoch 1/10\n",
            "WARNING:tensorflow:Model was constructed with shape (128, None) for input Tensor(\"embedding_input:0\", shape=(128, None), dtype=float32), but it was called on an input with incompatible shape (16, 225).\n",
            "WARNING:tensorflow:Model was constructed with shape (128, None) for input Tensor(\"embedding_input:0\", shape=(128, None), dtype=float32), but it was called on an input with incompatible shape (16, 225).\n",
            "WARNING:tensorflow:Model was constructed with shape (128, None) for input Tensor(\"embedding_input:0\", shape=(128, None), dtype=float32), but it was called on an input with incompatible shape (16, 225).\n",
            "WARNING:tensorflow:Model was constructed with shape (128, None) for input Tensor(\"embedding_input:0\", shape=(128, None), dtype=float32), but it was called on an input with incompatible shape (16, 225).\n",
            "500/500 [==============================] - ETA: 0s - loss: 0.5453WARNING:tensorflow:Model was constructed with shape (128, None) for input Tensor(\"embedding_input:0\", shape=(128, None), dtype=float32), but it was called on an input with incompatible shape (16, 225).\n",
            "WARNING:tensorflow:Model was constructed with shape (128, None) for input Tensor(\"embedding_input:0\", shape=(128, None), dtype=float32), but it was called on an input with incompatible shape (16, 225).\n",
            "2020-04-11 00:32:05.610693: W tensorflow/core/framework/cpu_allocator_impl.cc:81] Allocation of 170276864 exceeds 10% of free system memory.\n",
            "2020-04-11 00:32:07.778604: W tensorflow/core/framework/cpu_allocator_impl.cc:81] Allocation of 170276864 exceeds 10% of free system memory.\n",
            "2020-04-11 00:32:08.287908: W tensorflow/core/framework/cpu_allocator_impl.cc:81] Allocation of 170276864 exceeds 10% of free system memory.\n",
            "500/500 [==============================] - 109s 219ms/step - loss: 0.5453 - val_loss: 0.4826\n",
            "Epoch 2/10\n",
            "500/500 [==============================] - ETA: 0s - loss: 0.4651WARNING:tensorflow:Model was constructed with shape (128, None) for input Tensor(\"embedding_input:0\", shape=(128, None), dtype=float32), but it was called on an input with incompatible shape (16, 225).\n",
            "WARNING:tensorflow:Model was constructed with shape (128, None) for input Tensor(\"embedding_input:0\", shape=(128, None), dtype=float32), but it was called on an input with incompatible shape (16, 225).\n",
            "2020-04-11 00:33:54.462225: W tensorflow/core/framework/cpu_allocator_impl.cc:81] Allocation of 170276864 exceeds 10% of free system memory.\n",
            "2020-04-11 00:33:56.083711: W tensorflow/core/framework/cpu_allocator_impl.cc:81] Allocation of 170276864 exceeds 10% of free system memory.\n",
            "500/500 [==============================] - 107s 215ms/step - loss: 0.4651 - val_loss: 0.4550\n",
            "Epoch 3/10\n",
            "500/500 [==============================] - ETA: 0s - loss: 0.4464WARNING:tensorflow:Model was constructed with shape (128, None) for input Tensor(\"embedding_input:0\", shape=(128, None), dtype=float32), but it was called on an input with incompatible shape (16, 225).\n",
            "WARNING:tensorflow:Model was constructed with shape (128, None) for input Tensor(\"embedding_input:0\", shape=(128, None), dtype=float32), but it was called on an input with incompatible shape (16, 225).\n",
            "500/500 [==============================] - 107s 214ms/step - loss: 0.4464 - val_loss: 0.4414\n",
            "Epoch 4/10\n",
            "500/500 [==============================] - ETA: 0s - loss: 0.4368WARNING:tensorflow:Model was constructed with shape (128, None) for input Tensor(\"embedding_input:0\", shape=(128, None), dtype=float32), but it was called on an input with incompatible shape (16, 225).\n",
            "WARNING:tensorflow:Model was constructed with shape (128, None) for input Tensor(\"embedding_input:0\", shape=(128, None), dtype=float32), but it was called on an input with incompatible shape (16, 225).\n",
            "500/500 [==============================] - 107s 214ms/step - loss: 0.4368 - val_loss: 0.4331\n",
            "Epoch 5/10\n",
            "500/500 [==============================] - ETA: 0s - loss: 0.4313WARNING:tensorflow:Model was constructed with shape (128, None) for input Tensor(\"embedding_input:0\", shape=(128, None), dtype=float32), but it was called on an input with incompatible shape (16, 225).\n",
            "WARNING:tensorflow:Model was constructed with shape (128, None) for input Tensor(\"embedding_input:0\", shape=(128, None), dtype=float32), but it was called on an input with incompatible shape (16, 225).\n",
            "500/500 [==============================] - 107s 214ms/step - loss: 0.4313 - val_loss: 0.4274\n",
            "Epoch 6/10\n",
            "500/500 [==============================] - ETA: 0s - loss: 0.4231WARNING:tensorflow:Model was constructed with shape (128, None) for input Tensor(\"embedding_input:0\", shape=(128, None), dtype=float32), but it was called on an input with incompatible shape (16, 225).\n",
            "WARNING:tensorflow:Model was constructed with shape (128, None) for input Tensor(\"embedding_input:0\", shape=(128, None), dtype=float32), but it was called on an input with incompatible shape (16, 225).\n",
            "500/500 [==============================] - 107s 215ms/step - loss: 0.4231 - val_loss: 0.4239\n",
            "Epoch 7/10\n",
            "500/500 [==============================] - ETA: 0s - loss: 0.4137WARNING:tensorflow:Model was constructed with shape (128, None) for input Tensor(\"embedding_input:0\", shape=(128, None), dtype=float32), but it was called on an input with incompatible shape (16, 225).\n",
            "WARNING:tensorflow:Model was constructed with shape (128, None) for input Tensor(\"embedding_input:0\", shape=(128, None), dtype=float32), but it was called on an input with incompatible shape (16, 225).\n",
            "500/500 [==============================] - 108s 215ms/step - loss: 0.4137 - val_loss: 0.4216\n",
            "Epoch 8/10\n",
            "500/500 [==============================] - ETA: 0s - loss: 0.4079WARNING:tensorflow:Model was constructed with shape (128, None) for input Tensor(\"embedding_input:0\", shape=(128, None), dtype=float32), but it was called on an input with incompatible shape (16, 225).\n",
            "WARNING:tensorflow:Model was constructed with shape (128, None) for input Tensor(\"embedding_input:0\", shape=(128, None), dtype=float32), but it was called on an input with incompatible shape (16, 225).\n",
            "500/500 [==============================] - 107s 214ms/step - loss: 0.4079 - val_loss: 0.4197\n",
            "Epoch 9/10\n",
            "500/500 [==============================] - ETA: 0s - loss: 0.4036WARNING:tensorflow:Model was constructed with shape (128, None) for input Tensor(\"embedding_input:0\", shape=(128, None), dtype=float32), but it was called on an input with incompatible shape (16, 225).\n",
            "WARNING:tensorflow:Model was constructed with shape (128, None) for input Tensor(\"embedding_input:0\", shape=(128, None), dtype=float32), but it was called on an input with incompatible shape (16, 225).\n",
            "500/500 [==============================] - 107s 214ms/step - loss: 0.4036 - val_loss: 0.4180\n",
            "Epoch 10/10\n",
            "500/500 [==============================] - ETA: 0s - loss: 0.4022WARNING:tensorflow:Model was constructed with shape (128, None) for input Tensor(\"embedding_input:0\", shape=(128, None), dtype=float32), but it was called on an input with incompatible shape (16, 225).\n",
            "WARNING:tensorflow:Model was constructed with shape (128, None) for input Tensor(\"embedding_input:0\", shape=(128, None), dtype=float32), but it was called on an input with incompatible shape (16, 225).\n",
            "500/500 [==============================] - 107s 214ms/step - loss: 0.4022 - val_loss: 0.4170\n"
          ],
          "name": "stdout"
        }
      ]
    },
    {
      "cell_type": "code",
      "metadata": {
        "id": "i0Qh54ia5oTC",
        "colab_type": "code",
        "outputId": "1f8a1c91-5c14-4b96-d3f8-edd372c807e1",
        "colab": {
          "base_uri": "https://localhost:8080/",
          "height": 1000
        }
      },
      "source": [
        "!python train_language_model.py --task unformated_fr_w2w --epochs 10 --batch_size 128 --embedding_warmer_epoch 2"
      ],
      "execution_count": 0,
      "outputs": [
        {
          "output_type": "stream",
          "text": [
            "Tensorflow version 2.2.0-rc2\n",
            "2020-04-10 23:10:04.527428: E tensorflow/stream_executor/cuda/cuda_driver.cc:313] failed call to cuInit: CUDA_ERROR_NO_DEVICE: no CUDA-capable device is detected\n",
            "Running on TPU  ['10.19.98.2:8470']\n",
            "data_file:data/unaligned_unformated_fr, tokenize_type:w, rm_punc:True\n",
            "100% 474000/474000 [00:03<00:00, 120316.45it/s]\n",
            "\n",
            "# v2id dictionary saved at: /content/drive/My Drive/ift6759/ift6759-t6-p2/language_models/unformated_fr_w2w/v2id.json\n",
            "/usr/local/lib/python3.6/dist-packages/smart_open/smart_open_lib.py:410: UserWarning: This function is deprecated, use smart_open.open instead. See the migration notes for details: https://github.com/RaRe-Technologies/smart_open/blob/master/README.rst#migrating-to-the-new-open-function\n",
            "  'See the migration notes for details: %s' % _MIGRATION_NOTES_URL\n",
            "Epoch 1/10\n",
            "WARNING:tensorflow:Model was constructed with shape (128, None) for input Tensor(\"embedding_input:0\", shape=(128, None), dtype=float32), but it was called on an input with incompatible shape (16, 225).\n",
            "WARNING:tensorflow:Model was constructed with shape (128, None) for input Tensor(\"embedding_input:0\", shape=(128, None), dtype=float32), but it was called on an input with incompatible shape (16, 225).\n",
            "WARNING:tensorflow:Model was constructed with shape (128, None) for input Tensor(\"embedding_input:0\", shape=(128, None), dtype=float32), but it was called on an input with incompatible shape (16, 225).\n",
            "WARNING:tensorflow:Model was constructed with shape (128, None) for input Tensor(\"embedding_input:0\", shape=(128, None), dtype=float32), but it was called on an input with incompatible shape (16, 225).\n",
            "500/500 [==============================] - ETA: 0s - loss: 0.5421WARNING:tensorflow:Model was constructed with shape (128, None) for input Tensor(\"embedding_input:0\", shape=(128, None), dtype=float32), but it was called on an input with incompatible shape (16, 225).\n",
            "WARNING:tensorflow:Model was constructed with shape (128, None) for input Tensor(\"embedding_input:0\", shape=(128, None), dtype=float32), but it was called on an input with incompatible shape (16, 225).\n",
            "2020-04-10 23:13:49.120809: W tensorflow/core/framework/cpu_allocator_impl.cc:81] Allocation of 170276864 exceeds 10% of free system memory.\n",
            "2020-04-10 23:13:50.742881: W tensorflow/core/framework/cpu_allocator_impl.cc:81] Allocation of 170276864 exceeds 10% of free system memory.\n",
            "2020-04-10 23:13:51.181718: W tensorflow/core/framework/cpu_allocator_impl.cc:81] Allocation of 170276864 exceeds 10% of free system memory.\n",
            "500/500 [==============================] - 107s 213ms/step - loss: 0.5421 - val_loss: 0.4816\n",
            "Epoch 2/10\n",
            "500/500 [==============================] - ETA: 0s - loss: 0.4661WARNING:tensorflow:Model was constructed with shape (128, None) for input Tensor(\"embedding_input:0\", shape=(128, None), dtype=float32), but it was called on an input with incompatible shape (16, 225).\n",
            "WARNING:tensorflow:Model was constructed with shape (128, None) for input Tensor(\"embedding_input:0\", shape=(128, None), dtype=float32), but it was called on an input with incompatible shape (16, 225).\n",
            "2020-04-10 23:15:35.725736: W tensorflow/core/framework/cpu_allocator_impl.cc:81] Allocation of 170276864 exceeds 10% of free system memory.\n",
            "2020-04-10 23:15:37.251826: W tensorflow/core/framework/cpu_allocator_impl.cc:81] Allocation of 170276864 exceeds 10% of free system memory.\n",
            "500/500 [==============================] - 106s 212ms/step - loss: 0.4661 - val_loss: 0.4536\n",
            "Epoch 3/10\n",
            "500/500 [==============================] - ETA: 0s - loss: 0.4452WARNING:tensorflow:Model was constructed with shape (128, None) for input Tensor(\"embedding_input:0\", shape=(128, None), dtype=float32), but it was called on an input with incompatible shape (16, 225).\n",
            "WARNING:tensorflow:Model was constructed with shape (128, None) for input Tensor(\"embedding_input:0\", shape=(128, None), dtype=float32), but it was called on an input with incompatible shape (16, 225).\n",
            "500/500 [==============================] - 106s 212ms/step - loss: 0.4452 - val_loss: 0.4404\n",
            "Epoch 4/10\n",
            "500/500 [==============================] - ETA: 0s - loss: 0.4369WARNING:tensorflow:Model was constructed with shape (128, None) for input Tensor(\"embedding_input:0\", shape=(128, None), dtype=float32), but it was called on an input with incompatible shape (16, 225).\n",
            "WARNING:tensorflow:Model was constructed with shape (128, None) for input Tensor(\"embedding_input:0\", shape=(128, None), dtype=float32), but it was called on an input with incompatible shape (16, 225).\n",
            "500/500 [==============================] - 107s 215ms/step - loss: 0.4369 - val_loss: 0.4321\n",
            "Epoch 5/10\n",
            "500/500 [==============================] - ETA: 0s - loss: 0.4293WARNING:tensorflow:Model was constructed with shape (128, None) for input Tensor(\"embedding_input:0\", shape=(128, None), dtype=float32), but it was called on an input with incompatible shape (16, 225).\n",
            "WARNING:tensorflow:Model was constructed with shape (128, None) for input Tensor(\"embedding_input:0\", shape=(128, None), dtype=float32), but it was called on an input with incompatible shape (16, 225).\n",
            "500/500 [==============================] - 107s 213ms/step - loss: 0.4293 - val_loss: 0.4258\n",
            "Epoch 6/10\n",
            "500/500 [==============================] - ETA: 0s - loss: 0.4208WARNING:tensorflow:Model was constructed with shape (128, None) for input Tensor(\"embedding_input:0\", shape=(128, None), dtype=float32), but it was called on an input with incompatible shape (16, 225).\n",
            "WARNING:tensorflow:Model was constructed with shape (128, None) for input Tensor(\"embedding_input:0\", shape=(128, None), dtype=float32), but it was called on an input with incompatible shape (16, 225).\n",
            "500/500 [==============================] - 107s 213ms/step - loss: 0.4208 - val_loss: 0.4229\n",
            "Epoch 7/10\n",
            "500/500 [==============================] - ETA: 0s - loss: 0.4124WARNING:tensorflow:Model was constructed with shape (128, None) for input Tensor(\"embedding_input:0\", shape=(128, None), dtype=float32), but it was called on an input with incompatible shape (16, 225).\n",
            "WARNING:tensorflow:Model was constructed with shape (128, None) for input Tensor(\"embedding_input:0\", shape=(128, None), dtype=float32), but it was called on an input with incompatible shape (16, 225).\n",
            "500/500 [==============================] - 107s 213ms/step - loss: 0.4124 - val_loss: 0.4202\n",
            "Epoch 8/10\n",
            "500/500 [==============================] - ETA: 0s - loss: 0.4064WARNING:tensorflow:Model was constructed with shape (128, None) for input Tensor(\"embedding_input:0\", shape=(128, None), dtype=float32), but it was called on an input with incompatible shape (16, 225).\n",
            "WARNING:tensorflow:Model was constructed with shape (128, None) for input Tensor(\"embedding_input:0\", shape=(128, None), dtype=float32), but it was called on an input with incompatible shape (16, 225).\n",
            "500/500 [==============================] - 107s 213ms/step - loss: 0.4064 - val_loss: 0.4185\n",
            "Epoch 9/10\n",
            "500/500 [==============================] - ETA: 0s - loss: 0.4027WARNING:tensorflow:Model was constructed with shape (128, None) for input Tensor(\"embedding_input:0\", shape=(128, None), dtype=float32), but it was called on an input with incompatible shape (16, 225).\n",
            "WARNING:tensorflow:Model was constructed with shape (128, None) for input Tensor(\"embedding_input:0\", shape=(128, None), dtype=float32), but it was called on an input with incompatible shape (16, 225).\n",
            "500/500 [==============================] - 107s 214ms/step - loss: 0.4027 - val_loss: 0.4170\n",
            "Epoch 10/10\n",
            "500/500 [==============================] - ETA: 0s - loss: 0.3997WARNING:tensorflow:Model was constructed with shape (128, None) for input Tensor(\"embedding_input:0\", shape=(128, None), dtype=float32), but it was called on an input with incompatible shape (16, 225).\n",
            "WARNING:tensorflow:Model was constructed with shape (128, None) for input Tensor(\"embedding_input:0\", shape=(128, None), dtype=float32), but it was called on an input with incompatible shape (16, 225).\n",
            "500/500 [==============================] - 107s 213ms/step - loss: 0.3997 - val_loss: 0.4161\n"
          ],
          "name": "stdout"
        }
      ]
    },
    {
      "cell_type": "code",
      "metadata": {
        "id": "OyA7zZ9jk9QI",
        "colab_type": "code",
        "outputId": "6ebdb32b-d34f-4a88-c3e7-ce4fd7d39e99",
        "colab": {
          "base_uri": "https://localhost:8080/",
          "height": 938
        }
      },
      "source": [
        "# dropout\n",
        "!python train_language_model.py --task unformated_fr_c2c --epochs 10 --batch_size 128"
      ],
      "execution_count": 0,
      "outputs": [
        {
          "output_type": "stream",
          "text": [
            "Tensorflow version 2.2.0-rc2\n",
            "2020-04-11 00:48:25.243139: E tensorflow/stream_executor/cuda/cuda_driver.cc:313] failed call to cuInit: CUDA_ERROR_NO_DEVICE: no CUDA-capable device is detected\n",
            "Running on TPU  ['10.19.98.2:8470']\n",
            "data_file:data/unaligned_unformated_fr, tokenize_type:c, rm_punc:True\n",
            "100% 474000/474000 [00:09<00:00, 49972.52it/s]\n",
            "tcmalloc: large alloc 1844813824 bytes == 0x5fcb4000 @  0x7f041afa51e7 0x7f04183e25e1 0x7f0418446e88 0x7f0418447147 0x7f04184df118 0x50ac25 0x50c5b9 0x508245 0x50a080 0x50aa7d 0x50d390 0x508245 0x50a080 0x50aa7d 0x50d390 0x508245 0x50a080 0x50aa7d 0x50d390 0x509d48 0x50aa7d 0x50c5b9 0x508245 0x50a080 0x50aa7d 0x50d390 0x508245 0x58958c 0x5a067e 0x50d966 0x508245\n",
            "\n",
            "# v2id dictionary saved at: /content/drive/My Drive/ift6759/ift6759-t6-p2/language_models/unformated_fr_c2c/v2id.json\n",
            "tcmalloc: large alloc 1291370496 bytes == 0xce410000 @  0x7f041afa51e7 0x7f04183e25e1 0x7f0418446e88 0x7f0418446fa3 0x7f04184d20c6 0x7f04184d2528 0x50c88b 0x508245 0x50a080 0x50aa7d 0x50d390 0x508245 0x50a080 0x50aa7d 0x50c5b9 0x58efc9 0x4c9546 0x5886f4 0x58892e 0x551b81 0x5aa6ec 0x50abb3 0x50c5b9 0x508245 0x50a080 0x50aa7d 0x50d390 0x508245 0x58958c 0x5a067e 0x50d966\n",
            "Epoch 1/10\n",
            "WARNING:tensorflow:Model was constructed with shape (128, None) for input Tensor(\"embedding_input:0\", shape=(128, None), dtype=float32), but it was called on an input with incompatible shape (16, 972).\n",
            "WARNING:tensorflow:Model was constructed with shape (128, None) for input Tensor(\"embedding_input:0\", shape=(128, None), dtype=float32), but it was called on an input with incompatible shape (16, 972).\n",
            "WARNING:tensorflow:Model was constructed with shape (128, None) for input Tensor(\"embedding_input:0\", shape=(128, None), dtype=float32), but it was called on an input with incompatible shape (16, 972).\n",
            "WARNING:tensorflow:Model was constructed with shape (128, None) for input Tensor(\"embedding_input:0\", shape=(128, None), dtype=float32), but it was called on an input with incompatible shape (16, 972).\n",
            "500/500 [==============================] - ETA: 0s - loss: 0.2761WARNING:tensorflow:Model was constructed with shape (128, None) for input Tensor(\"embedding_input:0\", shape=(128, None), dtype=float32), but it was called on an input with incompatible shape (16, 972).\n",
            "WARNING:tensorflow:Model was constructed with shape (128, None) for input Tensor(\"embedding_input:0\", shape=(128, None), dtype=float32), but it was called on an input with incompatible shape (16, 972).\n",
            "500/500 [==============================] - 70s 140ms/step - loss: 0.2761 - val_loss: 0.2238\n",
            "Epoch 2/10\n",
            "500/500 [==============================] - ETA: 0s - loss: 0.1973WARNING:tensorflow:Model was constructed with shape (128, None) for input Tensor(\"embedding_input:0\", shape=(128, None), dtype=float32), but it was called on an input with incompatible shape (16, 972).\n",
            "WARNING:tensorflow:Model was constructed with shape (128, None) for input Tensor(\"embedding_input:0\", shape=(128, None), dtype=float32), but it was called on an input with incompatible shape (16, 972).\n",
            "500/500 [==============================] - 70s 140ms/step - loss: 0.1973 - val_loss: 0.1749\n",
            "Epoch 3/10\n",
            "500/500 [==============================] - ETA: 0s - loss: 0.1631WARNING:tensorflow:Model was constructed with shape (128, None) for input Tensor(\"embedding_input:0\", shape=(128, None), dtype=float32), but it was called on an input with incompatible shape (16, 972).\n",
            "WARNING:tensorflow:Model was constructed with shape (128, None) for input Tensor(\"embedding_input:0\", shape=(128, None), dtype=float32), but it was called on an input with incompatible shape (16, 972).\n",
            "500/500 [==============================] - 70s 141ms/step - loss: 0.1631 - val_loss: 0.1529\n",
            "Epoch 4/10\n",
            "500/500 [==============================] - ETA: 0s - loss: 0.1480WARNING:tensorflow:Model was constructed with shape (128, None) for input Tensor(\"embedding_input:0\", shape=(128, None), dtype=float32), but it was called on an input with incompatible shape (16, 972).\n",
            "WARNING:tensorflow:Model was constructed with shape (128, None) for input Tensor(\"embedding_input:0\", shape=(128, None), dtype=float32), but it was called on an input with incompatible shape (16, 972).\n",
            "500/500 [==============================] - 70s 140ms/step - loss: 0.1480 - val_loss: 0.1415\n",
            "Epoch 5/10\n",
            "500/500 [==============================] - ETA: 0s - loss: 0.1390WARNING:tensorflow:Model was constructed with shape (128, None) for input Tensor(\"embedding_input:0\", shape=(128, None), dtype=float32), but it was called on an input with incompatible shape (16, 972).\n",
            "WARNING:tensorflow:Model was constructed with shape (128, None) for input Tensor(\"embedding_input:0\", shape=(128, None), dtype=float32), but it was called on an input with incompatible shape (16, 972).\n",
            "500/500 [==============================] - 71s 142ms/step - loss: 0.1390 - val_loss: 0.1347\n",
            "Epoch 6/10\n",
            "500/500 [==============================] - ETA: 0s - loss: 0.1337WARNING:tensorflow:Model was constructed with shape (128, None) for input Tensor(\"embedding_input:0\", shape=(128, None), dtype=float32), but it was called on an input with incompatible shape (16, 972).\n",
            "WARNING:tensorflow:Model was constructed with shape (128, None) for input Tensor(\"embedding_input:0\", shape=(128, None), dtype=float32), but it was called on an input with incompatible shape (16, 972).\n",
            "500/500 [==============================] - 70s 141ms/step - loss: 0.1337 - val_loss: 0.1302\n",
            "Epoch 7/10\n",
            "500/500 [==============================] - ETA: 0s - loss: 0.1295WARNING:tensorflow:Model was constructed with shape (128, None) for input Tensor(\"embedding_input:0\", shape=(128, None), dtype=float32), but it was called on an input with incompatible shape (16, 972).\n",
            "WARNING:tensorflow:Model was constructed with shape (128, None) for input Tensor(\"embedding_input:0\", shape=(128, None), dtype=float32), but it was called on an input with incompatible shape (16, 972).\n",
            "500/500 [==============================] - 71s 141ms/step - loss: 0.1295 - val_loss: 0.1271\n",
            "Epoch 8/10\n",
            "500/500 [==============================] - ETA: 0s - loss: 0.1261WARNING:tensorflow:Model was constructed with shape (128, None) for input Tensor(\"embedding_input:0\", shape=(128, None), dtype=float32), but it was called on an input with incompatible shape (16, 972).\n",
            "WARNING:tensorflow:Model was constructed with shape (128, None) for input Tensor(\"embedding_input:0\", shape=(128, None), dtype=float32), but it was called on an input with incompatible shape (16, 972).\n",
            "500/500 [==============================] - 71s 142ms/step - loss: 0.1261 - val_loss: 0.1249\n",
            "Epoch 9/10\n",
            "500/500 [==============================] - ETA: 0s - loss: 0.1247WARNING:tensorflow:Model was constructed with shape (128, None) for input Tensor(\"embedding_input:0\", shape=(128, None), dtype=float32), but it was called on an input with incompatible shape (16, 972).\n",
            "WARNING:tensorflow:Model was constructed with shape (128, None) for input Tensor(\"embedding_input:0\", shape=(128, None), dtype=float32), but it was called on an input with incompatible shape (16, 972).\n",
            "500/500 [==============================] - 71s 141ms/step - loss: 0.1247 - val_loss: 0.1228\n",
            "Epoch 10/10\n",
            "500/500 [==============================] - ETA: 0s - loss: 0.1227WARNING:tensorflow:Model was constructed with shape (128, None) for input Tensor(\"embedding_input:0\", shape=(128, None), dtype=float32), but it was called on an input with incompatible shape (16, 972).\n",
            "WARNING:tensorflow:Model was constructed with shape (128, None) for input Tensor(\"embedding_input:0\", shape=(128, None), dtype=float32), but it was called on an input with incompatible shape (16, 972).\n",
            "500/500 [==============================] - 70s 141ms/step - loss: 0.1227 - val_loss: 0.1216\n"
          ],
          "name": "stdout"
        }
      ]
    },
    {
      "cell_type": "code",
      "metadata": {
        "id": "60naHt9_5oFz",
        "colab_type": "code",
        "outputId": "9d35932b-ee82-4677-a809-567ae33596a9",
        "colab": {
          "base_uri": "https://localhost:8080/",
          "height": 938
        }
      },
      "source": [
        "!python train_language_model.py --task unformated_fr_c2c --epochs 10 --batch_size 128"
      ],
      "execution_count": 0,
      "outputs": [
        {
          "output_type": "stream",
          "text": [
            "Tensorflow version 2.2.0-rc2\n",
            "2020-04-10 23:36:02.979894: E tensorflow/stream_executor/cuda/cuda_driver.cc:313] failed call to cuInit: CUDA_ERROR_NO_DEVICE: no CUDA-capable device is detected\n",
            "Running on TPU  ['10.19.98.2:8470']\n",
            "data_file:data/unaligned_unformated_fr, tokenize_type:c, rm_punc:True\n",
            "100% 474000/474000 [00:09<00:00, 48547.39it/s]\n",
            "tcmalloc: large alloc 1844813824 bytes == 0x60658000 @  0x7fe0170cd1e7 0x7fe01450a5e1 0x7fe01456ee88 0x7fe01456f147 0x7fe014607118 0x50ac25 0x50c5b9 0x508245 0x50a080 0x50aa7d 0x50d390 0x508245 0x50a080 0x50aa7d 0x50d390 0x508245 0x50a080 0x50aa7d 0x50d390 0x509d48 0x50aa7d 0x50c5b9 0x508245 0x50a080 0x50aa7d 0x50d390 0x508245 0x58958c 0x5a067e 0x50d966 0x508245\n",
            "\n",
            "# v2id dictionary saved at: /content/drive/My Drive/ift6759/ift6759-t6-p2/language_models/unformated_fr_c2c/v2id.json\n",
            "tcmalloc: large alloc 1291370496 bytes == 0xcedb4000 @  0x7fe0170cd1e7 0x7fe01450a5e1 0x7fe01456ee88 0x7fe01456efa3 0x7fe0145fa0c6 0x7fe0145fa528 0x50c88b 0x508245 0x50a080 0x50aa7d 0x50d390 0x508245 0x50a080 0x50aa7d 0x50c5b9 0x58efc9 0x4c9546 0x5886f4 0x58892e 0x551b81 0x5aa6ec 0x50abb3 0x50c5b9 0x508245 0x50a080 0x50aa7d 0x50d390 0x508245 0x58958c 0x5a067e 0x50d966\n",
            "Epoch 1/10\n",
            "WARNING:tensorflow:Model was constructed with shape (128, None) for input Tensor(\"embedding_input:0\", shape=(128, None), dtype=float32), but it was called on an input with incompatible shape (16, 972).\n",
            "WARNING:tensorflow:Model was constructed with shape (128, None) for input Tensor(\"embedding_input:0\", shape=(128, None), dtype=float32), but it was called on an input with incompatible shape (16, 972).\n",
            "WARNING:tensorflow:Model was constructed with shape (128, None) for input Tensor(\"embedding_input:0\", shape=(128, None), dtype=float32), but it was called on an input with incompatible shape (16, 972).\n",
            "WARNING:tensorflow:Model was constructed with shape (128, None) for input Tensor(\"embedding_input:0\", shape=(128, None), dtype=float32), but it was called on an input with incompatible shape (16, 972).\n",
            "500/500 [==============================] - ETA: 0s - loss: 0.2760WARNING:tensorflow:Model was constructed with shape (128, None) for input Tensor(\"embedding_input:0\", shape=(128, None), dtype=float32), but it was called on an input with incompatible shape (16, 972).\n",
            "WARNING:tensorflow:Model was constructed with shape (128, None) for input Tensor(\"embedding_input:0\", shape=(128, None), dtype=float32), but it was called on an input with incompatible shape (16, 972).\n",
            "500/500 [==============================] - 69s 138ms/step - loss: 0.2760 - val_loss: 0.2239\n",
            "Epoch 2/10\n",
            "500/500 [==============================] - ETA: 0s - loss: 0.1973WARNING:tensorflow:Model was constructed with shape (128, None) for input Tensor(\"embedding_input:0\", shape=(128, None), dtype=float32), but it was called on an input with incompatible shape (16, 972).\n",
            "WARNING:tensorflow:Model was constructed with shape (128, None) for input Tensor(\"embedding_input:0\", shape=(128, None), dtype=float32), but it was called on an input with incompatible shape (16, 972).\n",
            "500/500 [==============================] - 69s 138ms/step - loss: 0.1973 - val_loss: 0.1748\n",
            "Epoch 3/10\n",
            "500/500 [==============================] - ETA: 0s - loss: 0.1620WARNING:tensorflow:Model was constructed with shape (128, None) for input Tensor(\"embedding_input:0\", shape=(128, None), dtype=float32), but it was called on an input with incompatible shape (16, 972).\n",
            "WARNING:tensorflow:Model was constructed with shape (128, None) for input Tensor(\"embedding_input:0\", shape=(128, None), dtype=float32), but it was called on an input with incompatible shape (16, 972).\n",
            "500/500 [==============================] - 69s 138ms/step - loss: 0.1620 - val_loss: 0.1518\n",
            "Epoch 4/10\n",
            "500/500 [==============================] - ETA: 0s - loss: 0.1463WARNING:tensorflow:Model was constructed with shape (128, None) for input Tensor(\"embedding_input:0\", shape=(128, None), dtype=float32), but it was called on an input with incompatible shape (16, 972).\n",
            "WARNING:tensorflow:Model was constructed with shape (128, None) for input Tensor(\"embedding_input:0\", shape=(128, None), dtype=float32), but it was called on an input with incompatible shape (16, 972).\n",
            "500/500 [==============================] - 69s 138ms/step - loss: 0.1463 - val_loss: 0.1399\n",
            "Epoch 5/10\n",
            "500/500 [==============================] - ETA: 0s - loss: 0.1370WARNING:tensorflow:Model was constructed with shape (128, None) for input Tensor(\"embedding_input:0\", shape=(128, None), dtype=float32), but it was called on an input with incompatible shape (16, 972).\n",
            "WARNING:tensorflow:Model was constructed with shape (128, None) for input Tensor(\"embedding_input:0\", shape=(128, None), dtype=float32), but it was called on an input with incompatible shape (16, 972).\n",
            "500/500 [==============================] - 69s 138ms/step - loss: 0.1370 - val_loss: 0.1330\n",
            "Epoch 6/10\n",
            "500/500 [==============================] - ETA: 0s - loss: 0.1314WARNING:tensorflow:Model was constructed with shape (128, None) for input Tensor(\"embedding_input:0\", shape=(128, None), dtype=float32), but it was called on an input with incompatible shape (16, 972).\n",
            "WARNING:tensorflow:Model was constructed with shape (128, None) for input Tensor(\"embedding_input:0\", shape=(128, None), dtype=float32), but it was called on an input with incompatible shape (16, 972).\n",
            "500/500 [==============================] - 69s 138ms/step - loss: 0.1314 - val_loss: 0.1287\n",
            "Epoch 7/10\n",
            "500/500 [==============================] - ETA: 0s - loss: 0.1276WARNING:tensorflow:Model was constructed with shape (128, None) for input Tensor(\"embedding_input:0\", shape=(128, None), dtype=float32), but it was called on an input with incompatible shape (16, 972).\n",
            "WARNING:tensorflow:Model was constructed with shape (128, None) for input Tensor(\"embedding_input:0\", shape=(128, None), dtype=float32), but it was called on an input with incompatible shape (16, 972).\n",
            "500/500 [==============================] - 69s 138ms/step - loss: 0.1276 - val_loss: 0.1256\n",
            "Epoch 8/10\n",
            "500/500 [==============================] - ETA: 0s - loss: 0.1246WARNING:tensorflow:Model was constructed with shape (128, None) for input Tensor(\"embedding_input:0\", shape=(128, None), dtype=float32), but it was called on an input with incompatible shape (16, 972).\n",
            "WARNING:tensorflow:Model was constructed with shape (128, None) for input Tensor(\"embedding_input:0\", shape=(128, None), dtype=float32), but it was called on an input with incompatible shape (16, 972).\n",
            "500/500 [==============================] - 69s 138ms/step - loss: 0.1246 - val_loss: 0.1232\n",
            "Epoch 9/10\n",
            "500/500 [==============================] - ETA: 0s - loss: 0.1231WARNING:tensorflow:Model was constructed with shape (128, None) for input Tensor(\"embedding_input:0\", shape=(128, None), dtype=float32), but it was called on an input with incompatible shape (16, 972).\n",
            "WARNING:tensorflow:Model was constructed with shape (128, None) for input Tensor(\"embedding_input:0\", shape=(128, None), dtype=float32), but it was called on an input with incompatible shape (16, 972).\n",
            "500/500 [==============================] - 69s 138ms/step - loss: 0.1231 - val_loss: 0.1216\n",
            "Epoch 10/10\n",
            "500/500 [==============================] - ETA: 0s - loss: 0.1213WARNING:tensorflow:Model was constructed with shape (128, None) for input Tensor(\"embedding_input:0\", shape=(128, None), dtype=float32), but it was called on an input with incompatible shape (16, 972).\n",
            "WARNING:tensorflow:Model was constructed with shape (128, None) for input Tensor(\"embedding_input:0\", shape=(128, None), dtype=float32), but it was called on an input with incompatible shape (16, 972).\n",
            "500/500 [==============================] - 69s 138ms/step - loss: 0.1213 - val_loss: 0.1202\n"
          ],
          "name": "stdout"
        }
      ]
    },
    {
      "cell_type": "code",
      "metadata": {
        "id": "mwAYG8LnlA7q",
        "colab_type": "code",
        "outputId": "ab63294d-9186-4cdf-8707-b9d380edcfc0",
        "colab": {
          "base_uri": "https://localhost:8080/",
          "height": 938
        }
      },
      "source": [
        "# dropout\n",
        "!python train_language_model.py --task formated_fr_c2c --epochs 10 --batch_size 128 "
      ],
      "execution_count": 0,
      "outputs": [
        {
          "output_type": "stream",
          "text": [
            "Tensorflow version 2.2.0-rc2\n",
            "2020-04-11 01:01:14.656067: E tensorflow/stream_executor/cuda/cuda_driver.cc:313] failed call to cuInit: CUDA_ERROR_NO_DEVICE: no CUDA-capable device is detected\n",
            "Running on TPU  ['10.19.98.2:8470']\n",
            "data_file:data/unaligned_formated_fr, tokenize_type:c, rm_punc:False\n",
            "100% 474000/474000 [00:10<00:00, 43289.90it/s]\n",
            "tcmalloc: large alloc 1859977216 bytes == 0x64cba000 @  0x7f0dbac881e7 0x7f0db80c55e1 0x7f0db8129e88 0x7f0db812a147 0x7f0db81c2118 0x50ac25 0x50c5b9 0x508245 0x50a080 0x50aa7d 0x50d390 0x508245 0x50a080 0x50aa7d 0x50d390 0x508245 0x50a080 0x50aa7d 0x50d390 0x509d48 0x50aa7d 0x50c5b9 0x508245 0x50a080 0x50aa7d 0x50d390 0x508245 0x58958c 0x5a067e 0x50d966 0x508245\n",
            "\n",
            "# v2id dictionary saved at: /content/drive/My Drive/ift6759/ift6759-t6-p2/language_models/formated_fr_c2c/v2id.json\n",
            "tcmalloc: large alloc 1301987328 bytes == 0xd428a000 @  0x7f0dbac881e7 0x7f0db80c55e1 0x7f0db8129e88 0x7f0db8129fa3 0x7f0db81b50c6 0x7f0db81b5528 0x50c88b 0x508245 0x50a080 0x50aa7d 0x50d390 0x508245 0x50a080 0x50aa7d 0x50c5b9 0x58efc9 0x4c9546 0x5886f4 0x58892e 0x551b81 0x5aa6ec 0x50abb3 0x50c5b9 0x508245 0x50a080 0x50aa7d 0x50d390 0x508245 0x58958c 0x5a067e 0x50d966\n",
            "Epoch 1/10\n",
            "WARNING:tensorflow:Model was constructed with shape (128, None) for input Tensor(\"embedding_input:0\", shape=(128, None), dtype=float32), but it was called on an input with incompatible shape (16, 980).\n",
            "WARNING:tensorflow:Model was constructed with shape (128, None) for input Tensor(\"embedding_input:0\", shape=(128, None), dtype=float32), but it was called on an input with incompatible shape (16, 980).\n",
            "WARNING:tensorflow:Model was constructed with shape (128, None) for input Tensor(\"embedding_input:0\", shape=(128, None), dtype=float32), but it was called on an input with incompatible shape (16, 980).\n",
            "WARNING:tensorflow:Model was constructed with shape (128, None) for input Tensor(\"embedding_input:0\", shape=(128, None), dtype=float32), but it was called on an input with incompatible shape (16, 980).\n",
            "500/500 [==============================] - ETA: 0s - loss: 0.2847WARNING:tensorflow:Model was constructed with shape (128, None) for input Tensor(\"embedding_input:0\", shape=(128, None), dtype=float32), but it was called on an input with incompatible shape (16, 980).\n",
            "WARNING:tensorflow:Model was constructed with shape (128, None) for input Tensor(\"embedding_input:0\", shape=(128, None), dtype=float32), but it was called on an input with incompatible shape (16, 980).\n",
            "500/500 [==============================] - 70s 141ms/step - loss: 0.2847 - val_loss: 0.2318\n",
            "Epoch 2/10\n",
            "500/500 [==============================] - ETA: 0s - loss: 0.2025WARNING:tensorflow:Model was constructed with shape (128, None) for input Tensor(\"embedding_input:0\", shape=(128, None), dtype=float32), but it was called on an input with incompatible shape (16, 980).\n",
            "WARNING:tensorflow:Model was constructed with shape (128, None) for input Tensor(\"embedding_input:0\", shape=(128, None), dtype=float32), but it was called on an input with incompatible shape (16, 980).\n",
            "500/500 [==============================] - 71s 141ms/step - loss: 0.2025 - val_loss: 0.1791\n",
            "Epoch 3/10\n",
            "500/500 [==============================] - ETA: 0s - loss: 0.1669WARNING:tensorflow:Model was constructed with shape (128, None) for input Tensor(\"embedding_input:0\", shape=(128, None), dtype=float32), but it was called on an input with incompatible shape (16, 980).\n",
            "WARNING:tensorflow:Model was constructed with shape (128, None) for input Tensor(\"embedding_input:0\", shape=(128, None), dtype=float32), but it was called on an input with incompatible shape (16, 980).\n",
            "500/500 [==============================] - 71s 142ms/step - loss: 0.1669 - val_loss: 0.1552\n",
            "Epoch 4/10\n",
            "500/500 [==============================] - ETA: 0s - loss: 0.1491WARNING:tensorflow:Model was constructed with shape (128, None) for input Tensor(\"embedding_input:0\", shape=(128, None), dtype=float32), but it was called on an input with incompatible shape (16, 980).\n",
            "WARNING:tensorflow:Model was constructed with shape (128, None) for input Tensor(\"embedding_input:0\", shape=(128, None), dtype=float32), but it was called on an input with incompatible shape (16, 980).\n",
            "500/500 [==============================] - 71s 142ms/step - loss: 0.1491 - val_loss: 0.1429\n",
            "Epoch 5/10\n",
            "500/500 [==============================] - ETA: 0s - loss: 0.1397WARNING:tensorflow:Model was constructed with shape (128, None) for input Tensor(\"embedding_input:0\", shape=(128, None), dtype=float32), but it was called on an input with incompatible shape (16, 980).\n",
            "WARNING:tensorflow:Model was constructed with shape (128, None) for input Tensor(\"embedding_input:0\", shape=(128, None), dtype=float32), but it was called on an input with incompatible shape (16, 980).\n",
            "500/500 [==============================] - 71s 142ms/step - loss: 0.1397 - val_loss: 0.1356\n",
            "Epoch 6/10\n",
            "500/500 [==============================] - ETA: 0s - loss: 0.1340WARNING:tensorflow:Model was constructed with shape (128, None) for input Tensor(\"embedding_input:0\", shape=(128, None), dtype=float32), but it was called on an input with incompatible shape (16, 980).\n",
            "WARNING:tensorflow:Model was constructed with shape (128, None) for input Tensor(\"embedding_input:0\", shape=(128, None), dtype=float32), but it was called on an input with incompatible shape (16, 980).\n",
            "500/500 [==============================] - 71s 142ms/step - loss: 0.1340 - val_loss: 0.1310\n",
            "Epoch 7/10\n",
            "500/500 [==============================] - ETA: 0s - loss: 0.1301WARNING:tensorflow:Model was constructed with shape (128, None) for input Tensor(\"embedding_input:0\", shape=(128, None), dtype=float32), but it was called on an input with incompatible shape (16, 980).\n",
            "WARNING:tensorflow:Model was constructed with shape (128, None) for input Tensor(\"embedding_input:0\", shape=(128, None), dtype=float32), but it was called on an input with incompatible shape (16, 980).\n",
            "500/500 [==============================] - 71s 141ms/step - loss: 0.1301 - val_loss: 0.1277\n",
            "Epoch 8/10\n",
            "500/500 [==============================] - ETA: 0s - loss: 0.1274WARNING:tensorflow:Model was constructed with shape (128, None) for input Tensor(\"embedding_input:0\", shape=(128, None), dtype=float32), but it was called on an input with incompatible shape (16, 980).\n",
            "WARNING:tensorflow:Model was constructed with shape (128, None) for input Tensor(\"embedding_input:0\", shape=(128, None), dtype=float32), but it was called on an input with incompatible shape (16, 980).\n",
            "500/500 [==============================] - 71s 143ms/step - loss: 0.1274 - val_loss: 0.1255\n",
            "Epoch 9/10\n",
            "500/500 [==============================] - ETA: 0s - loss: 0.1252WARNING:tensorflow:Model was constructed with shape (128, None) for input Tensor(\"embedding_input:0\", shape=(128, None), dtype=float32), but it was called on an input with incompatible shape (16, 980).\n",
            "WARNING:tensorflow:Model was constructed with shape (128, None) for input Tensor(\"embedding_input:0\", shape=(128, None), dtype=float32), but it was called on an input with incompatible shape (16, 980).\n",
            "500/500 [==============================] - 71s 142ms/step - loss: 0.1252 - val_loss: 0.1233\n",
            "Epoch 10/10\n",
            "500/500 [==============================] - ETA: 0s - loss: 0.1233WARNING:tensorflow:Model was constructed with shape (128, None) for input Tensor(\"embedding_input:0\", shape=(128, None), dtype=float32), but it was called on an input with incompatible shape (16, 980).\n",
            "WARNING:tensorflow:Model was constructed with shape (128, None) for input Tensor(\"embedding_input:0\", shape=(128, None), dtype=float32), but it was called on an input with incompatible shape (16, 980).\n",
            "500/500 [==============================] - 71s 141ms/step - loss: 0.1233 - val_loss: 0.1220\n"
          ],
          "name": "stdout"
        }
      ]
    },
    {
      "cell_type": "code",
      "metadata": {
        "id": "aOd8rCxK5n4Z",
        "colab_type": "code",
        "outputId": "a1fed4fe-bb0f-4e50-cbf9-118f7ab760b5",
        "colab": {
          "base_uri": "https://localhost:8080/",
          "height": 938
        }
      },
      "source": [
        "!python train_language_model.py --task formated_fr_c2c --epochs 10 --batch_size 128 "
      ],
      "execution_count": 0,
      "outputs": [
        {
          "output_type": "stream",
          "text": [
            "Tensorflow version 2.2.0-rc2\n",
            "2020-04-10 23:48:37.032164: E tensorflow/stream_executor/cuda/cuda_driver.cc:313] failed call to cuInit: CUDA_ERROR_NO_DEVICE: no CUDA-capable device is detected\n",
            "Running on TPU  ['10.19.98.2:8470']\n",
            "data_file:data/unaligned_formated_fr, tokenize_type:c, rm_punc:False\n",
            "100% 474000/474000 [00:10<00:00, 43389.46it/s]\n",
            "tcmalloc: large alloc 1859977216 bytes == 0x645e2000 @  0x7f6acd4721e7 0x7f6aca8af5e1 0x7f6aca913e88 0x7f6aca914147 0x7f6aca9ac118 0x50ac25 0x50c5b9 0x508245 0x50a080 0x50aa7d 0x50d390 0x508245 0x50a080 0x50aa7d 0x50d390 0x508245 0x50a080 0x50aa7d 0x50d390 0x509d48 0x50aa7d 0x50c5b9 0x508245 0x50a080 0x50aa7d 0x50d390 0x508245 0x58958c 0x5a067e 0x50d966 0x508245\n",
            "\n",
            "# v2id dictionary saved at: /content/drive/My Drive/ift6759/ift6759-t6-p2/language_models/formated_fr_c2c/v2id.json\n",
            "tcmalloc: large alloc 1301987328 bytes == 0xd3bb2000 @  0x7f6acd4721e7 0x7f6aca8af5e1 0x7f6aca913e88 0x7f6aca913fa3 0x7f6aca99f0c6 0x7f6aca99f528 0x50c88b 0x508245 0x50a080 0x50aa7d 0x50d390 0x508245 0x50a080 0x50aa7d 0x50c5b9 0x58efc9 0x4c9546 0x5886f4 0x58892e 0x551b81 0x5aa6ec 0x50abb3 0x50c5b9 0x508245 0x50a080 0x50aa7d 0x50d390 0x508245 0x58958c 0x5a067e 0x50d966\n",
            "Epoch 1/10\n",
            "WARNING:tensorflow:Model was constructed with shape (128, None) for input Tensor(\"embedding_input:0\", shape=(128, None), dtype=float32), but it was called on an input with incompatible shape (16, 980).\n",
            "WARNING:tensorflow:Model was constructed with shape (128, None) for input Tensor(\"embedding_input:0\", shape=(128, None), dtype=float32), but it was called on an input with incompatible shape (16, 980).\n",
            "WARNING:tensorflow:Model was constructed with shape (128, None) for input Tensor(\"embedding_input:0\", shape=(128, None), dtype=float32), but it was called on an input with incompatible shape (16, 980).\n",
            "WARNING:tensorflow:Model was constructed with shape (128, None) for input Tensor(\"embedding_input:0\", shape=(128, None), dtype=float32), but it was called on an input with incompatible shape (16, 980).\n",
            "500/500 [==============================] - ETA: 0s - loss: 0.2882WARNING:tensorflow:Model was constructed with shape (128, None) for input Tensor(\"embedding_input:0\", shape=(128, None), dtype=float32), but it was called on an input with incompatible shape (16, 980).\n",
            "WARNING:tensorflow:Model was constructed with shape (128, None) for input Tensor(\"embedding_input:0\", shape=(128, None), dtype=float32), but it was called on an input with incompatible shape (16, 980).\n",
            "500/500 [==============================] - 69s 139ms/step - loss: 0.2882 - val_loss: 0.2342\n",
            "Epoch 2/10\n",
            "500/500 [==============================] - ETA: 0s - loss: 0.2073WARNING:tensorflow:Model was constructed with shape (128, None) for input Tensor(\"embedding_input:0\", shape=(128, None), dtype=float32), but it was called on an input with incompatible shape (16, 980).\n",
            "WARNING:tensorflow:Model was constructed with shape (128, None) for input Tensor(\"embedding_input:0\", shape=(128, None), dtype=float32), but it was called on an input with incompatible shape (16, 980).\n",
            "500/500 [==============================] - 69s 139ms/step - loss: 0.2073 - val_loss: 0.1833\n",
            "Epoch 3/10\n",
            "500/500 [==============================] - ETA: 0s - loss: 0.1687WARNING:tensorflow:Model was constructed with shape (128, None) for input Tensor(\"embedding_input:0\", shape=(128, None), dtype=float32), but it was called on an input with incompatible shape (16, 980).\n",
            "WARNING:tensorflow:Model was constructed with shape (128, None) for input Tensor(\"embedding_input:0\", shape=(128, None), dtype=float32), but it was called on an input with incompatible shape (16, 980).\n",
            "500/500 [==============================] - 69s 139ms/step - loss: 0.1687 - val_loss: 0.1579\n",
            "Epoch 4/10\n",
            "500/500 [==============================] - ETA: 0s - loss: 0.1509WARNING:tensorflow:Model was constructed with shape (128, None) for input Tensor(\"embedding_input:0\", shape=(128, None), dtype=float32), but it was called on an input with incompatible shape (16, 980).\n",
            "WARNING:tensorflow:Model was constructed with shape (128, None) for input Tensor(\"embedding_input:0\", shape=(128, None), dtype=float32), but it was called on an input with incompatible shape (16, 980).\n",
            "500/500 [==============================] - 69s 139ms/step - loss: 0.1509 - val_loss: 0.1453\n",
            "Epoch 5/10\n",
            "500/500 [==============================] - ETA: 0s - loss: 0.1414WARNING:tensorflow:Model was constructed with shape (128, None) for input Tensor(\"embedding_input:0\", shape=(128, None), dtype=float32), but it was called on an input with incompatible shape (16, 980).\n",
            "WARNING:tensorflow:Model was constructed with shape (128, None) for input Tensor(\"embedding_input:0\", shape=(128, None), dtype=float32), but it was called on an input with incompatible shape (16, 980).\n",
            "500/500 [==============================] - 70s 139ms/step - loss: 0.1414 - val_loss: 0.1375\n",
            "Epoch 6/10\n",
            "500/500 [==============================] - ETA: 0s - loss: 0.1351WARNING:tensorflow:Model was constructed with shape (128, None) for input Tensor(\"embedding_input:0\", shape=(128, None), dtype=float32), but it was called on an input with incompatible shape (16, 980).\n",
            "WARNING:tensorflow:Model was constructed with shape (128, None) for input Tensor(\"embedding_input:0\", shape=(128, None), dtype=float32), but it was called on an input with incompatible shape (16, 980).\n",
            "500/500 [==============================] - 69s 139ms/step - loss: 0.1351 - val_loss: 0.1325\n",
            "Epoch 7/10\n",
            "500/500 [==============================] - ETA: 0s - loss: 0.1315WARNING:tensorflow:Model was constructed with shape (128, None) for input Tensor(\"embedding_input:0\", shape=(128, None), dtype=float32), but it was called on an input with incompatible shape (16, 980).\n",
            "WARNING:tensorflow:Model was constructed with shape (128, None) for input Tensor(\"embedding_input:0\", shape=(128, None), dtype=float32), but it was called on an input with incompatible shape (16, 980).\n",
            "500/500 [==============================] - 70s 139ms/step - loss: 0.1315 - val_loss: 0.1291\n",
            "Epoch 8/10\n",
            "500/500 [==============================] - ETA: 0s - loss: 0.1275WARNING:tensorflow:Model was constructed with shape (128, None) for input Tensor(\"embedding_input:0\", shape=(128, None), dtype=float32), but it was called on an input with incompatible shape (16, 980).\n",
            "WARNING:tensorflow:Model was constructed with shape (128, None) for input Tensor(\"embedding_input:0\", shape=(128, None), dtype=float32), but it was called on an input with incompatible shape (16, 980).\n",
            "500/500 [==============================] - 70s 140ms/step - loss: 0.1275 - val_loss: 0.1265\n",
            "Epoch 9/10\n",
            "500/500 [==============================] - ETA: 0s - loss: 0.1250WARNING:tensorflow:Model was constructed with shape (128, None) for input Tensor(\"embedding_input:0\", shape=(128, None), dtype=float32), but it was called on an input with incompatible shape (16, 980).\n",
            "WARNING:tensorflow:Model was constructed with shape (128, None) for input Tensor(\"embedding_input:0\", shape=(128, None), dtype=float32), but it was called on an input with incompatible shape (16, 980).\n",
            "500/500 [==============================] - 70s 139ms/step - loss: 0.1250 - val_loss: 0.1246\n",
            "Epoch 10/10\n",
            "500/500 [==============================] - ETA: 0s - loss: 0.1237WARNING:tensorflow:Model was constructed with shape (128, None) for input Tensor(\"embedding_input:0\", shape=(128, None), dtype=float32), but it was called on an input with incompatible shape (16, 980).\n",
            "WARNING:tensorflow:Model was constructed with shape (128, None) for input Tensor(\"embedding_input:0\", shape=(128, None), dtype=float32), but it was called on an input with incompatible shape (16, 980).\n",
            "500/500 [==============================] - 69s 139ms/step - loss: 0.1237 - val_loss: 0.1228\n"
          ],
          "name": "stdout"
        }
      ]
    },
    {
      "cell_type": "code",
      "metadata": {
        "id": "1MrKu9UOZUfY",
        "colab_type": "code",
        "colab": {}
      },
      "source": [
        "import tensorflow as tf\n",
        "checkpoint_dir = 'language_models/unformated_eng_w2w/'\n",
        "checkpoint_prefix = os.path.join(os.getcwd(),checkpoint_dir,\"GRU_{epoch}.h5\")\n",
        "tf.train.latest_checkpoint(os.path.join(os.getcwd(),checkpoint_dir))"
      ],
      "execution_count": 0,
      "outputs": []
    },
    {
      "cell_type": "code",
      "metadata": {
        "id": "bYcBOGGqkNJR",
        "colab_type": "code",
        "colab": {}
      },
      "source": [
        "def build_model(vocab_size, embedding_dim, rnn_units, batch_size):\n",
        "  model = tf.keras.Sequential([\n",
        "    tf.keras.layers.Embedding(vocab_size, embedding_dim,\n",
        "                              batch_input_shape=[batch_size, None]),\n",
        "    tf.keras.layers.GRU(rnn_units,\n",
        "                        return_sequences=True,\n",
        "                        stateful=True,\n",
        "                        recurrent_initializer='glorot_uniform'),\n",
        "    tf.keras.layers.Dense(vocab_size)\n",
        "  ])\n",
        "  return model\n",
        "\n",
        "model = build_model(vocab_size=63132, embedding_dim=256, rnn_units=1024, batch_size=1)\n",
        "model.load_weights(os.path.join(os.getcwd(),checkpoint_dir, \"GRU_10.h5\"))\n",
        "model.build(tf.TensorShape([1, None]))"
      ],
      "execution_count": 0,
      "outputs": []
    },
    {
      "cell_type": "code",
      "metadata": {
        "id": "TMjghHrmknZo",
        "colab_type": "code",
        "outputId": "dac28aa6-97cd-419b-95e2-39ba7b080fd9",
        "colab": {
          "base_uri": "https://localhost:8080/",
          "height": 255
        }
      },
      "source": [
        "model.summary()"
      ],
      "execution_count": 0,
      "outputs": [
        {
          "output_type": "stream",
          "text": [
            "Model: \"sequential\"\n",
            "_________________________________________________________________\n",
            "Layer (type)                 Output Shape              Param #   \n",
            "=================================================================\n",
            "embedding (Embedding)        (1, None, 256)            16161792  \n",
            "_________________________________________________________________\n",
            "gru (GRU)                    (1, None, 1024)           3938304   \n",
            "_________________________________________________________________\n",
            "dense (Dense)                (1, None, 63132)          64710300  \n",
            "=================================================================\n",
            "Total params: 84,810,396\n",
            "Trainable params: 84,810,396\n",
            "Non-trainable params: 0\n",
            "_________________________________________________________________\n"
          ],
          "name": "stdout"
        }
      ]
    },
    {
      "cell_type": "code",
      "metadata": {
        "id": "KCKmPo_nmVJN",
        "colab_type": "code",
        "colab": {}
      },
      "source": [
        ""
      ],
      "execution_count": 0,
      "outputs": []
    }
  ]
}