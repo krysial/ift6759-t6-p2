{
  "nbformat": 4,
  "nbformat_minor": 0,
  "metadata": {
    "colab": {
      "name": "train_language_model.ipynb",
      "provenance": [],
      "collapsed_sections": [],
      "toc_visible": true
    },
    "kernelspec": {
      "name": "python3",
      "display_name": "Python 3"
    },
    "accelerator": "TPU"
  },
  "cells": [
    {
      "cell_type": "code",
      "metadata": {
        "id": "70-riBj15Np_",
        "colab_type": "code",
        "outputId": "263a2a81-d7d8-4be9-f545-6396e3f635dd",
        "colab": {
          "base_uri": "https://localhost:8080/",
          "height": 122
        }
      },
      "source": [
        "from google.colab import drive\n",
        "drive.mount('/content/drive')"
      ],
      "execution_count": 1,
      "outputs": [
        {
          "output_type": "stream",
          "text": [
            "Go to this URL in a browser: https://accounts.google.com/o/oauth2/auth?client_id=947318989803-6bn6qk8qdgf4n4g3pfee6491hc0brc4i.apps.googleusercontent.com&redirect_uri=urn%3aietf%3awg%3aoauth%3a2.0%3aoob&response_type=code&scope=email%20https%3a%2f%2fwww.googleapis.com%2fauth%2fdocs.test%20https%3a%2f%2fwww.googleapis.com%2fauth%2fdrive%20https%3a%2f%2fwww.googleapis.com%2fauth%2fdrive.photos.readonly%20https%3a%2f%2fwww.googleapis.com%2fauth%2fpeopleapi.readonly\n",
            "\n",
            "Enter your authorization code:\n",
            "··········\n",
            "Mounted at /content/drive\n"
          ],
          "name": "stdout"
        }
      ]
    },
    {
      "cell_type": "code",
      "metadata": {
        "id": "Gvkf2NtYUnga",
        "colab_type": "code",
        "outputId": "a3a19b90-95d2-476d-9486-fc567b2b1354",
        "colab": {
          "base_uri": "https://localhost:8080/",
          "height": 34
        }
      },
      "source": [
        "import os\n",
        "os.chdir(os.path.join('drive', 'My Drive', 'ift6759', 'ift6759-t6-p2'))\n",
        "os.getcwd()"
      ],
      "execution_count": 2,
      "outputs": [
        {
          "output_type": "execute_result",
          "data": {
            "text/plain": [
              "'/content/drive/My Drive/ift6759/ift6759-t6-p2'"
            ]
          },
          "metadata": {
            "tags": []
          },
          "execution_count": 2
        }
      ]
    },
    {
      "cell_type": "code",
      "metadata": {
        "id": "Qzzy3rwtU8Fl",
        "colab_type": "code",
        "outputId": "e01aba32-b975-4bf9-c0c6-a57312add2fd",
        "colab": {
          "base_uri": "https://localhost:8080/",
          "height": 71
        }
      },
      "source": [
        "!nvidia-smi"
      ],
      "execution_count": 0,
      "outputs": [
        {
          "output_type": "stream",
          "text": [
            "NVIDIA-SMI has failed because it couldn't communicate with the NVIDIA driver. Make sure that the latest NVIDIA driver is installed and running.\n",
            "\n"
          ],
          "name": "stdout"
        }
      ]
    },
    {
      "cell_type": "code",
      "metadata": {
        "id": "xtkVv_ozx-RG",
        "colab_type": "code",
        "outputId": "6a8955e6-b232-4ef6-9d76-6573e713be1a",
        "colab": {
          "base_uri": "https://localhost:8080/",
          "height": 88
        }
      },
      "source": [
        "from utils.gensim_embeddings import create_model\n",
        "from gensim.models import FastText\n",
        "task = 'unformated_en_w2w'\n",
        "file_name = 'unaligned_' + task[:-4]\n",
        "data_path = os.path.join(os.getcwd(), 'data', file_name)\n",
        "save_path = os.path.join(os.getcwd(), 'embeddings', task, file_name)\n",
        "create_model(FastText, data_path, save_path=save_path, size=128)\n",
        "# print(task, file_name, data_path, save_path)"
      ],
      "execution_count": 11,
      "outputs": [
        {
          "output_type": "stream",
          "text": [
            "/usr/local/lib/python3.6/dist-packages/smart_open/smart_open_lib.py:410: UserWarning: This function is deprecated, use smart_open.open instead. See the migration notes for details: https://github.com/RaRe-Technologies/smart_open/blob/master/README.rst#migrating-to-the-new-open-function\n",
            "  'See the migration notes for details: %s' % _MIGRATION_NOTES_URL\n"
          ],
          "name": "stderr"
        },
        {
          "output_type": "execute_result",
          "data": {
            "text/plain": [
              "<gensim.models.fasttext.FastText at 0x7ff3388b9518>"
            ]
          },
          "metadata": {
            "tags": []
          },
          "execution_count": 11
        }
      ]
    },
    {
      "cell_type": "code",
      "metadata": {
        "id": "I3SKjTor4UAm",
        "colab_type": "code",
        "colab": {
          "base_uri": "https://localhost:8080/",
          "height": 88
        },
        "outputId": "a8a036df-d3a1-4832-882c-b816c6d0cc46"
      },
      "source": [
        "from utils.gensim_embeddings import create_model\n",
        "from gensim.models import FastText\n",
        "task = 'unformated_fr_w2w'\n",
        "file_name = 'unaligned_' + task[:-4]\n",
        "data_path = os.path.join(os.getcwd(), 'data', file_name)\n",
        "save_path = os.path.join(os.getcwd(), 'embeddings', task, file_name)\n",
        "create_model(FastText, data_path, save_path=save_path, size=128)\n",
        "# print(task, file_name, data_path, save_path)"
      ],
      "execution_count": 12,
      "outputs": [
        {
          "output_type": "stream",
          "text": [
            "/usr/local/lib/python3.6/dist-packages/smart_open/smart_open_lib.py:410: UserWarning: This function is deprecated, use smart_open.open instead. See the migration notes for details: https://github.com/RaRe-Technologies/smart_open/blob/master/README.rst#migrating-to-the-new-open-function\n",
            "  'See the migration notes for details: %s' % _MIGRATION_NOTES_URL\n"
          ],
          "name": "stderr"
        },
        {
          "output_type": "execute_result",
          "data": {
            "text/plain": [
              "<gensim.models.fasttext.FastText at 0x7ff337acdb38>"
            ]
          },
          "metadata": {
            "tags": []
          },
          "execution_count": 12
        }
      ]
    },
    {
      "cell_type": "code",
      "metadata": {
        "id": "X2-RDyFC5gEU",
        "colab_type": "code",
        "outputId": "4b4de36e-49d3-44ae-cf3f-85e3ea9b7f2e",
        "colab": {
          "base_uri": "https://localhost:8080/",
          "height": 394
        }
      },
      "source": [
        "!python train_language_model.py --task unformated_en_w2w --epochs 2 --batch_size 128 --embedding_warmer_epoch 2"
      ],
      "execution_count": 13,
      "outputs": [
        {
          "output_type": "stream",
          "text": [
            "Tensorflow version 2.2.0-rc2\n",
            "2020-04-11 06:51:18.108909: E tensorflow/stream_executor/cuda/cuda_driver.cc:313] failed call to cuInit: CUDA_ERROR_NO_DEVICE: no CUDA-capable device is detected\n",
            "Running on TPU  ['10.9.183.210:8470']\n",
            "data_file:data/unaligned_unformated_en, tokenize_type:w, rm_punc:True\n",
            "100% 474000/474000 [00:03<00:00, 122116.08it/s]\n",
            "\n",
            "# v2id dictionary saved at: /content/drive/My Drive/ift6759/ift6759-t6-p2/language_models/unformated_en_w2w/v2id.json\n",
            "/usr/local/lib/python3.6/dist-packages/smart_open/smart_open_lib.py:410: UserWarning: This function is deprecated, use smart_open.open instead. See the migration notes for details: https://github.com/RaRe-Technologies/smart_open/blob/master/README.rst#migrating-to-the-new-open-function\n",
            "  'See the migration notes for details: %s' % _MIGRATION_NOTES_URL\n",
            "Epoch 1/2\n",
            "WARNING:tensorflow:Model was constructed with shape (128, None) for input Tensor(\"embedding_input:0\", shape=(128, None), dtype=float32), but it was called on an input with incompatible shape (16, 194).\n",
            "WARNING:tensorflow:Model was constructed with shape (128, None) for input Tensor(\"embedding_input:0\", shape=(128, None), dtype=float32), but it was called on an input with incompatible shape (16, 194).\n",
            "WARNING:tensorflow:Model was constructed with shape (128, None) for input Tensor(\"embedding_input:0\", shape=(128, None), dtype=float32), but it was called on an input with incompatible shape (16, 194).\n",
            "WARNING:tensorflow:Model was constructed with shape (128, None) for input Tensor(\"embedding_input:0\", shape=(128, None), dtype=float32), but it was called on an input with incompatible shape (16, 194).\n",
            "500/500 [==============================] - ETA: 0s - loss: 0.6176WARNING:tensorflow:Model was constructed with shape (128, None) for input Tensor(\"embedding_input:0\", shape=(128, None), dtype=float32), but it was called on an input with incompatible shape (16, 194).\n",
            "WARNING:tensorflow:Model was constructed with shape (128, None) for input Tensor(\"embedding_input:0\", shape=(128, None), dtype=float32), but it was called on an input with incompatible shape (16, 194).\n",
            "500/500 [==============================] - 67s 134ms/step - loss: 0.6176 - val_loss: 0.5560\n",
            "Epoch 2/2\n",
            "500/500 [==============================] - ETA: 0s - loss: 0.5348WARNING:tensorflow:Model was constructed with shape (128, None) for input Tensor(\"embedding_input:0\", shape=(128, None), dtype=float32), but it was called on an input with incompatible shape (16, 194).\n",
            "WARNING:tensorflow:Model was constructed with shape (128, None) for input Tensor(\"embedding_input:0\", shape=(128, None), dtype=float32), but it was called on an input with incompatible shape (16, 194).\n",
            "500/500 [==============================] - 67s 134ms/step - loss: 0.5348 - val_loss: 0.5190\n"
          ],
          "name": "stdout"
        }
      ]
    },
    {
      "cell_type": "code",
      "metadata": {
        "id": "i0Qh54ia5oTC",
        "colab_type": "code",
        "outputId": "12ff30a6-d876-421c-8332-59b24b3f038e",
        "colab": {
          "base_uri": "https://localhost:8080/",
          "height": 394
        }
      },
      "source": [
        "!python train_language_model.py --task unformated_fr_w2w --epochs 2 --batch_size 128 --embedding_warmer_epoch 2"
      ],
      "execution_count": 14,
      "outputs": [
        {
          "output_type": "stream",
          "text": [
            "Tensorflow version 2.2.0-rc2\n",
            "2020-04-11 06:54:41.752772: E tensorflow/stream_executor/cuda/cuda_driver.cc:313] failed call to cuInit: CUDA_ERROR_NO_DEVICE: no CUDA-capable device is detected\n",
            "Running on TPU  ['10.9.183.210:8470']\n",
            "data_file:data/unaligned_unformated_fr, tokenize_type:w, rm_punc:True\n",
            "100% 474000/474000 [00:04<00:00, 111515.74it/s]\n",
            "\n",
            "# v2id dictionary saved at: /content/drive/My Drive/ift6759/ift6759-t6-p2/language_models/unformated_fr_w2w/v2id.json\n",
            "/usr/local/lib/python3.6/dist-packages/smart_open/smart_open_lib.py:410: UserWarning: This function is deprecated, use smart_open.open instead. See the migration notes for details: https://github.com/RaRe-Technologies/smart_open/blob/master/README.rst#migrating-to-the-new-open-function\n",
            "  'See the migration notes for details: %s' % _MIGRATION_NOTES_URL\n",
            "Epoch 1/2\n",
            "WARNING:tensorflow:Model was constructed with shape (128, None) for input Tensor(\"embedding_input:0\", shape=(128, None), dtype=float32), but it was called on an input with incompatible shape (16, 243).\n",
            "WARNING:tensorflow:Model was constructed with shape (128, None) for input Tensor(\"embedding_input:0\", shape=(128, None), dtype=float32), but it was called on an input with incompatible shape (16, 243).\n",
            "WARNING:tensorflow:Model was constructed with shape (128, None) for input Tensor(\"embedding_input:0\", shape=(128, None), dtype=float32), but it was called on an input with incompatible shape (16, 243).\n",
            "WARNING:tensorflow:Model was constructed with shape (128, None) for input Tensor(\"embedding_input:0\", shape=(128, None), dtype=float32), but it was called on an input with incompatible shape (16, 243).\n",
            "500/500 [==============================] - ETA: 0s - loss: 0.5267WARNING:tensorflow:Model was constructed with shape (128, None) for input Tensor(\"embedding_input:0\", shape=(128, None), dtype=float32), but it was called on an input with incompatible shape (16, 243).\n",
            "WARNING:tensorflow:Model was constructed with shape (128, None) for input Tensor(\"embedding_input:0\", shape=(128, None), dtype=float32), but it was called on an input with incompatible shape (16, 243).\n",
            "500/500 [==============================] - 106s 212ms/step - loss: 0.5267 - val_loss: 0.4588\n",
            "Epoch 2/2\n",
            "500/500 [==============================] - ETA: 0s - loss: 0.4384WARNING:tensorflow:Model was constructed with shape (128, None) for input Tensor(\"embedding_input:0\", shape=(128, None), dtype=float32), but it was called on an input with incompatible shape (16, 243).\n",
            "WARNING:tensorflow:Model was constructed with shape (128, None) for input Tensor(\"embedding_input:0\", shape=(128, None), dtype=float32), but it was called on an input with incompatible shape (16, 243).\n",
            "500/500 [==============================] - 107s 213ms/step - loss: 0.4384 - val_loss: 0.4263\n"
          ],
          "name": "stdout"
        }
      ]
    },
    {
      "cell_type": "code",
      "metadata": {
        "id": "60naHt9_5oFz",
        "colab_type": "code",
        "outputId": "c1942e3f-15f0-4eef-e9dc-174c949b0e24",
        "colab": {
          "base_uri": "https://localhost:8080/",
          "height": 394
        }
      },
      "source": [
        "!python train_language_model.py --task unformated_fr_c2c --epochs 2 --batch_size 128"
      ],
      "execution_count": 15,
      "outputs": [
        {
          "output_type": "stream",
          "text": [
            "Tensorflow version 2.2.0-rc2\n",
            "2020-04-11 07:00:26.403609: E tensorflow/stream_executor/cuda/cuda_driver.cc:313] failed call to cuInit: CUDA_ERROR_NO_DEVICE: no CUDA-capable device is detected\n",
            "Running on TPU  ['10.9.183.210:8470']\n",
            "data_file:data/unaligned_unformated_fr, tokenize_type:c, rm_punc:True\n",
            "100% 474000/474000 [00:09<00:00, 49423.08it/s]\n",
            "tcmalloc: large alloc 1844813824 bytes == 0x5fdde000 @  0x7f8253aef1e7 0x7f8250f2c5e1 0x7f8250f90e88 0x7f8250f91147 0x7f8251029118 0x50ac25 0x50c5b9 0x508245 0x50a080 0x50aa7d 0x50d390 0x508245 0x50a080 0x50aa7d 0x50d390 0x508245 0x50a080 0x50aa7d 0x50d390 0x509d48 0x50aa7d 0x50c5b9 0x508245 0x50a080 0x50aa7d 0x50d390 0x508245 0x58958c 0x5a067e 0x50d966 0x508245\n",
            "\n",
            "# v2id dictionary saved at: /content/drive/My Drive/ift6759/ift6759-t6-p2/language_models/unformated_fr_c2c/v2id.json\n",
            "tcmalloc: large alloc 1291370496 bytes == 0xce53a000 @  0x7f8253aef1e7 0x7f8250f2c5e1 0x7f8250f90e88 0x7f8250f90fa3 0x7f825101c0c6 0x7f825101c528 0x50c88b 0x508245 0x50a080 0x50aa7d 0x50d390 0x508245 0x50a080 0x50aa7d 0x50c5b9 0x58efc9 0x4c9546 0x5886f4 0x58892e 0x551b81 0x5aa6ec 0x50abb3 0x50c5b9 0x508245 0x50a080 0x50aa7d 0x50d390 0x508245 0x58958c 0x5a067e 0x50d966\n",
            "Epoch 1/2\n",
            "WARNING:tensorflow:Model was constructed with shape (128, None) for input Tensor(\"embedding_input:0\", shape=(128, None), dtype=float32), but it was called on an input with incompatible shape (16, 972).\n",
            "WARNING:tensorflow:Model was constructed with shape (128, None) for input Tensor(\"embedding_input:0\", shape=(128, None), dtype=float32), but it was called on an input with incompatible shape (16, 972).\n",
            "WARNING:tensorflow:Model was constructed with shape (128, None) for input Tensor(\"embedding_input:0\", shape=(128, None), dtype=float32), but it was called on an input with incompatible shape (16, 972).\n",
            "WARNING:tensorflow:Model was constructed with shape (128, None) for input Tensor(\"embedding_input:0\", shape=(128, None), dtype=float32), but it was called on an input with incompatible shape (16, 972).\n",
            "500/500 [==============================] - ETA: 0s - loss: 0.2847WARNING:tensorflow:Model was constructed with shape (128, None) for input Tensor(\"embedding_input:0\", shape=(128, None), dtype=float32), but it was called on an input with incompatible shape (16, 972).\n",
            "WARNING:tensorflow:Model was constructed with shape (128, None) for input Tensor(\"embedding_input:0\", shape=(128, None), dtype=float32), but it was called on an input with incompatible shape (16, 972).\n",
            "500/500 [==============================] - 69s 138ms/step - loss: 0.2847 - val_loss: 0.2310\n",
            "Epoch 2/2\n",
            "500/500 [==============================] - ETA: 0s - loss: 0.2040WARNING:tensorflow:Model was constructed with shape (128, None) for input Tensor(\"embedding_input:0\", shape=(128, None), dtype=float32), but it was called on an input with incompatible shape (16, 972).\n",
            "WARNING:tensorflow:Model was constructed with shape (128, None) for input Tensor(\"embedding_input:0\", shape=(128, None), dtype=float32), but it was called on an input with incompatible shape (16, 972).\n",
            "500/500 [==============================] - 69s 138ms/step - loss: 0.2040 - val_loss: 0.1808\n"
          ],
          "name": "stdout"
        }
      ]
    },
    {
      "cell_type": "code",
      "metadata": {
        "id": "aOd8rCxK5n4Z",
        "colab_type": "code",
        "outputId": "e603ccba-feba-4bbf-cfa3-d27e86947596",
        "colab": {
          "base_uri": "https://localhost:8080/",
          "height": 394
        }
      },
      "source": [
        "!python train_language_model.py --task formated_fr_c2c --epochs 2 --batch_size 128 "
      ],
      "execution_count": 16,
      "outputs": [
        {
          "output_type": "stream",
          "text": [
            "Tensorflow version 2.2.0-rc2\n",
            "2020-04-11 07:03:46.563877: E tensorflow/stream_executor/cuda/cuda_driver.cc:313] failed call to cuInit: CUDA_ERROR_NO_DEVICE: no CUDA-capable device is detected\n",
            "Running on TPU  ['10.9.183.210:8470']\n",
            "data_file:data/unaligned_formated_fr, tokenize_type:c, rm_punc:False\n",
            "100% 474000/474000 [00:10<00:00, 43927.57it/s]\n",
            "tcmalloc: large alloc 1859977216 bytes == 0x641d6000 @  0x7f64de3d31e7 0x7f64db8105e1 0x7f64db874e88 0x7f64db875147 0x7f64db90d118 0x50ac25 0x50c5b9 0x508245 0x50a080 0x50aa7d 0x50d390 0x508245 0x50a080 0x50aa7d 0x50d390 0x508245 0x50a080 0x50aa7d 0x50d390 0x509d48 0x50aa7d 0x50c5b9 0x508245 0x50a080 0x50aa7d 0x50d390 0x508245 0x58958c 0x5a067e 0x50d966 0x508245\n",
            "\n",
            "# v2id dictionary saved at: /content/drive/My Drive/ift6759/ift6759-t6-p2/language_models/formated_fr_c2c/v2id.json\n",
            "tcmalloc: large alloc 1301987328 bytes == 0xd37a6000 @  0x7f64de3d31e7 0x7f64db8105e1 0x7f64db874e88 0x7f64db874fa3 0x7f64db9000c6 0x7f64db900528 0x50c88b 0x508245 0x50a080 0x50aa7d 0x50d390 0x508245 0x50a080 0x50aa7d 0x50c5b9 0x58efc9 0x4c9546 0x5886f4 0x58892e 0x551b81 0x5aa6ec 0x50abb3 0x50c5b9 0x508245 0x50a080 0x50aa7d 0x50d390 0x508245 0x58958c 0x5a067e 0x50d966\n",
            "Epoch 1/2\n",
            "WARNING:tensorflow:Model was constructed with shape (128, None) for input Tensor(\"embedding_input:0\", shape=(128, None), dtype=float32), but it was called on an input with incompatible shape (16, 980).\n",
            "WARNING:tensorflow:Model was constructed with shape (128, None) for input Tensor(\"embedding_input:0\", shape=(128, None), dtype=float32), but it was called on an input with incompatible shape (16, 980).\n",
            "WARNING:tensorflow:Model was constructed with shape (128, None) for input Tensor(\"embedding_input:0\", shape=(128, None), dtype=float32), but it was called on an input with incompatible shape (16, 980).\n",
            "WARNING:tensorflow:Model was constructed with shape (128, None) for input Tensor(\"embedding_input:0\", shape=(128, None), dtype=float32), but it was called on an input with incompatible shape (16, 980).\n",
            "500/500 [==============================] - ETA: 0s - loss: 0.2875WARNING:tensorflow:Model was constructed with shape (128, None) for input Tensor(\"embedding_input:0\", shape=(128, None), dtype=float32), but it was called on an input with incompatible shape (16, 980).\n",
            "WARNING:tensorflow:Model was constructed with shape (128, None) for input Tensor(\"embedding_input:0\", shape=(128, None), dtype=float32), but it was called on an input with incompatible shape (16, 980).\n",
            "500/500 [==============================] - 70s 139ms/step - loss: 0.2875 - val_loss: 0.2335\n",
            "Epoch 2/2\n",
            "500/500 [==============================] - ETA: 0s - loss: 0.2070WARNING:tensorflow:Model was constructed with shape (128, None) for input Tensor(\"embedding_input:0\", shape=(128, None), dtype=float32), but it was called on an input with incompatible shape (16, 980).\n",
            "WARNING:tensorflow:Model was constructed with shape (128, None) for input Tensor(\"embedding_input:0\", shape=(128, None), dtype=float32), but it was called on an input with incompatible shape (16, 980).\n",
            "500/500 [==============================] - 70s 139ms/step - loss: 0.2070 - val_loss: 0.1864\n"
          ],
          "name": "stdout"
        }
      ]
    },
    {
      "cell_type": "code",
      "metadata": {
        "id": "1MrKu9UOZUfY",
        "colab_type": "code",
        "colab": {}
      },
      "source": [
        "import tensorflow as tf\n",
        "checkpoint_dir = 'language_models/unformated_eng_w2w/'\n",
        "checkpoint_prefix = os.path.join(os.getcwd(),checkpoint_dir,\"GRU_{epoch}.h5\")\n",
        "tf.train.latest_checkpoint(os.path.join(os.getcwd(),checkpoint_dir))"
      ],
      "execution_count": 0,
      "outputs": []
    },
    {
      "cell_type": "code",
      "metadata": {
        "id": "bYcBOGGqkNJR",
        "colab_type": "code",
        "colab": {}
      },
      "source": [
        "def build_model(vocab_size, embedding_dim, rnn_units, batch_size):\n",
        "  model = tf.keras.Sequential([\n",
        "    tf.keras.layers.Embedding(vocab_size, embedding_dim,\n",
        "                              batch_input_shape=[batch_size, None]),\n",
        "    tf.keras.layers.GRU(rnn_units,\n",
        "                        return_sequences=True,\n",
        "                        stateful=True,\n",
        "                        recurrent_initializer='glorot_uniform'),\n",
        "    tf.keras.layers.Dense(vocab_size)\n",
        "  ])\n",
        "  return model\n",
        "\n",
        "model = build_model(vocab_size=63132, embedding_dim=256, rnn_units=1024, batch_size=1)\n",
        "model.load_weights(os.path.join(os.getcwd(),checkpoint_dir, \"GRU_10.h5\"))\n",
        "model.build(tf.TensorShape([1, None]))"
      ],
      "execution_count": 0,
      "outputs": []
    },
    {
      "cell_type": "code",
      "metadata": {
        "id": "TMjghHrmknZo",
        "colab_type": "code",
        "outputId": "dac28aa6-97cd-419b-95e2-39ba7b080fd9",
        "colab": {
          "base_uri": "https://localhost:8080/",
          "height": 255
        }
      },
      "source": [
        "model.summary()"
      ],
      "execution_count": 0,
      "outputs": [
        {
          "output_type": "stream",
          "text": [
            "Model: \"sequential\"\n",
            "_________________________________________________________________\n",
            "Layer (type)                 Output Shape              Param #   \n",
            "=================================================================\n",
            "embedding (Embedding)        (1, None, 256)            16161792  \n",
            "_________________________________________________________________\n",
            "gru (GRU)                    (1, None, 1024)           3938304   \n",
            "_________________________________________________________________\n",
            "dense (Dense)                (1, None, 63132)          64710300  \n",
            "=================================================================\n",
            "Total params: 84,810,396\n",
            "Trainable params: 84,810,396\n",
            "Non-trainable params: 0\n",
            "_________________________________________________________________\n"
          ],
          "name": "stdout"
        }
      ]
    },
    {
      "cell_type": "code",
      "metadata": {
        "id": "KCKmPo_nmVJN",
        "colab_type": "code",
        "colab": {}
      },
      "source": [
        ""
      ],
      "execution_count": 0,
      "outputs": []
    }
  ]
}