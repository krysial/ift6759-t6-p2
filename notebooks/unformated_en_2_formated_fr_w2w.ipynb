{
  "nbformat": 4,
  "nbformat_minor": 0,
  "metadata": {
    "accelerator": "GPU",
    "colab": {
      "name": "unformated_en_2_formated_fr_w2w.ipynb",
      "provenance": [],
      "collapsed_sections": [
        "nb67W9VFEWrq"
      ],
      "toc_visible": true,
      "machine_shape": "hm"
    },
    "kernelspec": {
      "display_name": "Python 3",
      "name": "python3"
    },
    "widgets": {
      "application/vnd.jupyter.widget-state+json": {
        "34c683f4f86f4877acc3f8819db00f56": {
          "model_module": "@jupyter-widgets/controls",
          "model_name": "HBoxModel",
          "state": {
            "_view_name": "HBoxView",
            "_dom_classes": [],
            "_model_name": "HBoxModel",
            "_view_module": "@jupyter-widgets/controls",
            "_model_module_version": "1.5.0",
            "_view_count": null,
            "_view_module_version": "1.5.0",
            "box_style": "",
            "layout": "IPY_MODEL_b08cb935a0a14b1f8fc263feef38d366",
            "_model_module": "@jupyter-widgets/controls",
            "children": [
              "IPY_MODEL_06866687dff144e6bfb0b7367ed698eb",
              "IPY_MODEL_c9986df5a3f74b07936a162a6d9d30bf"
            ]
          }
        },
        "b08cb935a0a14b1f8fc263feef38d366": {
          "model_module": "@jupyter-widgets/base",
          "model_name": "LayoutModel",
          "state": {
            "_view_name": "LayoutView",
            "grid_template_rows": null,
            "right": null,
            "justify_content": null,
            "_view_module": "@jupyter-widgets/base",
            "overflow": null,
            "_model_module_version": "1.2.0",
            "_view_count": null,
            "flex_flow": null,
            "width": null,
            "min_width": null,
            "border": null,
            "align_items": null,
            "bottom": null,
            "_model_module": "@jupyter-widgets/base",
            "top": null,
            "grid_column": null,
            "overflow_y": null,
            "overflow_x": null,
            "grid_auto_flow": null,
            "grid_area": null,
            "grid_template_columns": null,
            "flex": null,
            "_model_name": "LayoutModel",
            "justify_items": null,
            "grid_row": null,
            "max_height": null,
            "align_content": null,
            "visibility": null,
            "align_self": null,
            "height": null,
            "min_height": null,
            "padding": null,
            "grid_auto_rows": null,
            "grid_gap": null,
            "max_width": null,
            "order": null,
            "_view_module_version": "1.2.0",
            "grid_template_areas": null,
            "object_position": null,
            "object_fit": null,
            "grid_auto_columns": null,
            "margin": null,
            "display": null,
            "left": null
          }
        },
        "06866687dff144e6bfb0b7367ed698eb": {
          "model_module": "@jupyter-widgets/controls",
          "model_name": "IntProgressModel",
          "state": {
            "_view_name": "ProgressView",
            "style": "IPY_MODEL_98e0dbb24f484da5a397798bdd3f310a",
            "_dom_classes": [],
            "description": "100%",
            "_model_name": "IntProgressModel",
            "bar_style": "success",
            "max": 27,
            "_view_module": "@jupyter-widgets/controls",
            "_model_module_version": "1.5.0",
            "value": 27,
            "_view_count": null,
            "_view_module_version": "1.5.0",
            "orientation": "horizontal",
            "min": 0,
            "description_tooltip": null,
            "_model_module": "@jupyter-widgets/controls",
            "layout": "IPY_MODEL_084b5f62f4c6427faa203631dca679dd"
          }
        },
        "c9986df5a3f74b07936a162a6d9d30bf": {
          "model_module": "@jupyter-widgets/controls",
          "model_name": "HTMLModel",
          "state": {
            "_view_name": "HTMLView",
            "style": "IPY_MODEL_77ecf723f0e24099b03b676195fffcaa",
            "_dom_classes": [],
            "description": "",
            "_model_name": "HTMLModel",
            "placeholder": "​",
            "_view_module": "@jupyter-widgets/controls",
            "_model_module_version": "1.5.0",
            "value": " 27/27 [1:05:25&lt;00:00, 145.40s/it]",
            "_view_count": null,
            "_view_module_version": "1.5.0",
            "description_tooltip": null,
            "_model_module": "@jupyter-widgets/controls",
            "layout": "IPY_MODEL_bdad8c2715b149c093fa4a9e4ccd750f"
          }
        },
        "98e0dbb24f484da5a397798bdd3f310a": {
          "model_module": "@jupyter-widgets/controls",
          "model_name": "ProgressStyleModel",
          "state": {
            "_view_name": "StyleView",
            "_model_name": "ProgressStyleModel",
            "description_width": "initial",
            "_view_module": "@jupyter-widgets/base",
            "_model_module_version": "1.5.0",
            "_view_count": null,
            "_view_module_version": "1.2.0",
            "bar_color": null,
            "_model_module": "@jupyter-widgets/controls"
          }
        },
        "084b5f62f4c6427faa203631dca679dd": {
          "model_module": "@jupyter-widgets/base",
          "model_name": "LayoutModel",
          "state": {
            "_view_name": "LayoutView",
            "grid_template_rows": null,
            "right": null,
            "justify_content": null,
            "_view_module": "@jupyter-widgets/base",
            "overflow": null,
            "_model_module_version": "1.2.0",
            "_view_count": null,
            "flex_flow": null,
            "width": null,
            "min_width": null,
            "border": null,
            "align_items": null,
            "bottom": null,
            "_model_module": "@jupyter-widgets/base",
            "top": null,
            "grid_column": null,
            "overflow_y": null,
            "overflow_x": null,
            "grid_auto_flow": null,
            "grid_area": null,
            "grid_template_columns": null,
            "flex": null,
            "_model_name": "LayoutModel",
            "justify_items": null,
            "grid_row": null,
            "max_height": null,
            "align_content": null,
            "visibility": null,
            "align_self": null,
            "height": null,
            "min_height": null,
            "padding": null,
            "grid_auto_rows": null,
            "grid_gap": null,
            "max_width": null,
            "order": null,
            "_view_module_version": "1.2.0",
            "grid_template_areas": null,
            "object_position": null,
            "object_fit": null,
            "grid_auto_columns": null,
            "margin": null,
            "display": null,
            "left": null
          }
        },
        "77ecf723f0e24099b03b676195fffcaa": {
          "model_module": "@jupyter-widgets/controls",
          "model_name": "DescriptionStyleModel",
          "state": {
            "_view_name": "StyleView",
            "_model_name": "DescriptionStyleModel",
            "description_width": "",
            "_view_module": "@jupyter-widgets/base",
            "_model_module_version": "1.5.0",
            "_view_count": null,
            "_view_module_version": "1.2.0",
            "_model_module": "@jupyter-widgets/controls"
          }
        },
        "bdad8c2715b149c093fa4a9e4ccd750f": {
          "model_module": "@jupyter-widgets/base",
          "model_name": "LayoutModel",
          "state": {
            "_view_name": "LayoutView",
            "grid_template_rows": null,
            "right": null,
            "justify_content": null,
            "_view_module": "@jupyter-widgets/base",
            "overflow": null,
            "_model_module_version": "1.2.0",
            "_view_count": null,
            "flex_flow": null,
            "width": null,
            "min_width": null,
            "border": null,
            "align_items": null,
            "bottom": null,
            "_model_module": "@jupyter-widgets/base",
            "top": null,
            "grid_column": null,
            "overflow_y": null,
            "overflow_x": null,
            "grid_auto_flow": null,
            "grid_area": null,
            "grid_template_columns": null,
            "flex": null,
            "_model_name": "LayoutModel",
            "justify_items": null,
            "grid_row": null,
            "max_height": null,
            "align_content": null,
            "visibility": null,
            "align_self": null,
            "height": null,
            "min_height": null,
            "padding": null,
            "grid_auto_rows": null,
            "grid_gap": null,
            "max_width": null,
            "order": null,
            "_view_module_version": "1.2.0",
            "grid_template_areas": null,
            "object_position": null,
            "object_fit": null,
            "grid_auto_columns": null,
            "margin": null,
            "display": null,
            "left": null
          }
        },
        "dddbdcee3fa045eeb4907704b60bd085": {
          "model_module": "@jupyter-widgets/controls",
          "model_name": "HBoxModel",
          "state": {
            "_view_name": "HBoxView",
            "_dom_classes": [],
            "_model_name": "HBoxModel",
            "_view_module": "@jupyter-widgets/controls",
            "_model_module_version": "1.5.0",
            "_view_count": null,
            "_view_module_version": "1.5.0",
            "box_style": "",
            "layout": "IPY_MODEL_b9e8566fc6b342a292eff60f2722a55f",
            "_model_module": "@jupyter-widgets/controls",
            "children": [
              "IPY_MODEL_9de4958ab66d49929aece0f09118793e",
              "IPY_MODEL_e0701df1ee2845d99ca42bf1c784e08d"
            ]
          }
        },
        "b9e8566fc6b342a292eff60f2722a55f": {
          "model_module": "@jupyter-widgets/base",
          "model_name": "LayoutModel",
          "state": {
            "_view_name": "LayoutView",
            "grid_template_rows": null,
            "right": null,
            "justify_content": null,
            "_view_module": "@jupyter-widgets/base",
            "overflow": null,
            "_model_module_version": "1.2.0",
            "_view_count": null,
            "flex_flow": null,
            "width": null,
            "min_width": null,
            "border": null,
            "align_items": null,
            "bottom": null,
            "_model_module": "@jupyter-widgets/base",
            "top": null,
            "grid_column": null,
            "overflow_y": null,
            "overflow_x": null,
            "grid_auto_flow": null,
            "grid_area": null,
            "grid_template_columns": null,
            "flex": null,
            "_model_name": "LayoutModel",
            "justify_items": null,
            "grid_row": null,
            "max_height": null,
            "align_content": null,
            "visibility": null,
            "align_self": null,
            "height": null,
            "min_height": null,
            "padding": null,
            "grid_auto_rows": null,
            "grid_gap": null,
            "max_width": null,
            "order": null,
            "_view_module_version": "1.2.0",
            "grid_template_areas": null,
            "object_position": null,
            "object_fit": null,
            "grid_auto_columns": null,
            "margin": null,
            "display": null,
            "left": null
          }
        },
        "9de4958ab66d49929aece0f09118793e": {
          "model_module": "@jupyter-widgets/controls",
          "model_name": "IntProgressModel",
          "state": {
            "_view_name": "ProgressView",
            "style": "IPY_MODEL_bb8f5ce4b7754f809ba88e62c7ab2c36",
            "_dom_classes": [],
            "description": "  4%",
            "_model_name": "IntProgressModel",
            "bar_style": "",
            "max": 50,
            "_view_module": "@jupyter-widgets/controls",
            "_model_module_version": "1.5.0",
            "value": 2,
            "_view_count": null,
            "_view_module_version": "1.5.0",
            "orientation": "horizontal",
            "min": 0,
            "description_tooltip": null,
            "_model_module": "@jupyter-widgets/controls",
            "layout": "IPY_MODEL_bb8182ba26e74588b763d7c9b1153f88"
          }
        },
        "e0701df1ee2845d99ca42bf1c784e08d": {
          "model_module": "@jupyter-widgets/controls",
          "model_name": "HTMLModel",
          "state": {
            "_view_name": "HTMLView",
            "style": "IPY_MODEL_70456371b9374800abc389f8c3a132fb",
            "_dom_classes": [],
            "description": "",
            "_model_name": "HTMLModel",
            "placeholder": "​",
            "_view_module": "@jupyter-widgets/controls",
            "_model_module_version": "1.5.0",
            "value": " 2/50 [00:30&lt;12:46, 15.97s/it]",
            "_view_count": null,
            "_view_module_version": "1.5.0",
            "description_tooltip": null,
            "_model_module": "@jupyter-widgets/controls",
            "layout": "IPY_MODEL_e653cc36c30f464ea11ff051d3f610ed"
          }
        },
        "bb8f5ce4b7754f809ba88e62c7ab2c36": {
          "model_module": "@jupyter-widgets/controls",
          "model_name": "ProgressStyleModel",
          "state": {
            "_view_name": "StyleView",
            "_model_name": "ProgressStyleModel",
            "description_width": "initial",
            "_view_module": "@jupyter-widgets/base",
            "_model_module_version": "1.5.0",
            "_view_count": null,
            "_view_module_version": "1.2.0",
            "bar_color": null,
            "_model_module": "@jupyter-widgets/controls"
          }
        },
        "bb8182ba26e74588b763d7c9b1153f88": {
          "model_module": "@jupyter-widgets/base",
          "model_name": "LayoutModel",
          "state": {
            "_view_name": "LayoutView",
            "grid_template_rows": null,
            "right": null,
            "justify_content": null,
            "_view_module": "@jupyter-widgets/base",
            "overflow": null,
            "_model_module_version": "1.2.0",
            "_view_count": null,
            "flex_flow": null,
            "width": null,
            "min_width": null,
            "border": null,
            "align_items": null,
            "bottom": null,
            "_model_module": "@jupyter-widgets/base",
            "top": null,
            "grid_column": null,
            "overflow_y": null,
            "overflow_x": null,
            "grid_auto_flow": null,
            "grid_area": null,
            "grid_template_columns": null,
            "flex": null,
            "_model_name": "LayoutModel",
            "justify_items": null,
            "grid_row": null,
            "max_height": null,
            "align_content": null,
            "visibility": null,
            "align_self": null,
            "height": null,
            "min_height": null,
            "padding": null,
            "grid_auto_rows": null,
            "grid_gap": null,
            "max_width": null,
            "order": null,
            "_view_module_version": "1.2.0",
            "grid_template_areas": null,
            "object_position": null,
            "object_fit": null,
            "grid_auto_columns": null,
            "margin": null,
            "display": null,
            "left": null
          }
        },
        "70456371b9374800abc389f8c3a132fb": {
          "model_module": "@jupyter-widgets/controls",
          "model_name": "DescriptionStyleModel",
          "state": {
            "_view_name": "StyleView",
            "_model_name": "DescriptionStyleModel",
            "description_width": "",
            "_view_module": "@jupyter-widgets/base",
            "_model_module_version": "1.5.0",
            "_view_count": null,
            "_view_module_version": "1.2.0",
            "_model_module": "@jupyter-widgets/controls"
          }
        },
        "e653cc36c30f464ea11ff051d3f610ed": {
          "model_module": "@jupyter-widgets/base",
          "model_name": "LayoutModel",
          "state": {
            "_view_name": "LayoutView",
            "grid_template_rows": null,
            "right": null,
            "justify_content": null,
            "_view_module": "@jupyter-widgets/base",
            "overflow": null,
            "_model_module_version": "1.2.0",
            "_view_count": null,
            "flex_flow": null,
            "width": null,
            "min_width": null,
            "border": null,
            "align_items": null,
            "bottom": null,
            "_model_module": "@jupyter-widgets/base",
            "top": null,
            "grid_column": null,
            "overflow_y": null,
            "overflow_x": null,
            "grid_auto_flow": null,
            "grid_area": null,
            "grid_template_columns": null,
            "flex": null,
            "_model_name": "LayoutModel",
            "justify_items": null,
            "grid_row": null,
            "max_height": null,
            "align_content": null,
            "visibility": null,
            "align_self": null,
            "height": null,
            "min_height": null,
            "padding": null,
            "grid_auto_rows": null,
            "grid_gap": null,
            "max_width": null,
            "order": null,
            "_view_module_version": "1.2.0",
            "grid_template_areas": null,
            "object_position": null,
            "object_fit": null,
            "grid_auto_columns": null,
            "margin": null,
            "display": null,
            "left": null
          }
        }
      }
    }
  },
  "cells": [
    {
      "cell_type": "markdown",
      "metadata": {
        "colab_type": "text",
        "id": "s_qNSzzyaCbD"
      },
      "source": [
        "##### Copyright 2019 The TensorFlow Authors."
      ]
    },
    {
      "cell_type": "code",
      "metadata": {
        "cellView": "form",
        "colab_type": "code",
        "id": "jmjh290raIky",
        "colab": {}
      },
      "source": [
        "#@title Licensed under the Apache License, Version 2.0 (the \"License\");\n",
        "# you may not use this file except in compliance with the License.\n",
        "# You may obtain a copy of the License at\n",
        "#\n",
        "# https://www.apache.org/licenses/LICENSE-2.0\n",
        "#\n",
        "# Unless required by applicable law or agreed to in writing, software\n",
        "# distributed under the License is distributed on an \"AS IS\" BASIS,\n",
        "# WITHOUT WARRANTIES OR CONDITIONS OF ANY KIND, either express or implied.\n",
        "# See the License for the specific language governing permissions and\n",
        "# limitations under the License."
      ],
      "execution_count": 0,
      "outputs": []
    },
    {
      "cell_type": "markdown",
      "metadata": {
        "id": "sxLx0cxT_fJ7",
        "colab_type": "text"
      },
      "source": [
        "### Colab stuff"
      ]
    },
    {
      "cell_type": "code",
      "metadata": {
        "id": "BWqhS7vxL8sr",
        "colab_type": "code",
        "colab": {
          "base_uri": "https://localhost:8080/",
          "height": 122
        },
        "outputId": "fbf6140f-3e3a-4356-fe07-8192235e0bef"
      },
      "source": [
        "from google.colab import drive\n",
        "drive.mount('/content/drive')"
      ],
      "execution_count": 2,
      "outputs": [
        {
          "output_type": "stream",
          "text": [
            "Go to this URL in a browser: https://accounts.google.com/o/oauth2/auth?client_id=947318989803-6bn6qk8qdgf4n4g3pfee6491hc0brc4i.apps.googleusercontent.com&redirect_uri=urn%3aietf%3awg%3aoauth%3a2.0%3aoob&response_type=code&scope=email%20https%3a%2f%2fwww.googleapis.com%2fauth%2fdocs.test%20https%3a%2f%2fwww.googleapis.com%2fauth%2fdrive%20https%3a%2f%2fwww.googleapis.com%2fauth%2fdrive.photos.readonly%20https%3a%2f%2fwww.googleapis.com%2fauth%2fpeopleapi.readonly\n",
            "\n",
            "Enter your authorization code:\n",
            "··········\n",
            "Mounted at /content/drive\n"
          ],
          "name": "stdout"
        }
      ]
    },
    {
      "cell_type": "code",
      "metadata": {
        "id": "oqoNO6SIMIir",
        "colab_type": "code",
        "outputId": "93f4c2cf-6894-4353-ad88-60925e5802e2",
        "colab": {
          "base_uri": "https://localhost:8080/",
          "height": 632
        }
      },
      "source": [
        "!pip install gensim==3.8.1\n",
        "!pip install sacrebleu"
      ],
      "execution_count": 3,
      "outputs": [
        {
          "output_type": "stream",
          "text": [
            "Collecting gensim==3.8.1\n",
            "\u001b[?25l  Downloading https://files.pythonhosted.org/packages/d1/dd/112bd4258cee11e0baaaba064060eb156475a42362e59e3ff28e7ca2d29d/gensim-3.8.1-cp36-cp36m-manylinux1_x86_64.whl (24.2MB)\n",
            "\u001b[K     |████████████████████████████████| 24.2MB 128kB/s \n",
            "\u001b[?25hRequirement already satisfied: numpy>=1.11.3 in /usr/local/lib/python3.6/dist-packages (from gensim==3.8.1) (1.18.2)\n",
            "Requirement already satisfied: smart-open>=1.8.1 in /usr/local/lib/python3.6/dist-packages (from gensim==3.8.1) (1.11.1)\n",
            "Requirement already satisfied: six>=1.5.0 in /usr/local/lib/python3.6/dist-packages (from gensim==3.8.1) (1.12.0)\n",
            "Requirement already satisfied: scipy>=0.18.1 in /usr/local/lib/python3.6/dist-packages (from gensim==3.8.1) (1.4.1)\n",
            "Requirement already satisfied: boto in /usr/local/lib/python3.6/dist-packages (from smart-open>=1.8.1->gensim==3.8.1) (2.49.0)\n",
            "Requirement already satisfied: boto3 in /usr/local/lib/python3.6/dist-packages (from smart-open>=1.8.1->gensim==3.8.1) (1.12.39)\n",
            "Requirement already satisfied: requests in /usr/local/lib/python3.6/dist-packages (from smart-open>=1.8.1->gensim==3.8.1) (2.21.0)\n",
            "Requirement already satisfied: botocore<1.16.0,>=1.15.39 in /usr/local/lib/python3.6/dist-packages (from boto3->smart-open>=1.8.1->gensim==3.8.1) (1.15.39)\n",
            "Requirement already satisfied: s3transfer<0.4.0,>=0.3.0 in /usr/local/lib/python3.6/dist-packages (from boto3->smart-open>=1.8.1->gensim==3.8.1) (0.3.3)\n",
            "Requirement already satisfied: jmespath<1.0.0,>=0.7.1 in /usr/local/lib/python3.6/dist-packages (from boto3->smart-open>=1.8.1->gensim==3.8.1) (0.9.5)\n",
            "Requirement already satisfied: idna<2.9,>=2.5 in /usr/local/lib/python3.6/dist-packages (from requests->smart-open>=1.8.1->gensim==3.8.1) (2.8)\n",
            "Requirement already satisfied: chardet<3.1.0,>=3.0.2 in /usr/local/lib/python3.6/dist-packages (from requests->smart-open>=1.8.1->gensim==3.8.1) (3.0.4)\n",
            "Requirement already satisfied: urllib3<1.25,>=1.21.1 in /usr/local/lib/python3.6/dist-packages (from requests->smart-open>=1.8.1->gensim==3.8.1) (1.24.3)\n",
            "Requirement already satisfied: certifi>=2017.4.17 in /usr/local/lib/python3.6/dist-packages (from requests->smart-open>=1.8.1->gensim==3.8.1) (2020.4.5.1)\n",
            "Requirement already satisfied: python-dateutil<3.0.0,>=2.1 in /usr/local/lib/python3.6/dist-packages (from botocore<1.16.0,>=1.15.39->boto3->smart-open>=1.8.1->gensim==3.8.1) (2.8.1)\n",
            "Requirement already satisfied: docutils<0.16,>=0.10 in /usr/local/lib/python3.6/dist-packages (from botocore<1.16.0,>=1.15.39->boto3->smart-open>=1.8.1->gensim==3.8.1) (0.15.2)\n",
            "Installing collected packages: gensim\n",
            "  Found existing installation: gensim 3.6.0\n",
            "    Uninstalling gensim-3.6.0:\n",
            "      Successfully uninstalled gensim-3.6.0\n",
            "Successfully installed gensim-3.8.1\n",
            "Collecting sacrebleu\n",
            "\u001b[?25l  Downloading https://files.pythonhosted.org/packages/f5/58/5c6cc352ea6271125325950715cf8b59b77abe5e93cf29f6e60b491a31d9/sacrebleu-1.4.6-py3-none-any.whl (59kB)\n",
            "\u001b[K     |████████████████████████████████| 61kB 2.2MB/s \n",
            "\u001b[?25hRequirement already satisfied: typing in /usr/local/lib/python3.6/dist-packages (from sacrebleu) (3.6.6)\n",
            "Collecting mecab-python3\n",
            "\u001b[?25l  Downloading https://files.pythonhosted.org/packages/18/49/b55a839a77189042960bf96490640c44816073f917d489acbc5d79fa5cc3/mecab_python3-0.996.5-cp36-cp36m-manylinux2010_x86_64.whl (17.1MB)\n",
            "\u001b[K     |████████████████████████████████| 17.1MB 198kB/s \n",
            "\u001b[?25hCollecting portalocker\n",
            "  Downloading https://files.pythonhosted.org/packages/53/84/7b3146ec6378d28abc73ab484f09f47dfa008ad6f03f33d90a369f880e25/portalocker-1.7.0-py2.py3-none-any.whl\n",
            "Installing collected packages: mecab-python3, portalocker, sacrebleu\n",
            "Successfully installed mecab-python3-0.996.5 portalocker-1.7.0 sacrebleu-1.4.6\n"
          ],
          "name": "stdout"
        }
      ]
    },
    {
      "cell_type": "code",
      "metadata": {
        "id": "sWdkK1xIL5IO",
        "colab_type": "code",
        "outputId": "beb8bb86-abd2-4f81-dfd8-1cfc6df76a32",
        "colab": {
          "base_uri": "https://localhost:8080/",
          "height": 34
        }
      },
      "source": [
        "import os\n",
        "os.chdir(os.path.join('drive', 'My Drive', 'ift6759', 'ift6759-t6-p2'))\n",
        "os.getcwd()"
      ],
      "execution_count": 4,
      "outputs": [
        {
          "output_type": "execute_result",
          "data": {
            "text/plain": [
              "'/content/drive/My Drive/ift6759/ift6759-t6-p2'"
            ]
          },
          "metadata": {
            "tags": []
          },
          "execution_count": 4
        }
      ]
    },
    {
      "cell_type": "markdown",
      "metadata": {
        "id": "rYDRwI_X_oSc",
        "colab_type": "text"
      },
      "source": [
        "### imports"
      ]
    },
    {
      "cell_type": "code",
      "metadata": {
        "id": "BKXrS5VKKORC",
        "colab_type": "code",
        "colab": {}
      },
      "source": [
        "import tensorflow as tf\n",
        "import os\n",
        "import json\n",
        "import time\n",
        "import numpy as np\n",
        "import matplotlib.pyplot as plt\n",
        "import sacrebleu\n",
        "\n",
        "from tqdm.notebook import tqdm\n",
        "from sklearn.model_selection import train_test_split\n",
        "from dataloader.dataloader import get_dataset_train\n",
        "from utils.data import preprocess_v2id, postprocessing\n",
        "from utils.data import save_json, load_json, swap_dict_key_value, checkout_data"
      ],
      "execution_count": 0,
      "outputs": []
    },
    {
      "cell_type": "markdown",
      "metadata": {
        "id": "V3SG8WxB_q4E",
        "colab_type": "text"
      },
      "source": [
        "### Dataloader"
      ]
    },
    {
      "cell_type": "code",
      "metadata": {
        "id": "uAt-tC85KwQ2",
        "colab_type": "code",
        "colab": {}
      },
      "source": [
        "def encoder_preprocess(data):\n",
        "    encoder_v2id, encoder_dataset = preprocess_v2id(\n",
        "            data=data,\n",
        "            v2id=os.path.join(\"language_models\",\"unformated_en_w2w\", \"v2id.json\"),\n",
        "            tokenize_type=\"w\",\n",
        "            max_seq=None,\n",
        "            remove_punctuation=True,\n",
        "            lower=False,\n",
        "            threshold=0.85,\n",
        "            CAP=True,\n",
        "            NUM=True,\n",
        "            ALNUM=True,\n",
        "            UPPER=True,\n",
        "            fasttext_model=\"/content/drive/My Drive/ift6759/ift6759-t6-p2/embeddings/unformated_en_w2w/128/unaligned_unformated_en\",\n",
        "    )\n",
        "    encoder_id2v = swap_dict_key_value(encoder_v2id)\n",
        "    return encoder_dataset, encoder_v2id, encoder_id2v\n",
        "\n",
        "def decoder_preprocess(data):\n",
        "    decoder_v2id, decoder_dataset = preprocess_v2id(\n",
        "            data=data,\n",
        "            v2id=os.path.join(\"language_models\",\"formated_fr_w2w\", \"v2id.json\"),\n",
        "            tokenize_type=\"w\",\n",
        "            max_seq=None,\n",
        "            remove_punctuation=False,\n",
        "            lower=False,\n",
        "            threshold=0.85,\n",
        "            CAP=True,\n",
        "            NUM=True,\n",
        "            ALNUM=True,\n",
        "            UPPER=True,\n",
        "            fasttext_model=\"/content/drive/My Drive/ift6759/ift6759-t6-p2/embeddings/formated_fr_w2w/128/unaligned_formated_fr\",\n",
        "    )\n",
        "    decoder_id2v = swap_dict_key_value(decoder_v2id)\n",
        "    return decoder_dataset, decoder_v2id, decoder_id2v\n",
        "\n",
        "def postprocess(out, encoder_v2id, decoder_v2id, enc_data_words):\n",
        "    func = postprocessing(\n",
        "                dec_data=out,\n",
        "                dec_v2id=decoder_v2id,\n",
        "                Print=False,\n",
        "                tokenize_type=\"w\",\n",
        "                fasttext_model=\"/content/drive/My Drive/ift6759/ift6759-t6-p2/embeddings/unformated_en_w2w/128/unaligned_unformated_en\",\n",
        "                enc_data=enc_data_words,\n",
        "                remove_punctuation=True,\n",
        "                lower=False,\n",
        "                CAP=True,\n",
        "                NUM=True,\n",
        "                ALNUM=True,\n",
        "                UPPER=True,\n",
        "                enc_v2id=encoder_v2id\n",
        "            )\n",
        "    return func\n",
        "\n",
        "def get_gen(data, batch_size, valid_test=False):\n",
        "    def data_word_generator():\n",
        "        ch_data = checkout_data(data)\n",
        "        if valid_test:\n",
        "          ch_data = ch_data[int(-len(ch_data)*0.2):]\n",
        "        size = len(ch_data)\n",
        "        steps = size//batch_size + 1\n",
        "        init = 0\n",
        "        end = batch_size\n",
        "        for i in range(steps):\n",
        "            to_return = ch_data[init:end]\n",
        "            init = end\n",
        "            end += batch_size\n",
        "            yield to_return\n",
        "    return data_word_generator()\n",
        "\n",
        "def get_out(enc_data_words):\n",
        "    enc_data_int, _, _ = encoder_preprocess(data=enc_data_words)\n",
        "    out, _ = evaluate(enc_data_int)\n",
        "    out_words = postprocess(out, encoder_v2id, decoder_v2id, enc_data_words)\n",
        "    return out_words\n",
        "\n",
        "def write_file_append(data, output):\n",
        "    with open(output, 'a+') as stream:\n",
        "      for line in data:\n",
        "        stream.write(line)\n",
        "        stream.write(\"\\n\")\n"
      ],
      "execution_count": 0,
      "outputs": []
    },
    {
      "cell_type": "markdown",
      "metadata": {
        "id": "13Ttej-7Wua4",
        "colab_type": "text"
      },
      "source": [
        "**real text**"
      ]
    },
    {
      "cell_type": "code",
      "metadata": {
        "id": "yqx3emDKV3Zr",
        "colab_type": "code",
        "colab": {}
      },
      "source": [
        "aligned_fr = \"/content/drive/My Drive/ift6759/ift6759-t6-p2/data/aligned_formated_fr\"\n",
        "aligned_en = \"/content/drive/My Drive/ift6759/ift6759-t6-p2/data/aligned_unformated_en\""
      ],
      "execution_count": 0,
      "outputs": []
    },
    {
      "cell_type": "markdown",
      "metadata": {
        "id": "hPsVpMccWy1j",
        "colab_type": "text"
      },
      "source": [
        "**virtual text**\n"
      ]
    },
    {
      "cell_type": "code",
      "metadata": {
        "id": "BsO58qi5WLU_",
        "colab_type": "code",
        "colab": {}
      },
      "source": [
        "unaligned_fr = \"/content/drive/My Drive/ift6759/ift6759-t6-p2/data/unaligned_formated_fr\"\n",
        "unaligned_en = \"/content/drive/My Drive/ift6759/ift6759-t6-p2/data/unaligned_unformated_en\""
      ],
      "execution_count": 0,
      "outputs": []
    },
    {
      "cell_type": "markdown",
      "metadata": {
        "id": "iOnNeQULW4NC",
        "colab_type": "text"
      },
      "source": [
        "**real dataset**"
      ]
    },
    {
      "cell_type": "code",
      "metadata": {
        "id": "kLpPZX6_mevi",
        "colab_type": "code",
        "outputId": "fce567aa-f2b1-4d39-e53d-a77016baafd1",
        "colab": {
          "base_uri": "https://localhost:8080/",
          "height": 51
        }
      },
      "source": [
        "encoder_dataset, encoder_v2id, encoder_id2v = encoder_preprocess(data=aligned_en)\n",
        "decoder_dataset, decoder_v2id, decoder_id2v = decoder_preprocess(data=aligned_fr)"
      ],
      "execution_count": 23,
      "outputs": [
        {
          "output_type": "stream",
          "text": [
            "100%|██████████| 11000/11000 [00:10<00:00, 1043.08it/s]\n",
            "100%|██████████| 11000/11000 [00:51<00:00, 215.49it/s]\n"
          ],
          "name": "stderr"
        }
      ]
    },
    {
      "cell_type": "markdown",
      "metadata": {
        "id": "kOzFMywhXAUK",
        "colab_type": "text"
      },
      "source": [
        "**virtual dataset**"
      ]
    },
    {
      "cell_type": "code",
      "metadata": {
        "id": "36_cgFMKXCX-",
        "colab_type": "code",
        "colab": {}
      },
      "source": [
        "encoder_dataset, encoder_v2id, encoder_id2v = encoder_preprocess(data=unaligned_en)\n",
        "decoder_dataset, decoder_v2id, decoder_id2v = decoder_preprocess(data=unaligned_fr)"
      ],
      "execution_count": 0,
      "outputs": []
    },
    {
      "cell_type": "markdown",
      "metadata": {
        "id": "PnXJ0hwbXV2d",
        "colab_type": "text"
      },
      "source": [
        "#### Split Train-Valid\n"
      ]
    },
    {
      "cell_type": "code",
      "metadata": {
        "id": "G5O3Lg1XKNia",
        "colab_type": "code",
        "colab": {}
      },
      "source": [
        "(\n",
        "    input_tensor_train,\n",
        "    input_tensor_valid,\n",
        "    target_tensor_train,\n",
        "    target_tensor_valid\n",
        ") = train_test_split(encoder_dataset, decoder_dataset, test_size=0.2, shuffle=False)"
      ],
      "execution_count": 0,
      "outputs": []
    },
    {
      "cell_type": "code",
      "metadata": {
        "id": "YkYCU30nONMd",
        "colab_type": "code",
        "colab": {}
      },
      "source": [
        "BUFFER_SIZE = len(input_tensor_train)\n",
        "batch_size = 32\n",
        "dataset_train = tf.data.Dataset.from_tensor_slices(\n",
        "    (input_tensor_train, target_tensor_train)).batch(batch_size, drop_remainder=False)\n",
        "dataset_valid = tf.data.Dataset.from_tensor_slices(\n",
        "    (input_tensor_valid, target_tensor_valid)).batch(batch_size, drop_remainder=False)"
      ],
      "execution_count": 0,
      "outputs": []
    },
    {
      "cell_type": "markdown",
      "metadata": {
        "id": "P9-BgT6v_wyc",
        "colab_type": "text"
      },
      "source": [
        "#### View data sample"
      ]
    },
    {
      "cell_type": "code",
      "metadata": {
        "id": "otUIR4qqKp2W",
        "colab_type": "code",
        "outputId": "a9be22e2-a4aa-4d59-8962-023e716560a2",
        "colab": {
          "base_uri": "https://localhost:8080/",
          "height": 173
        }
      },
      "source": [
        "for i,j in dataset_train:\n",
        "  for z in i[10].numpy():\n",
        "    print(encoder_id2v[z], end = ' ')\n",
        "  print(\"\\n\")\n",
        "  for z in j[10].numpy():\n",
        "    print(decoder_id2v[z], end = ' ')\n",
        "  print(\"\\n\")\n",
        "  break\n",
        "\n",
        "for i,j in dataset_valid:\n",
        "  for z in i[0].numpy():\n",
        "    print(encoder_id2v[z], end = ' ')\n",
        "  print(\"\\n\")\n",
        "  for z in j[0].numpy():\n",
        "    print(decoder_id2v[z], end = ' ')\n",
        "  print(\"\\n\")\n",
        "  break\n"
      ],
      "execution_count": 26,
      "outputs": [
        {
          "output_type": "stream",
          "text": [
            "<SOS> regulation applying a scheme of generalised tariff preferences vote <EOS> <PAD> <PAD> <PAD> <PAD> <PAD> <PAD> <PAD> <PAD> <PAD> <PAD> <PAD> <PAD> <PAD> <PAD> <PAD> <PAD> <PAD> <PAD> <PAD> <PAD> <PAD> <PAD> <PAD> <PAD> <PAD> <PAD> <PAD> <PAD> <PAD> <PAD> <PAD> <PAD> <PAD> <PAD> <PAD> <PAD> <PAD> <PAD> <PAD> <PAD> <PAD> <PAD> <PAD> <PAD> <PAD> <PAD> <PAD> <PAD> <PAD> <PAD> <PAD> <PAD> <PAD> <PAD> <PAD> <PAD> <PAD> <PAD> <PAD> <PAD> <PAD> <PAD> <PAD> <PAD> <PAD> <PAD> <PAD> <PAD> <PAD> <PAD> <PAD> <PAD> <PAD> <PAD> <PAD> <PAD> <PAD> <PAD> <PAD> <PAD> <PAD> <PAD> <PAD> <PAD> <PAD> <PAD> \n",
            "\n",
            "<SOS> <CAP> règlement appliquant un schéma de préférences tarifaires généralisées <UNK> vote <UNK> <EOS> <PAD> <PAD> <PAD> <PAD> <PAD> <PAD> <PAD> <PAD> <PAD> <PAD> <PAD> <PAD> <PAD> <PAD> <PAD> <PAD> <PAD> <PAD> <PAD> <PAD> <PAD> <PAD> <PAD> <PAD> <PAD> <PAD> <PAD> <PAD> <PAD> <PAD> <PAD> <PAD> <PAD> <PAD> <PAD> <PAD> <PAD> <PAD> <PAD> <PAD> <PAD> <PAD> <PAD> <PAD> <PAD> <PAD> <PAD> <PAD> <PAD> <PAD> <PAD> <PAD> <PAD> <PAD> <PAD> <PAD> <PAD> <PAD> <PAD> <PAD> <PAD> <PAD> <PAD> <PAD> <PAD> <PAD> <PAD> <PAD> <PAD> <PAD> <PAD> <PAD> <PAD> <PAD> <PAD> <PAD> <PAD> <PAD> <PAD> <PAD> <PAD> <PAD> <PAD> <PAD> <PAD> <PAD> <PAD> <PAD> <PAD> <PAD> <PAD> <PAD> <PAD> <PAD> <PAD> <PAD> <PAD> <PAD> <PAD> <PAD> <PAD> <PAD> <PAD> <PAD> <PAD> <PAD> <PAD> <PAD> <PAD> <PAD> <PAD> <PAD> <PAD> <PAD> <PAD> <PAD> <PAD> <PAD> <PAD> <PAD> <PAD> <PAD> <PAD> <PAD> <PAD> \n",
            "\n",
            "<SOS> my wish is for you to help a strong sustainable movement to educate every child about food to inspire families to cook again and to empower people everywhere to fight obesity <EOS> <PAD> <PAD> <PAD> <PAD> <PAD> <PAD> <PAD> <PAD> <PAD> <PAD> <PAD> <PAD> <PAD> <PAD> <PAD> <PAD> <PAD> <PAD> <PAD> <PAD> <PAD> <PAD> <PAD> <PAD> <PAD> <PAD> <PAD> <PAD> <PAD> <PAD> <PAD> <PAD> <PAD> <PAD> <PAD> <PAD> <PAD> <PAD> <PAD> <PAD> <PAD> <PAD> <PAD> <PAD> <PAD> <PAD> <PAD> <PAD> <PAD> <PAD> <PAD> <PAD> <PAD> <PAD> <PAD> <PAD> <PAD> <PAD> <PAD> <PAD> <PAD> <PAD> <PAD> <PAD> \n",
            "\n",
            "<SOS> <CAP> mon souhait est que vous <UNK> un puissant mouvement durable pour éduquer chaque enfant à l <UNK> alimentation <UNK> pour inspirer les familles à cuisiner à nouveau <UNK> et dynamiser les gens partout à lutter contre l <UNK> obésité <UNK> <EOS> <PAD> <PAD> <PAD> <PAD> <PAD> <PAD> <PAD> <PAD> <PAD> <PAD> <PAD> <PAD> <PAD> <PAD> <PAD> <PAD> <PAD> <PAD> <PAD> <PAD> <PAD> <PAD> <PAD> <PAD> <PAD> <PAD> <PAD> <PAD> <PAD> <PAD> <PAD> <PAD> <PAD> <PAD> <PAD> <PAD> <PAD> <PAD> <PAD> <PAD> <PAD> <PAD> <PAD> <PAD> <PAD> <PAD> <PAD> <PAD> <PAD> <PAD> <PAD> <PAD> <PAD> <PAD> <PAD> <PAD> <PAD> <PAD> <PAD> <PAD> <PAD> <PAD> <PAD> <PAD> <PAD> <PAD> <PAD> <PAD> <PAD> <PAD> <PAD> <PAD> <PAD> <PAD> <PAD> <PAD> <PAD> <PAD> <PAD> <PAD> <PAD> <PAD> <PAD> <PAD> <PAD> <PAD> <PAD> <PAD> <PAD> <PAD> <PAD> <PAD> <PAD> <PAD> <PAD> <PAD> \n",
            "\n"
          ],
          "name": "stdout"
        }
      ]
    },
    {
      "cell_type": "markdown",
      "metadata": {
        "colab_type": "text",
        "id": "J0Qjg6vuaHNt"
      },
      "source": [
        "# Transformer model for language understanding"
      ]
    },
    {
      "cell_type": "markdown",
      "metadata": {
        "colab_type": "text",
        "id": "BSiBsXrV-oIa"
      },
      "source": [
        "## Positional encoding\n"
      ]
    },
    {
      "cell_type": "code",
      "metadata": {
        "colab_type": "code",
        "id": "WhIOZjMNKujn",
        "colab": {}
      },
      "source": [
        "def get_angles(pos, i, d_model):\n",
        "  angle_rates = 1 / np.power(10000, (2 * (i//2)) / np.float32(d_model))\n",
        "  return pos * angle_rates"
      ],
      "execution_count": 0,
      "outputs": []
    },
    {
      "cell_type": "code",
      "metadata": {
        "colab_type": "code",
        "id": "1Rz82wEs5biZ",
        "colab": {}
      },
      "source": [
        "def positional_encoding(position, d_model):\n",
        "  angle_rads = get_angles(np.arange(position)[:, np.newaxis],\n",
        "                          np.arange(d_model)[np.newaxis, :],\n",
        "                          d_model)\n",
        "  \n",
        "  # apply sin to even indices in the array; 2i\n",
        "  angle_rads[:, 0::2] = np.sin(angle_rads[:, 0::2])\n",
        "  \n",
        "  # apply cos to odd indices in the array; 2i+1\n",
        "  angle_rads[:, 1::2] = np.cos(angle_rads[:, 1::2])\n",
        "    \n",
        "  pos_encoding = angle_rads[np.newaxis, ...]\n",
        "    \n",
        "  return tf.cast(pos_encoding, dtype=tf.float32)"
      ],
      "execution_count": 0,
      "outputs": []
    },
    {
      "cell_type": "markdown",
      "metadata": {
        "colab_type": "text",
        "id": "a_b4ou4TYqUN"
      },
      "source": [
        "## Masking"
      ]
    },
    {
      "cell_type": "code",
      "metadata": {
        "colab_type": "code",
        "id": "U2i8-e1s8ti9",
        "colab": {}
      },
      "source": [
        "def create_padding_mask(seq):\n",
        "  seq = tf.cast(tf.math.equal(seq, 0), tf.float32)\n",
        "  \n",
        "  # add extra dimensions to add the padding\n",
        "  # to the attention logits.\n",
        "  return seq[:, tf.newaxis, tf.newaxis, :]  # (batch_size, 1, 1, seq_len)"
      ],
      "execution_count": 0,
      "outputs": []
    },
    {
      "cell_type": "code",
      "metadata": {
        "colab_type": "code",
        "id": "dVxS8OPI9uI0",
        "colab": {}
      },
      "source": [
        "def create_look_ahead_mask(size):\n",
        "  mask = 1 - tf.linalg.band_part(tf.ones((size, size)), -1, 0)\n",
        "  return mask  # (seq_len, seq_len)"
      ],
      "execution_count": 0,
      "outputs": []
    },
    {
      "cell_type": "markdown",
      "metadata": {
        "colab_type": "text",
        "id": "xluDl5cXYy4y"
      },
      "source": [
        "## Scaled dot product attention"
      ]
    },
    {
      "cell_type": "code",
      "metadata": {
        "colab_type": "code",
        "id": "LazzUq3bJ5SH",
        "colab": {}
      },
      "source": [
        "def scaled_dot_product_attention(q, k, v, mask):\n",
        "  \"\"\"Calculate the attention weights.\n",
        "  q, k, v must have matching leading dimensions.\n",
        "  k, v must have matching penultimate dimension, i.e.: seq_len_k = seq_len_v.\n",
        "  The mask has different shapes depending on its type(padding or look ahead) \n",
        "  but it must be broadcastable for addition.\n",
        "  \n",
        "  Args:\n",
        "    q: query shape == (..., seq_len_q, depth)\n",
        "    k: key shape == (..., seq_len_k, depth)\n",
        "    v: value shape == (..., seq_len_v, depth_v)\n",
        "    mask: Float tensor with shape broadcastable \n",
        "          to (..., seq_len_q, seq_len_k). Defaults to None.\n",
        "    \n",
        "  Returns:\n",
        "    output, attention_weights\n",
        "  \"\"\"\n",
        "\n",
        "  matmul_qk = tf.matmul(q, k, transpose_b=True)  # (..., seq_len_q, seq_len_k)\n",
        "  \n",
        "  # scale matmul_qk\n",
        "  dk = tf.cast(tf.shape(k)[-1], tf.float32)\n",
        "  scaled_attention_logits = matmul_qk / tf.math.sqrt(dk)\n",
        "\n",
        "  # add the mask to the scaled tensor.\n",
        "  if mask is not None:\n",
        "    scaled_attention_logits += (mask * -1e9)  \n",
        "\n",
        "  # softmax is normalized on the last axis (seq_len_k) so that the scores\n",
        "  # add up to 1.\n",
        "  attention_weights = tf.nn.softmax(scaled_attention_logits, axis=-1)  # (..., seq_len_q, seq_len_k)\n",
        "\n",
        "  output = tf.matmul(attention_weights, v)  # (..., seq_len_q, depth_v)\n",
        "\n",
        "  return output, attention_weights"
      ],
      "execution_count": 0,
      "outputs": []
    },
    {
      "cell_type": "code",
      "metadata": {
        "colab_type": "code",
        "id": "n90YjClyInFy",
        "colab": {}
      },
      "source": [
        "def print_out(q, k, v):\n",
        "  temp_out, temp_attn = scaled_dot_product_attention(\n",
        "      q, k, v, None)\n",
        "  print ('Attention weights are:')\n",
        "  print (temp_attn)\n",
        "  print ('Output is:')\n",
        "  print (temp_out)"
      ],
      "execution_count": 0,
      "outputs": []
    },
    {
      "cell_type": "markdown",
      "metadata": {
        "colab_type": "text",
        "id": "kmzGPEy64qmA"
      },
      "source": [
        "## Multi-head attention"
      ]
    },
    {
      "cell_type": "code",
      "metadata": {
        "colab_type": "code",
        "id": "BSV3PPKsYecw",
        "colab": {}
      },
      "source": [
        "class MultiHeadAttention(tf.keras.layers.Layer):\n",
        "  def __init__(self, d_model, num_heads):\n",
        "    super(MultiHeadAttention, self).__init__()\n",
        "    self.num_heads = num_heads\n",
        "    self.d_model = d_model\n",
        "    \n",
        "    assert d_model % self.num_heads == 0\n",
        "    \n",
        "    self.depth = d_model // self.num_heads\n",
        "    \n",
        "    self.wq = tf.keras.layers.Dense(d_model)\n",
        "    self.wk = tf.keras.layers.Dense(d_model)\n",
        "    self.wv = tf.keras.layers.Dense(d_model)\n",
        "    \n",
        "    self.dense = tf.keras.layers.Dense(d_model)\n",
        "        \n",
        "  def split_heads(self, x, batch_size):\n",
        "    \"\"\"Split the last dimension into (num_heads, depth).\n",
        "    Transpose the result such that the shape is (batch_size, num_heads, seq_len, depth)\n",
        "    \"\"\"\n",
        "    x = tf.reshape(x, (batch_size, -1, self.num_heads, self.depth))\n",
        "    return tf.transpose(x, perm=[0, 2, 1, 3])\n",
        "    \n",
        "  def call(self, v, k, q, mask):\n",
        "    batch_size = tf.shape(q)[0]\n",
        "    \n",
        "    q = self.wq(q)  # (batch_size, seq_len, d_model)\n",
        "    k = self.wk(k)  # (batch_size, seq_len, d_model)\n",
        "    v = self.wv(v)  # (batch_size, seq_len, d_model)\n",
        "    \n",
        "    q = self.split_heads(q, batch_size)  # (batch_size, num_heads, seq_len_q, depth)\n",
        "    k = self.split_heads(k, batch_size)  # (batch_size, num_heads, seq_len_k, depth)\n",
        "    v = self.split_heads(v, batch_size)  # (batch_size, num_heads, seq_len_v, depth)\n",
        "    \n",
        "    # scaled_attention.shape == (batch_size, num_heads, seq_len_q, depth)\n",
        "    # attention_weights.shape == (batch_size, num_heads, seq_len_q, seq_len_k)\n",
        "    scaled_attention, attention_weights = scaled_dot_product_attention(\n",
        "        q, k, v, mask)\n",
        "    \n",
        "    scaled_attention = tf.transpose(scaled_attention, perm=[0, 2, 1, 3])  # (batch_size, seq_len_q, num_heads, depth)\n",
        "\n",
        "    concat_attention = tf.reshape(scaled_attention, \n",
        "                                  (batch_size, -1, self.d_model))  # (batch_size, seq_len_q, d_model)\n",
        "\n",
        "    output = self.dense(concat_attention)  # (batch_size, seq_len_q, d_model)\n",
        "        \n",
        "    return output, attention_weights"
      ],
      "execution_count": 0,
      "outputs": []
    },
    {
      "cell_type": "markdown",
      "metadata": {
        "colab_type": "text",
        "id": "RdDqGayx67vv"
      },
      "source": [
        "## Point wise feed forward network"
      ]
    },
    {
      "cell_type": "code",
      "metadata": {
        "colab_type": "code",
        "id": "ET7xLt0yCT6Z",
        "colab": {}
      },
      "source": [
        "def point_wise_feed_forward_network(d_model, dff):\n",
        "  return tf.keras.Sequential([\n",
        "      tf.keras.layers.Dense(dff, activation='relu'),  # (batch_size, seq_len, dff)\n",
        "      tf.keras.layers.Dense(d_model)  # (batch_size, seq_len, d_model)\n",
        "  ])"
      ],
      "execution_count": 0,
      "outputs": []
    },
    {
      "cell_type": "markdown",
      "metadata": {
        "colab_type": "text",
        "id": "7e7hKcxn6-zd"
      },
      "source": [
        "## Encoder and decoder"
      ]
    },
    {
      "cell_type": "markdown",
      "metadata": {
        "colab_type": "text",
        "id": "QFv-FNYUmvpn"
      },
      "source": [
        "### Encoder layer"
      ]
    },
    {
      "cell_type": "code",
      "metadata": {
        "colab_type": "code",
        "id": "ncyS-Ms3i2x_",
        "colab": {}
      },
      "source": [
        "class EncoderLayer(tf.keras.layers.Layer):\n",
        "  def __init__(self, d_model, num_heads, dff, rate=0.1):\n",
        "    super(EncoderLayer, self).__init__()\n",
        "\n",
        "    self.mha = MultiHeadAttention(d_model, num_heads)\n",
        "    self.ffn = point_wise_feed_forward_network(d_model, dff)\n",
        "\n",
        "    self.layernorm1 = tf.keras.layers.LayerNormalization(epsilon=1e-6)\n",
        "    self.layernorm2 = tf.keras.layers.LayerNormalization(epsilon=1e-6)\n",
        "    \n",
        "    self.dropout1 = tf.keras.layers.Dropout(rate)\n",
        "    self.dropout2 = tf.keras.layers.Dropout(rate)\n",
        "    \n",
        "  def call(self, x, training, mask):\n",
        "\n",
        "    attn_output, _ = self.mha(x, x, x, mask)  # (batch_size, input_seq_len, d_model)\n",
        "    attn_output = self.dropout1(attn_output, training=training)\n",
        "    out1 = self.layernorm1(x + attn_output)  # (batch_size, input_seq_len, d_model)\n",
        "    \n",
        "    ffn_output = self.ffn(out1)  # (batch_size, input_seq_len, d_model)\n",
        "    ffn_output = self.dropout2(ffn_output, training=training)\n",
        "    out2 = self.layernorm2(out1 + ffn_output)  # (batch_size, input_seq_len, d_model)\n",
        "    \n",
        "    return out2"
      ],
      "execution_count": 0,
      "outputs": []
    },
    {
      "cell_type": "markdown",
      "metadata": {
        "colab_type": "text",
        "id": "6LO_48Owmx_o"
      },
      "source": [
        "### Decoder layer"
      ]
    },
    {
      "cell_type": "code",
      "metadata": {
        "colab_type": "code",
        "id": "9SoX0-vd1hue",
        "colab": {}
      },
      "source": [
        "class DecoderLayer(tf.keras.layers.Layer):\n",
        "  def __init__(self, d_model, num_heads, dff, rate=0.1):\n",
        "    super(DecoderLayer, self).__init__()\n",
        "\n",
        "    self.mha1 = MultiHeadAttention(d_model, num_heads)\n",
        "    self.mha2 = MultiHeadAttention(d_model, num_heads)\n",
        "\n",
        "    self.ffn = point_wise_feed_forward_network(d_model, dff)\n",
        " \n",
        "    self.layernorm1 = tf.keras.layers.LayerNormalization(epsilon=1e-6)\n",
        "    self.layernorm2 = tf.keras.layers.LayerNormalization(epsilon=1e-6)\n",
        "    self.layernorm3 = tf.keras.layers.LayerNormalization(epsilon=1e-6)\n",
        "    \n",
        "    self.dropout1 = tf.keras.layers.Dropout(rate)\n",
        "    self.dropout2 = tf.keras.layers.Dropout(rate)\n",
        "    self.dropout3 = tf.keras.layers.Dropout(rate)\n",
        "    \n",
        "    \n",
        "  def call(self, x, enc_output, training, \n",
        "           look_ahead_mask, padding_mask):\n",
        "    # enc_output.shape == (batch_size, input_seq_len, d_model)\n",
        "\n",
        "    attn1, attn_weights_block1 = self.mha1(x, x, x, look_ahead_mask)  # (batch_size, target_seq_len, d_model)\n",
        "    attn1 = self.dropout1(attn1, training=training)\n",
        "    out1 = self.layernorm1(attn1 + x)\n",
        "    \n",
        "    attn2, attn_weights_block2 = self.mha2(\n",
        "        enc_output, enc_output, out1, padding_mask)  # (batch_size, target_seq_len, d_model)\n",
        "    attn2 = self.dropout2(attn2, training=training)\n",
        "    out2 = self.layernorm2(attn2 + out1)  # (batch_size, target_seq_len, d_model)\n",
        "    \n",
        "    ffn_output = self.ffn(out2)  # (batch_size, target_seq_len, d_model)\n",
        "    ffn_output = self.dropout3(ffn_output, training=training)\n",
        "    out3 = self.layernorm3(ffn_output + out2)  # (batch_size, target_seq_len, d_model)\n",
        "    \n",
        "    return out3, attn_weights_block1, attn_weights_block2"
      ],
      "execution_count": 0,
      "outputs": []
    },
    {
      "cell_type": "markdown",
      "metadata": {
        "colab_type": "text",
        "id": "SE1H51Ajm0q1"
      },
      "source": [
        "### Encoder"
      ]
    },
    {
      "cell_type": "code",
      "metadata": {
        "colab_type": "code",
        "id": "jpEox7gJ8FCI",
        "colab": {}
      },
      "source": [
        "class Encoder(tf.keras.layers.Layer):\n",
        "  def __init__(self, num_layers, d_model, num_heads, dff, input_vocab_size,\n",
        "               maximum_position_encoding, rate=0.1):\n",
        "    super(Encoder, self).__init__()\n",
        "\n",
        "    self.d_model = d_model\n",
        "    self.num_layers = num_layers\n",
        "    \n",
        "    self.embedding = tf.keras.layers.Embedding(input_vocab_size, d_model)\n",
        "    self.pos_encoding = positional_encoding(maximum_position_encoding, \n",
        "                                            self.d_model)\n",
        "    \n",
        "    \n",
        "    self.enc_layers = [EncoderLayer(d_model, num_heads, dff, rate) \n",
        "                       for _ in range(num_layers)]\n",
        "  \n",
        "    self.dropout = tf.keras.layers.Dropout(rate)\n",
        "        \n",
        "  def call(self, x, training, mask):\n",
        "\n",
        "    seq_len = tf.shape(x)[1]\n",
        "    \n",
        "    # adding embedding and position encoding.\n",
        "    x = self.embedding(x)  # (batch_size, input_seq_len, d_model)\n",
        "    x *= tf.math.sqrt(tf.cast(self.d_model, tf.float32))\n",
        "    x += self.pos_encoding[:, :seq_len, :]\n",
        "\n",
        "    x = self.dropout(x, training=training)\n",
        "    \n",
        "    for i in range(self.num_layers):\n",
        "      x = self.enc_layers[i](x, training, mask)\n",
        "    \n",
        "    return x  # (batch_size, input_seq_len, d_model)"
      ],
      "execution_count": 0,
      "outputs": []
    },
    {
      "cell_type": "markdown",
      "metadata": {
        "colab_type": "text",
        "id": "p-uO6ls8m2O5"
      },
      "source": [
        "### Decoder"
      ]
    },
    {
      "cell_type": "code",
      "metadata": {
        "colab_type": "code",
        "id": "d5_d5-PLQXwY",
        "colab": {}
      },
      "source": [
        "class Decoder(tf.keras.layers.Layer):\n",
        "  def __init__(self, num_layers, d_model, num_heads, dff, target_vocab_size,\n",
        "               maximum_position_encoding, rate=0.1):\n",
        "    super(Decoder, self).__init__()\n",
        "\n",
        "    self.d_model = d_model\n",
        "    self.num_layers = num_layers\n",
        "    \n",
        "    self.embedding = tf.keras.layers.Embedding(target_vocab_size, d_model)\n",
        "    self.pos_encoding = positional_encoding(maximum_position_encoding, d_model)\n",
        "    \n",
        "    self.dec_layers = [DecoderLayer(d_model, num_heads, dff, rate) \n",
        "                       for _ in range(num_layers)]\n",
        "    self.dropout = tf.keras.layers.Dropout(rate)\n",
        "    \n",
        "  def call(self, x, enc_output, training, \n",
        "           look_ahead_mask, padding_mask):\n",
        "\n",
        "    seq_len = tf.shape(x)[1]\n",
        "    attention_weights = {}\n",
        "    \n",
        "    x = self.embedding(x)  # (batch_size, target_seq_len, d_model)\n",
        "    x *= tf.math.sqrt(tf.cast(self.d_model, tf.float32))\n",
        "    x += self.pos_encoding[:, :seq_len, :]\n",
        "    \n",
        "    x = self.dropout(x, training=training)\n",
        "\n",
        "    for i in range(self.num_layers):\n",
        "      x, block1, block2 = self.dec_layers[i](x, enc_output, training,\n",
        "                                             look_ahead_mask, padding_mask)\n",
        "      \n",
        "      attention_weights['decoder_layer{}_block1'.format(i+1)] = block1\n",
        "      attention_weights['decoder_layer{}_block2'.format(i+1)] = block2\n",
        "    \n",
        "    # x.shape == (batch_size, target_seq_len, d_model)\n",
        "    return x, attention_weights"
      ],
      "execution_count": 0,
      "outputs": []
    },
    {
      "cell_type": "markdown",
      "metadata": {
        "colab_type": "text",
        "id": "y54xnJnuYgJ7"
      },
      "source": [
        "## Create the Transformer"
      ]
    },
    {
      "cell_type": "code",
      "metadata": {
        "colab_type": "code",
        "id": "PED3bIpOYkBu",
        "colab": {}
      },
      "source": [
        "class Transformer(tf.keras.Model):\n",
        "  def __init__(self, num_layers, d_model, num_heads, dff, input_vocab_size, \n",
        "               target_vocab_size, pe_input, pe_target, rate=0.1):\n",
        "    super(Transformer, self).__init__()\n",
        "\n",
        "    self.encoder = Encoder(num_layers, d_model, num_heads, dff, \n",
        "                           input_vocab_size, pe_input, rate)\n",
        "\n",
        "    self.decoder = Decoder(num_layers, d_model, num_heads, dff, \n",
        "                           target_vocab_size, pe_target, rate)\n",
        "\n",
        "    self.final_layer = tf.keras.layers.Dense(target_vocab_size)\n",
        "    \n",
        "  def call(self, inp, tar, training, enc_padding_mask, \n",
        "           look_ahead_mask, dec_padding_mask):\n",
        "\n",
        "    enc_output = self.encoder(inp, training, enc_padding_mask)  # (batch_size, inp_seq_len, d_model)\n",
        "    \n",
        "    # dec_output.shape == (batch_size, tar_seq_len, d_model)\n",
        "    dec_output, attention_weights = self.decoder(\n",
        "        tar, enc_output, training, look_ahead_mask, dec_padding_mask)\n",
        "    \n",
        "    final_output = self.final_layer(dec_output)  # (batch_size, tar_seq_len, target_vocab_size)\n",
        "    \n",
        "    return final_output, attention_weights"
      ],
      "execution_count": 0,
      "outputs": []
    },
    {
      "cell_type": "markdown",
      "metadata": {
        "colab_type": "text",
        "id": "wsINyf1VEQLC"
      },
      "source": [
        "## Set hyperparameters"
      ]
    },
    {
      "cell_type": "code",
      "metadata": {
        "colab_type": "code",
        "id": "lnJn5SLA2ahP",
        "colab": {}
      },
      "source": [
        "num_layers = 2\n",
        "d_model = 128\n",
        "dff = 512\n",
        "num_heads = 16\n",
        "\n",
        "input_vocab_size = len(encoder_v2id) + 1\n",
        "target_vocab_size = len(decoder_v2id) + 1\n",
        "dropout_rate = 0.3"
      ],
      "execution_count": 0,
      "outputs": []
    },
    {
      "cell_type": "markdown",
      "metadata": {
        "colab_type": "text",
        "id": "xYEGhEOtzn5W"
      },
      "source": [
        "## Optimizer"
      ]
    },
    {
      "cell_type": "code",
      "metadata": {
        "colab_type": "code",
        "id": "iYQdOO1axwEI",
        "colab": {}
      },
      "source": [
        "class CustomSchedule(tf.keras.optimizers.schedules.LearningRateSchedule):\n",
        "  def __init__(self, d_model, warmup_steps=4000):\n",
        "    super(CustomSchedule, self).__init__()\n",
        "    \n",
        "    self.d_model = d_model\n",
        "    self.d_model = tf.cast(self.d_model, tf.float32)\n",
        "\n",
        "    self.warmup_steps = warmup_steps\n",
        "    \n",
        "  def __call__(self, step):\n",
        "    arg1 = tf.math.rsqrt(step)\n",
        "    arg2 = step * (self.warmup_steps ** -1.5)\n",
        "    \n",
        "    return tf.math.rsqrt(self.d_model) * tf.math.minimum(arg1, arg2)"
      ],
      "execution_count": 0,
      "outputs": []
    },
    {
      "cell_type": "code",
      "metadata": {
        "colab_type": "code",
        "id": "7r4scdulztRx",
        "colab": {}
      },
      "source": [
        "learning_rate = CustomSchedule(d_model)\n",
        "\n",
        "optimizer = tf.keras.optimizers.Adam(learning_rate, beta_1=0.9, beta_2=0.98, \n",
        "                                     epsilon=1e-9)"
      ],
      "execution_count": 0,
      "outputs": []
    },
    {
      "cell_type": "code",
      "metadata": {
        "colab_type": "code",
        "id": "f33ZCgvHpPdG",
        "outputId": "5e399f41-108b-45c8-9cc6-238fbab30302",
        "colab": {
          "base_uri": "https://localhost:8080/",
          "height": 296
        }
      },
      "source": [
        "temp_learning_rate_schedule = CustomSchedule(d_model)\n",
        "\n",
        "plt.plot(temp_learning_rate_schedule(tf.range(40000, dtype=tf.float32)))\n",
        "plt.ylabel(\"Learning Rate\")\n",
        "plt.xlabel(\"Train Step\")"
      ],
      "execution_count": 43,
      "outputs": [
        {
          "output_type": "execute_result",
          "data": {
            "text/plain": [
              "Text(0.5, 0, 'Train Step')"
            ]
          },
          "metadata": {
            "tags": []
          },
          "execution_count": 43
        },
        {
          "output_type": "display_data",
          "data": {
            "image/png": "[encoded data removed]",
            "text/plain": [
              "<Figure size 432x288 with 1 Axes>"
            ]
          },
          "metadata": {
            "tags": [],
            "needs_background": "light"
          }
        }
      ]
    },
    {
      "cell_type": "markdown",
      "metadata": {
        "colab_type": "text",
        "id": "YgkDE7hzo8r5"
      },
      "source": [
        "## Loss and metrics"
      ]
    },
    {
      "cell_type": "code",
      "metadata": {
        "colab_type": "code",
        "id": "MlhsJMm0TW_B",
        "colab": {}
      },
      "source": [
        "loss_object = tf.keras.losses.SparseCategoricalCrossentropy(\n",
        "    from_logits=True, reduction='none')"
      ],
      "execution_count": 0,
      "outputs": []
    },
    {
      "cell_type": "code",
      "metadata": {
        "colab_type": "code",
        "id": "67oqVHiT0Eiu",
        "colab": {}
      },
      "source": [
        "def loss_function(real, pred):\n",
        "  mask = tf.math.logical_not(tf.math.equal(real, 0))\n",
        "  loss_ = loss_object(real, pred)\n",
        "\n",
        "  mask = tf.cast(mask, dtype=loss_.dtype)\n",
        "  loss_ *= mask\n",
        "  \n",
        "  return tf.reduce_sum(loss_)/tf.reduce_sum(mask)"
      ],
      "execution_count": 0,
      "outputs": []
    },
    {
      "cell_type": "code",
      "metadata": {
        "colab_type": "code",
        "id": "phlyxMnm-Tpx",
        "colab": {}
      },
      "source": [
        "train_loss = tf.keras.metrics.Mean(name='train_loss')\n",
        "train_accuracy = tf.keras.metrics.SparseCategoricalAccuracy(\n",
        "    name='train_accuracy')\n",
        "valid_loss = tf.keras.metrics.Mean(name='valid_loss')\n",
        "valid_accuracy = tf.keras.metrics.SparseCategoricalAccuracy(\n",
        "    name='valid_accuracy')"
      ],
      "execution_count": 0,
      "outputs": []
    },
    {
      "cell_type": "markdown",
      "metadata": {
        "colab_type": "text",
        "id": "aeHumfr7zmMa"
      },
      "source": [
        "## Training and checkpointing"
      ]
    },
    {
      "cell_type": "code",
      "metadata": {
        "colab_type": "code",
        "id": "UiysUa--4tOU",
        "colab": {}
      },
      "source": [
        "transformer = Transformer(num_layers, d_model, num_heads, dff,\n",
        "                          input_vocab_size, target_vocab_size, \n",
        "                          pe_input=input_vocab_size, \n",
        "                          pe_target=target_vocab_size,\n",
        "                          rate=dropout_rate)"
      ],
      "execution_count": 0,
      "outputs": []
    },
    {
      "cell_type": "code",
      "metadata": {
        "colab_type": "code",
        "id": "ZOJUSB1T8GjM",
        "colab": {}
      },
      "source": [
        "def create_masks(inp, tar):\n",
        "  # Encoder padding mask\n",
        "  enc_padding_mask = create_padding_mask(inp)\n",
        "  \n",
        "  # Used in the 2nd attention block in the decoder.\n",
        "  # This padding mask is used to mask the encoder outputs.\n",
        "  dec_padding_mask = create_padding_mask(inp)\n",
        "  \n",
        "  # Used in the 1st attention block in the decoder.\n",
        "  # It is used to pad and mask future tokens in the input received by \n",
        "  # the decoder.\n",
        "  look_ahead_mask = create_look_ahead_mask(tf.shape(tar)[1])\n",
        "  dec_target_padding_mask = create_padding_mask(tar)\n",
        "  combined_mask = tf.maximum(dec_target_padding_mask, look_ahead_mask)\n",
        "  \n",
        "  return enc_padding_mask, combined_mask, dec_padding_mask"
      ],
      "execution_count": 0,
      "outputs": []
    },
    {
      "cell_type": "markdown",
      "metadata": {
        "colab_type": "text",
        "id": "Fzuf06YZp66w"
      },
      "source": [
        "Create the checkpoint path and the checkpoint manager. This will be used to save checkpoints every `n` epochs."
      ]
    },
    {
      "cell_type": "code",
      "metadata": {
        "id": "a78VOJjmfEDR",
        "colab_type": "code",
        "colab": {}
      },
      "source": [
        "ckpt_path = \"./checkpoints/w2w/unformated_en_2_formated_fr/cycle0\""
      ],
      "execution_count": 0,
      "outputs": []
    },
    {
      "cell_type": "markdown",
      "metadata": {
        "id": "oSPCgtpceZdK",
        "colab_type": "text"
      },
      "source": [
        "**real ckpt**"
      ]
    },
    {
      "cell_type": "code",
      "metadata": {
        "colab_type": "code",
        "id": "hNhuYfllndLZ",
        "colab": {}
      },
      "source": [
        "checkpoint_path = ckpt_path + \"/ckpt_real\"\n",
        "\n",
        "ckpt = tf.train.Checkpoint(transformer=transformer,\n",
        "                           optimizer=optimizer)\n",
        "\n",
        "ckpt_manager = tf.train.CheckpointManager(ckpt, checkpoint_path, max_to_keep=50)"
      ],
      "execution_count": 0,
      "outputs": []
    },
    {
      "cell_type": "markdown",
      "metadata": {
        "id": "vcVfqgaZeXCL",
        "colab_type": "text"
      },
      "source": [
        "**virtual ckpt**"
      ]
    },
    {
      "cell_type": "code",
      "metadata": {
        "id": "ADpNV7qteVGt",
        "colab_type": "code",
        "colab": {}
      },
      "source": [
        "checkpoint_path = ckpt_path + \"/ckpt_virtual\"\n",
        "\n",
        "ckpt = tf.train.Checkpoint(transformer=transformer,\n",
        "                           optimizer=optimizer)\n",
        "\n",
        "ckpt_manager = tf.train.CheckpointManager(ckpt, checkpoint_path, max_to_keep=50)"
      ],
      "execution_count": 0,
      "outputs": []
    },
    {
      "cell_type": "markdown",
      "metadata": {
        "id": "pLMCL56X7_n3",
        "colab_type": "text"
      },
      "source": [
        "**Restore Ckpt**"
      ]
    },
    {
      "cell_type": "code",
      "metadata": {
        "id": "6wrdQau7Basv",
        "colab_type": "code",
        "colab": {
          "base_uri": "https://localhost:8080/",
          "height": 34
        },
        "outputId": "eed2662f-ff57-4f92-ba28-05b6e2798e31"
      },
      "source": [
        "# if a checkpoint exists, restore the latest checkpoint.\n",
        "if ckpt_manager.latest_checkpoint:\n",
        "  ckpt.restore(ckpt_manager.latest_checkpoint)\n",
        "  print ('Latest checkpoint restored!!')"
      ],
      "execution_count": 51,
      "outputs": [
        {
          "output_type": "stream",
          "text": [
            "Latest checkpoint restored!!\n"
          ],
          "name": "stdout"
        }
      ]
    },
    {
      "cell_type": "code",
      "metadata": {
        "colab_type": "code",
        "id": "iJwmp9OE29oj",
        "colab": {}
      },
      "source": [
        "# The @tf.function trace-compiles train_step into a TF graph for faster\n",
        "# execution. The function specializes to the precise shape of the argument\n",
        "# tensors. To avoid re-tracing due to the variable sequence lengths or variable\n",
        "# batch sizes (the last batch is smaller), use input_signature to specify\n",
        "# more generic shapes.\n",
        "\n",
        "train_step_signature = [\n",
        "    tf.TensorSpec(shape=(None, None), dtype=tf.int32),\n",
        "    tf.TensorSpec(shape=(None, None), dtype=tf.int32),\n",
        "]\n",
        "\n",
        "@tf.function(input_signature=train_step_signature)\n",
        "def train_step(inp, tar):\n",
        "  tar_inp = tar[:, :-1]\n",
        "  tar_real = tar[:, 1:]\n",
        "  enc_padding_mask, combined_mask, dec_padding_mask = create_masks(inp, tar_inp)\n",
        "  with tf.GradientTape() as tape:\n",
        "    predictions, _ = transformer(inp, tar_inp, \n",
        "                                 True, \n",
        "                                 enc_padding_mask, \n",
        "                                 combined_mask, \n",
        "                                 dec_padding_mask)\n",
        "    loss = loss_function(tar_real, predictions)\n",
        "  gradients = tape.gradient(loss, transformer.trainable_variables)    \n",
        "  optimizer.apply_gradients(zip(gradients, transformer.trainable_variables))\n",
        "  train_loss(loss)\n",
        "  train_accuracy(tar_real, predictions)\n",
        "\n",
        "@tf.function(input_signature=train_step_signature)\n",
        "def valid_step(inp, tar):\n",
        "  tar_inp = tar[:, :-1]\n",
        "  tar_real = tar[:, 1:]\n",
        "  enc_padding_mask, combined_mask, dec_padding_mask = create_masks(inp, tar_inp)\n",
        "  predictions, _ = transformer(inp, tar_inp, \n",
        "                                True, \n",
        "                                enc_padding_mask, \n",
        "                                combined_mask, \n",
        "                                dec_padding_mask)\n",
        "  loss = loss_function(tar_real, predictions)\n",
        "  valid_loss(loss)\n",
        "  valid_accuracy(tar_real, predictions)"
      ],
      "execution_count": 0,
      "outputs": []
    },
    {
      "cell_type": "code",
      "metadata": {
        "id": "ZnvwR9tZYz7A",
        "colab_type": "code",
        "colab": {}
      },
      "source": [
        "EPOCHS = 27"
      ],
      "execution_count": 0,
      "outputs": []
    },
    {
      "cell_type": "code",
      "metadata": {
        "colab_type": "code",
        "id": "bbvmaKNiznHZ",
        "outputId": "76060b00-778f-461a-c8c0-7d84b35c43e5",
        "colab": {
          "base_uri": "https://localhost:8080/",
          "height": 1000,
          "referenced_widgets": [
            "34c683f4f86f4877acc3f8819db00f56",
            "b08cb935a0a14b1f8fc263feef38d366",
            "06866687dff144e6bfb0b7367ed698eb",
            "c9986df5a3f74b07936a162a6d9d30bf",
            "98e0dbb24f484da5a397798bdd3f310a",
            "084b5f62f4c6427faa203631dca679dd",
            "77ecf723f0e24099b03b676195fffcaa",
            "bdad8c2715b149c093fa4a9e4ccd750f"
          ]
        }
      },
      "source": [
        "D={'T_loss':[], 'V_loss':[], 'T_Acc':[], 'T_Val':[], 'E':[]}\n",
        "for epoch in tqdm(range(EPOCHS)):\n",
        "  start = time.time()\n",
        "  \n",
        "  train_loss.reset_states()\n",
        "  train_accuracy.reset_states()\n",
        "  \n",
        "  valid_loss.reset_states()\n",
        "  valid_accuracy.reset_states()\n",
        "  \n",
        "\n",
        "  # inp -> portuguese, tar -> english\n",
        "  for (batch, (inp, tar)) in enumerate(dataset_train):\n",
        "    train_step(inp, tar)\n",
        "    \n",
        "    if batch % 100 == 0:\n",
        "      print ('Epoch {} Batch {} Loss {:.4f} Accuracy {:.4f}'.format(\n",
        "          epoch + 1, batch, train_loss.result(), train_accuracy.result()))\n",
        "\n",
        "  for (batch, (v_inp, v_tar)) in enumerate(dataset_valid):\n",
        "    valid_step(v_inp, v_tar)\n",
        "\n",
        "  print ('Vaildation Epoch {} Val_Loss {:.4f}, Val_Acc {:.4f}'.format(\n",
        "          epoch + 1, valid_loss.result(), valid_accuracy.result()))\n",
        "  \n",
        "  D['T_loss'].append(train_loss.result().numpy())\n",
        "  D['V_loss'].append(valid_loss.result().numpy())\n",
        "  D['T_Acc'].append(train_accuracy.result().numpy())\n",
        "  D['V_Acc'].append(valid_accuracy.result().numpy())\n",
        "  D['E'].append(epoch + 1)\n",
        "\n",
        "\n",
        "  if (epoch + 1) % 1 == 0:\n",
        "    ckpt_save_path = ckpt_manager.save()\n",
        "    print ('Saving checkpoint for epoch {} at {}'.format(epoch+1,\n",
        "                                                         ckpt_save_path))\n",
        "    \n",
        "  print ('Epoch {} Loss {:.4f} Accuracy {:.4f}'.format(epoch + 1, \n",
        "                                                train_loss.result(), \n",
        "                                                train_accuracy.result()))\n",
        "\n",
        "  print ('Time taken for 1 epoch: {} secs\\n'.format(time.time() - start))"
      ],
      "execution_count": 0,
      "outputs": [
        {
          "output_type": "display_data",
          "data": {
            "application/vnd.jupyter.widget-view+json": {
              "model_id": "34c683f4f86f4877acc3f8819db00f56",
              "version_minor": 0,
              "version_major": 2
            },
            "text/plain": [
              "HBox(children=(IntProgress(value=0, max=27), HTML(value='')))"
            ]
          },
          "metadata": {
            "tags": []
          }
        },
        {
          "output_type": "stream",
          "text": [
            "Epoch 1 Batch 0 Loss 10.1287 Accuracy 0.0000\n",
            "Epoch 1 Batch 100 Loss 10.0010 Accuracy 0.0124\n",
            "Epoch 1 Batch 200 Loss 9.7003 Accuracy 0.0199\n",
            "Vaildation Epoch 1 Val_Loss 8.0336, Val_Acc 0.0291\n",
            "Saving checkpoint for epoch 1 at ./checkpoints/train/w2w/unformated_en_2_formated_fr/cycle1/ckpt-1\n",
            "Epoch 1 Loss 9.3786 Accuracy 0.0222\n",
            "Time taken for 1 epoch: 58.99278211593628 secs\n",
            "\n",
            "Epoch 2 Batch 0 Loss 8.0341 Accuracy 0.0292\n",
            "Epoch 2 Batch 100 Loss 7.3592 Accuracy 0.0288\n",
            "Epoch 2 Batch 200 Loss 6.8192 Accuracy 0.0281\n",
            "Vaildation Epoch 2 Val_Loss 5.8626, Val_Acc 0.0313\n",
            "Saving checkpoint for epoch 2 at ./checkpoints/train/w2w/unformated_en_2_formated_fr/cycle1/ckpt-2\n",
            "Epoch 2 Loss 6.5643 Accuracy 0.0283\n",
            "Time taken for 1 epoch: 48.97373557090759 secs\n",
            "\n",
            "Epoch 3 Batch 0 Loss 5.8418 Accuracy 0.0312\n",
            "Epoch 3 Batch 100 Loss 5.7264 Accuracy 0.0369\n",
            "Epoch 3 Batch 200 Loss 5.6027 Accuracy 0.0389\n",
            "Vaildation Epoch 3 Val_Loss 5.2865, Val_Acc 0.0453\n",
            "Saving checkpoint for epoch 3 at ./checkpoints/train/w2w/unformated_en_2_formated_fr/cycle1/ckpt-3\n",
            "Epoch 3 Loss 5.5152 Accuracy 0.0404\n",
            "Time taken for 1 epoch: 48.59248995780945 secs\n",
            "\n",
            "Epoch 4 Batch 0 Loss 5.1952 Accuracy 0.0471\n",
            "Epoch 4 Batch 100 Loss 5.1218 Accuracy 0.0458\n",
            "Epoch 4 Batch 200 Loss 5.0547 Accuracy 0.0455\n",
            "Vaildation Epoch 4 Val_Loss 4.9770, Val_Acc 0.0487\n",
            "Saving checkpoint for epoch 4 at ./checkpoints/train/w2w/unformated_en_2_formated_fr/cycle1/ckpt-4\n",
            "Epoch 4 Loss 5.0047 Accuracy 0.0462\n",
            "Time taken for 1 epoch: 48.83096361160278 secs\n",
            "\n",
            "Epoch 5 Batch 0 Loss 4.7917 Accuracy 0.0516\n",
            "Epoch 5 Batch 100 Loss 4.7698 Accuracy 0.0494\n",
            "Epoch 5 Batch 200 Loss 4.7259 Accuracy 0.0489\n",
            "Vaildation Epoch 5 Val_Loss 4.7939, Val_Acc 0.0515\n",
            "Saving checkpoint for epoch 5 at ./checkpoints/train/w2w/unformated_en_2_formated_fr/cycle1/ckpt-5\n",
            "Epoch 5 Loss 4.6914 Accuracy 0.0495\n",
            "Time taken for 1 epoch: 48.51470232009888 secs\n",
            "\n",
            "Epoch 6 Batch 0 Loss 4.5339 Accuracy 0.0537\n",
            "Epoch 6 Batch 100 Loss 4.4971 Accuracy 0.0533\n",
            "Epoch 6 Batch 200 Loss 4.4685 Accuracy 0.0525\n",
            "Vaildation Epoch 6 Val_Loss 4.6570, Val_Acc 0.0539\n",
            "Saving checkpoint for epoch 6 at ./checkpoints/train/w2w/unformated_en_2_formated_fr/cycle1/ckpt-6\n",
            "Epoch 6 Loss 4.4411 Accuracy 0.0530\n",
            "Time taken for 1 epoch: 48.55661463737488 secs\n",
            "\n",
            "Epoch 7 Batch 0 Loss 4.3197 Accuracy 0.0541\n",
            "Epoch 7 Batch 100 Loss 4.2857 Accuracy 0.0562\n",
            "Epoch 7 Batch 200 Loss 4.2609 Accuracy 0.0557\n",
            "Vaildation Epoch 7 Val_Loss 4.5554, Val_Acc 0.0560\n",
            "Saving checkpoint for epoch 7 at ./checkpoints/train/w2w/unformated_en_2_formated_fr/cycle1/ckpt-7\n",
            "Epoch 7 Loss 4.2384 Accuracy 0.0561\n",
            "Time taken for 1 epoch: 48.58975028991699 secs\n",
            "\n",
            "Epoch 8 Batch 0 Loss 4.1385 Accuracy 0.0580\n",
            "Epoch 8 Batch 100 Loss 4.1043 Accuracy 0.0591\n",
            "Epoch 8 Batch 200 Loss 4.0858 Accuracy 0.0582\n",
            "Vaildation Epoch 8 Val_Loss 4.4964, Val_Acc 0.0571\n",
            "Saving checkpoint for epoch 8 at ./checkpoints/train/w2w/unformated_en_2_formated_fr/cycle1/ckpt-8\n",
            "Epoch 8 Loss 4.0655 Accuracy 0.0586\n",
            "Time taken for 1 epoch: 48.41708278656006 secs\n",
            "\n",
            "Epoch 9 Batch 0 Loss 3.9828 Accuracy 0.0609\n",
            "Epoch 9 Batch 100 Loss 3.9428 Accuracy 0.0615\n",
            "Epoch 9 Batch 200 Loss 3.9269 Accuracy 0.0606\n",
            "Vaildation Epoch 9 Val_Loss 4.4313, Val_Acc 0.0594\n",
            "Saving checkpoint for epoch 9 at ./checkpoints/train/w2w/unformated_en_2_formated_fr/cycle1/ckpt-9\n",
            "Epoch 9 Loss 3.9069 Accuracy 0.0610\n",
            "Time taken for 1 epoch: 48.08898377418518 secs\n",
            "\n",
            "Epoch 10 Batch 0 Loss 3.8374 Accuracy 0.0666\n",
            "Epoch 10 Batch 100 Loss 3.7883 Accuracy 0.0643\n",
            "Epoch 10 Batch 200 Loss 3.7698 Accuracy 0.0633\n",
            "Vaildation Epoch 10 Val_Loss 4.3777, Val_Acc 0.0604\n",
            "Saving checkpoint for epoch 10 at ./checkpoints/train/w2w/unformated_en_2_formated_fr/cycle1/ckpt-10\n",
            "Epoch 10 Loss 3.7501 Accuracy 0.0637\n",
            "Time taken for 1 epoch: 48.40201783180237 secs\n",
            "\n",
            "Epoch 11 Batch 0 Loss 3.6135 Accuracy 0.0670\n",
            "Epoch 11 Batch 100 Loss 3.6308 Accuracy 0.0669\n",
            "Epoch 11 Batch 200 Loss 3.6168 Accuracy 0.0658\n",
            "Vaildation Epoch 11 Val_Loss 4.3515, Val_Acc 0.0622\n",
            "Saving checkpoint for epoch 11 at ./checkpoints/train/w2w/unformated_en_2_formated_fr/cycle1/ckpt-11\n",
            "Epoch 11 Loss 3.5975 Accuracy 0.0661\n",
            "Time taken for 1 epoch: 49.63536858558655 secs\n",
            "\n",
            "Epoch 12 Batch 0 Loss 3.4619 Accuracy 0.0704\n",
            "Epoch 12 Batch 100 Loss 3.4840 Accuracy 0.0696\n",
            "Epoch 12 Batch 200 Loss 3.4673 Accuracy 0.0684\n",
            "Vaildation Epoch 12 Val_Loss 4.3059, Val_Acc 0.0627\n",
            "Saving checkpoint for epoch 12 at ./checkpoints/train/w2w/unformated_en_2_formated_fr/cycle1/ckpt-12\n",
            "Epoch 12 Loss 3.4482 Accuracy 0.0687\n",
            "Time taken for 1 epoch: 49.2465341091156 secs\n",
            "\n",
            "Epoch 13 Batch 0 Loss 3.3492 Accuracy 0.0754\n",
            "Epoch 13 Batch 100 Loss 3.3439 Accuracy 0.0722\n",
            "Epoch 13 Batch 200 Loss 3.3232 Accuracy 0.0709\n",
            "Vaildation Epoch 13 Val_Loss 4.2983, Val_Acc 0.0637\n",
            "Saving checkpoint for epoch 13 at ./checkpoints/train/w2w/unformated_en_2_formated_fr/cycle1/ckpt-13\n",
            "Epoch 13 Loss 3.3057 Accuracy 0.0712\n",
            "Time taken for 1 epoch: 48.03994917869568 secs\n",
            "\n",
            "Epoch 14 Batch 0 Loss 3.1651 Accuracy 0.0754\n",
            "Epoch 14 Batch 100 Loss 3.1964 Accuracy 0.0748\n",
            "Epoch 14 Batch 200 Loss 3.1789 Accuracy 0.0736\n",
            "Vaildation Epoch 14 Val_Loss 4.2943, Val_Acc 0.0651\n",
            "Saving checkpoint for epoch 14 at ./checkpoints/train/w2w/unformated_en_2_formated_fr/cycle1/ckpt-14\n",
            "Epoch 14 Loss 3.1607 Accuracy 0.0739\n",
            "Time taken for 1 epoch: 48.89142870903015 secs\n",
            "\n",
            "Epoch 15 Batch 0 Loss 3.0508 Accuracy 0.0799\n",
            "Epoch 15 Batch 100 Loss 3.0713 Accuracy 0.0772\n",
            "Epoch 15 Batch 200 Loss 3.0468 Accuracy 0.0762\n",
            "Vaildation Epoch 15 Val_Loss 4.2847, Val_Acc 0.0667\n",
            "Saving checkpoint for epoch 15 at ./checkpoints/train/w2w/unformated_en_2_formated_fr/cycle1/ckpt-15\n",
            "Epoch 15 Loss 3.0284 Accuracy 0.0766\n",
            "Time taken for 1 epoch: 49.81150960922241 secs\n",
            "\n",
            "Epoch 16 Batch 0 Loss 2.9079 Accuracy 0.0827\n",
            "Epoch 16 Batch 100 Loss 2.9207 Accuracy 0.0809\n",
            "Epoch 16 Batch 200 Loss 2.8961 Accuracy 0.0796\n",
            "Vaildation Epoch 16 Val_Loss 4.2673, Val_Acc 0.0677\n",
            "Saving checkpoint for epoch 16 at ./checkpoints/train/w2w/unformated_en_2_formated_fr/cycle1/ckpt-16\n",
            "Epoch 16 Loss 2.8773 Accuracy 0.0799\n",
            "Time taken for 1 epoch: 49.88798427581787 secs\n",
            "\n",
            "Epoch 17 Batch 0 Loss 2.7584 Accuracy 0.0849\n",
            "Epoch 17 Batch 100 Loss 2.7672 Accuracy 0.0843\n",
            "Epoch 17 Batch 200 Loss 2.7523 Accuracy 0.0829\n",
            "Vaildation Epoch 17 Val_Loss 4.2642, Val_Acc 0.0685\n",
            "Saving checkpoint for epoch 17 at ./checkpoints/train/w2w/unformated_en_2_formated_fr/cycle1/ckpt-17\n",
            "Epoch 17 Loss 2.7342 Accuracy 0.0833\n",
            "Time taken for 1 epoch: 49.039180517196655 secs\n",
            "\n",
            "Epoch 18 Batch 0 Loss 2.5851 Accuracy 0.0892\n",
            "Epoch 18 Batch 100 Loss 2.6221 Accuracy 0.0880\n",
            "Epoch 18 Batch 200 Loss 2.6077 Accuracy 0.0865\n",
            "Vaildation Epoch 18 Val_Loss 4.2619, Val_Acc 0.0690\n",
            "Saving checkpoint for epoch 18 at ./checkpoints/train/w2w/unformated_en_2_formated_fr/cycle1/ckpt-18\n",
            "Epoch 18 Loss 2.5933 Accuracy 0.0868\n",
            "Time taken for 1 epoch: 48.86580467224121 secs\n",
            "\n",
            "Epoch 19 Batch 0 Loss 2.4743 Accuracy 0.0951\n",
            "Epoch 19 Batch 100 Loss 2.4998 Accuracy 0.0911\n",
            "Epoch 19 Batch 200 Loss 2.4848 Accuracy 0.0897\n",
            "Vaildation Epoch 19 Val_Loss 4.2797, Val_Acc 0.0700\n",
            "Saving checkpoint for epoch 19 at ./checkpoints/train/w2w/unformated_en_2_formated_fr/cycle1/ckpt-19\n",
            "Epoch 19 Loss 2.4718 Accuracy 0.0901\n",
            "Time taken for 1 epoch: 48.92371153831482 secs\n",
            "\n",
            "Epoch 20 Batch 0 Loss 2.3764 Accuracy 0.0944\n",
            "Epoch 20 Batch 100 Loss 2.3904 Accuracy 0.0940\n",
            "Epoch 20 Batch 200 Loss 2.3755 Accuracy 0.0926\n",
            "Vaildation Epoch 20 Val_Loss 4.2712, Val_Acc 0.0704\n",
            "Saving checkpoint for epoch 20 at ./checkpoints/train/w2w/unformated_en_2_formated_fr/cycle1/ckpt-20\n",
            "Epoch 20 Loss 2.3645 Accuracy 0.0929\n",
            "Time taken for 1 epoch: 48.733118534088135 secs\n",
            "\n",
            "Epoch 21 Batch 0 Loss 2.2917 Accuracy 0.0956\n",
            "Epoch 21 Batch 100 Loss 2.2890 Accuracy 0.0968\n",
            "Epoch 21 Batch 200 Loss 2.2804 Accuracy 0.0951\n",
            "Vaildation Epoch 21 Val_Loss 4.2920, Val_Acc 0.0705\n",
            "Saving checkpoint for epoch 21 at ./checkpoints/train/w2w/unformated_en_2_formated_fr/cycle1/ckpt-21\n",
            "Epoch 21 Loss 2.2697 Accuracy 0.0955\n",
            "Time taken for 1 epoch: 48.544373750686646 secs\n",
            "\n",
            "Epoch 22 Batch 0 Loss 2.1880 Accuracy 0.1033\n",
            "Epoch 22 Batch 100 Loss 2.2108 Accuracy 0.0987\n",
            "Epoch 22 Batch 200 Loss 2.1966 Accuracy 0.0973\n",
            "Vaildation Epoch 22 Val_Loss 4.3331, Val_Acc 0.0696\n",
            "Saving checkpoint for epoch 22 at ./checkpoints/train/w2w/unformated_en_2_formated_fr/cycle1/ckpt-22\n",
            "Epoch 22 Loss 2.1862 Accuracy 0.0977\n",
            "Time taken for 1 epoch: 48.87278723716736 secs\n",
            "\n",
            "Epoch 23 Batch 0 Loss 2.1318 Accuracy 0.0999\n",
            "Epoch 23 Batch 100 Loss 2.1226 Accuracy 0.1019\n",
            "Epoch 23 Batch 200 Loss 2.1083 Accuracy 0.1003\n",
            "Vaildation Epoch 23 Val_Loss 4.3448, Val_Acc 0.0711\n",
            "Saving checkpoint for epoch 23 at ./checkpoints/train/w2w/unformated_en_2_formated_fr/cycle1/ckpt-23\n",
            "Epoch 23 Loss 2.0995 Accuracy 0.1006\n",
            "Time taken for 1 epoch: 48.54759669303894 secs\n",
            "\n",
            "Epoch 24 Batch 0 Loss 2.0694 Accuracy 0.1091\n",
            "Epoch 24 Batch 100 Loss 2.0481 Accuracy 0.1041\n",
            "Epoch 24 Batch 200 Loss 2.0293 Accuracy 0.1028\n",
            "Vaildation Epoch 24 Val_Loss 4.3750, Val_Acc 0.0706\n",
            "Saving checkpoint for epoch 24 at ./checkpoints/train/w2w/unformated_en_2_formated_fr/cycle1/ckpt-24\n",
            "Epoch 24 Loss 2.0242 Accuracy 0.1028\n",
            "Time taken for 1 epoch: 48.45343852043152 secs\n",
            "\n",
            "Epoch 25 Batch 0 Loss 2.0057 Accuracy 0.1053\n",
            "Epoch 25 Batch 100 Loss 1.9810 Accuracy 0.1060\n",
            "Epoch 25 Batch 200 Loss 1.9677 Accuracy 0.1045\n",
            "Vaildation Epoch 25 Val_Loss 4.4169, Val_Acc 0.0709\n",
            "Saving checkpoint for epoch 25 at ./checkpoints/train/w2w/unformated_en_2_formated_fr/cycle1/ckpt-25\n",
            "Epoch 25 Loss 1.9611 Accuracy 0.1047\n",
            "Time taken for 1 epoch: 47.98976755142212 secs\n",
            "\n",
            "Epoch 26 Batch 0 Loss 1.9474 Accuracy 0.1082\n",
            "Epoch 26 Batch 100 Loss 1.9157 Accuracy 0.1083\n",
            "Epoch 26 Batch 200 Loss 1.9030 Accuracy 0.1065\n",
            "Vaildation Epoch 26 Val_Loss 4.4072, Val_Acc 0.0718\n",
            "Saving checkpoint for epoch 26 at ./checkpoints/train/w2w/unformated_en_2_formated_fr/cycle1/ckpt-26\n",
            "Epoch 26 Loss 1.8969 Accuracy 0.1069\n",
            "Time taken for 1 epoch: 48.120668172836304 secs\n",
            "\n",
            "Epoch 27 Batch 0 Loss 1.7811 Accuracy 0.1139\n",
            "Epoch 27 Batch 100 Loss 1.8561 Accuracy 0.1101\n",
            "Epoch 27 Batch 200 Loss 1.8459 Accuracy 0.1084\n",
            "Vaildation Epoch 27 Val_Loss 4.4471, Val_Acc 0.0714\n",
            "Saving checkpoint for epoch 27 at ./checkpoints/train/w2w/unformated_en_2_formated_fr/cycle1/ckpt-27\n",
            "Epoch 27 Loss 1.8406 Accuracy 0.1085\n",
            "Time taken for 1 epoch: 48.00652718544006 secs\n",
            "\n",
            "\n"
          ],
          "name": "stdout"
        }
      ]
    },
    {
      "cell_type": "code",
      "metadata": {
        "id": "lcAPwjbrYo9l",
        "colab_type": "code",
        "colab": {}
      },
      "source": [
        "log_dir = os.path.join(ckpt_path, \"log_real.npy\")\n",
        "os.makedirs(os.path.dirname(log_dir), exist_ok=True)\n",
        "np.save(log_dir, D)"
      ],
      "execution_count": 0,
      "outputs": []
    },
    {
      "cell_type": "markdown",
      "metadata": {
        "colab_type": "text",
        "id": "QfcsSWswSdGV"
      },
      "source": [
        "## Evaluate"
      ]
    },
    {
      "cell_type": "markdown",
      "metadata": {
        "colab_type": "text",
        "id": "y6APsFrgImLW"
      },
      "source": [
        "The following steps are used for evaluation:\n",
        "\n",
        "* Encode the input sentence using the Portuguese tokenizer (`tokenizer_pt`). Moreover, add the start and end token so the input is equivalent to what the model is trained with. This is the encoder input.\n",
        "* The decoder input is the `start token == tokenizer_en.vocab_size`.\n",
        "* Calculate the padding masks and the look ahead masks.\n",
        "* The `decoder` then outputs the predictions by looking at the `encoder output` and its own output (self-attention).\n",
        "* Select the last word and calculate the argmax of that.\n",
        "* Concatentate the predicted word to the decoder input as pass it to the decoder.\n",
        "* In this approach, the decoder predicts the next word based on the previous words it predicted.\n",
        "\n",
        "Note: The model used here has less capacity to keep the example relatively faster so the predictions maybe less right. To reproduce the results in the paper, use the entire dataset and base transformer model or transformer XL, by changing the hyperparameters above."
      ]
    },
    {
      "cell_type": "code",
      "metadata": {
        "colab_type": "code",
        "id": "5buvMlnvyrFm",
        "colab": {}
      },
      "source": [
        "def evaluate(encoder_input):\n",
        "\n",
        "  batch_size = encoder_input.shape[0]\n",
        "  output = np.array([decoder_v2id['<SOS>']]*batch_size).reshape(-1,1)\n",
        "  MAX_LENGTH = encoder_input.shape[-1]\n",
        "\n",
        "  for i in range(MAX_LENGTH):\n",
        "    enc_padding_mask, combined_mask, dec_padding_mask = create_masks(\n",
        "        encoder_input, output)\n",
        "  \n",
        "    # predictions.shape == (batch_size, seq_len, vocab_size)\n",
        "    predictions, attention_weights = transformer(encoder_input, \n",
        "                                                 output,\n",
        "                                                 False,\n",
        "                                                 enc_padding_mask,\n",
        "                                                 combined_mask,\n",
        "                                                 dec_padding_mask)\n",
        "    \n",
        "    # select the last word from the seq_len dimension\n",
        "    predictions = predictions[: ,-1:, :]  # (batch_size, 1, vocab_size)\n",
        "    predicted_id = tf.cast(tf.argmax(predictions, axis=-1), tf.int32)\n",
        "    \n",
        "    # return the result if the predicted_id is equal to the end token\n",
        "    # if predicted_id == tokenizer_en.vocab_size+1:\n",
        "    #   return output, attention_weights\n",
        "    \n",
        "    # concatentate the predicted_id to the output which is given to the decoder\n",
        "    # as its input.\n",
        "    output = tf.concat([output, predicted_id], axis=1)\n",
        "\n",
        "  return output, attention_weights"
      ],
      "execution_count": 0,
      "outputs": []
    },
    {
      "cell_type": "markdown",
      "metadata": {
        "id": "onj-LdrNvtIn",
        "colab_type": "text"
      },
      "source": [
        "### BLEU Score Check"
      ]
    },
    {
      "cell_type": "code",
      "metadata": {
        "id": "USjPs21xxiAy",
        "colab_type": "code",
        "colab": {}
      },
      "source": [
        "enc_gen = get_gen(data=aligned_en, batch_size=256, valid_test=True)\n",
        "dec_gen = get_gen(data=aligned_fr, batch_size=256, valid_test=True)"
      ],
      "execution_count": 0,
      "outputs": []
    },
    {
      "cell_type": "code",
      "metadata": {
        "id": "RDBUoLJ-0zod",
        "colab_type": "code",
        "outputId": "3797a2ec-0675-4d80-a5b0-e77359f7a7ac",
        "colab": {
          "base_uri": "https://localhost:8080/",
          "height": 476
        }
      },
      "source": [
        "Sum = 0\n",
        "Total_n = 0\n",
        "for enc_data_words, dec_data_words in zip(enc_gen, dec_gen):\n",
        "    out_words = get_out(enc_data_words)\n",
        "    Sum += sum([sacrebleu.sentence_bleu(out_words[i], dec_data_words[i], smooth_method='exp').score for i in range(len(out_words))])\n",
        "    Total_n += len(out_words)\n",
        "    print(Sum/Total_n, \"Out of {} samples\".format(Total_n))"
      ],
      "execution_count": 56,
      "outputs": [
        {
          "output_type": "stream",
          "text": [
            "100%|██████████| 256/256 [00:01<00:00, 242.11it/s]\n",
            "100%|██████████| 256/256 [00:01<00:00, 218.30it/s]\n"
          ],
          "name": "stderr"
        },
        {
          "output_type": "stream",
          "text": [
            "6.81682874226532 Out of 256 samples\n"
          ],
          "name": "stdout"
        },
        {
          "output_type": "stream",
          "text": [
            "100%|██████████| 256/256 [00:01<00:00, 232.40it/s]\n",
            "100%|██████████| 256/256 [00:01<00:00, 236.95it/s]\n"
          ],
          "name": "stderr"
        },
        {
          "output_type": "stream",
          "text": [
            "6.7023985621202105 Out of 512 samples\n"
          ],
          "name": "stdout"
        },
        {
          "output_type": "stream",
          "text": [
            "100%|██████████| 256/256 [00:01<00:00, 231.65it/s]\n",
            "100%|██████████| 256/256 [00:01<00:00, 230.48it/s]\n"
          ],
          "name": "stderr"
        },
        {
          "output_type": "stream",
          "text": [
            "6.65308126766472 Out of 768 samples\n"
          ],
          "name": "stdout"
        },
        {
          "output_type": "stream",
          "text": [
            "100%|██████████| 256/256 [00:01<00:00, 239.29it/s]\n",
            "100%|██████████| 256/256 [00:01<00:00, 231.98it/s]\n"
          ],
          "name": "stderr"
        },
        {
          "output_type": "stream",
          "text": [
            "6.672542182139365 Out of 1024 samples\n"
          ],
          "name": "stdout"
        },
        {
          "output_type": "stream",
          "text": [
            "100%|██████████| 256/256 [00:01<00:00, 236.46it/s]\n",
            "100%|██████████| 256/256 [00:01<00:00, 224.78it/s]\n"
          ],
          "name": "stderr"
        },
        {
          "output_type": "stream",
          "text": [
            "6.563250861303807 Out of 1280 samples\n"
          ],
          "name": "stdout"
        },
        {
          "output_type": "stream",
          "text": [
            "100%|██████████| 256/256 [00:01<00:00, 244.71it/s]\n",
            "100%|██████████| 256/256 [00:01<00:00, 243.92it/s]\n"
          ],
          "name": "stderr"
        },
        {
          "output_type": "stream",
          "text": [
            "6.578130027286747 Out of 1536 samples\n"
          ],
          "name": "stdout"
        },
        {
          "output_type": "stream",
          "text": [
            "100%|██████████| 256/256 [00:01<00:00, 232.21it/s]\n",
            "100%|██████████| 256/256 [00:01<00:00, 228.27it/s]\n"
          ],
          "name": "stderr"
        },
        {
          "output_type": "stream",
          "text": [
            "6.597042488043502 Out of 1792 samples\n"
          ],
          "name": "stdout"
        },
        {
          "output_type": "stream",
          "text": [
            "100%|██████████| 256/256 [00:01<00:00, 240.20it/s]\n",
            "100%|██████████| 256/256 [00:01<00:00, 242.05it/s]\n"
          ],
          "name": "stderr"
        },
        {
          "output_type": "stream",
          "text": [
            "6.625153411382737 Out of 2048 samples\n"
          ],
          "name": "stdout"
        },
        {
          "output_type": "stream",
          "text": [
            "100%|██████████| 152/152 [00:00<00:00, 157.20it/s]\n",
            "100%|██████████| 152/152 [00:00<00:00, 154.01it/s]\n"
          ],
          "name": "stderr"
        },
        {
          "output_type": "stream",
          "text": [
            "6.62801485315415 Out of 2200 samples\n"
          ],
          "name": "stdout"
        }
      ]
    },
    {
      "cell_type": "markdown",
      "metadata": {
        "id": "I_zCe2v8lehs",
        "colab_type": "text"
      },
      "source": [
        "## Prediction and virtual file creation"
      ]
    },
    {
      "cell_type": "code",
      "metadata": {
        "id": "_36nPSVjoH5a",
        "colab_type": "code",
        "colab": {}
      },
      "source": [
        "new_unaligned_en = '/content/drive/My Drive/ift6759/ift6759-t6-p2/data/cycle1/unaligned_unformated_en'\n",
        "new_unaligned_fr = '/content/drive/My Drive/ift6759/ift6759-t6-p2/data/cycle1/unaligned_formated_fr'\n",
        "os.makedirs(os.path.dirname(new_unaligned_en), exist_ok=True)\n",
        "os.makedirs(os.path.dirname(new_unaligned_fr), exist_ok=True)"
      ],
      "execution_count": 0,
      "outputs": []
    },
    {
      "cell_type": "code",
      "metadata": {
        "id": "Rcd6IQVWmMSe",
        "colab_type": "code",
        "colab": {}
      },
      "source": [
        "enc_gen = get_gen(data=unaligned_en, batch_size=256, valid_test=False)"
      ],
      "execution_count": 0,
      "outputs": []
    },
    {
      "cell_type": "code",
      "metadata": {
        "id": "6yjAfaBGlj7r",
        "colab_type": "code",
        "outputId": "56132109-7ada-4fb7-db7b-d7a8fb0cf9c8",
        "colab": {
          "base_uri": "https://localhost:8080/",
          "height": 865,
          "referenced_widgets": [
            "dddbdcee3fa045eeb4907704b60bd085",
            "b9e8566fc6b342a292eff60f2722a55f",
            "9de4958ab66d49929aece0f09118793e",
            "e0701df1ee2845d99ca42bf1c784e08d",
            "bb8f5ce4b7754f809ba88e62c7ab2c36",
            "bb8182ba26e74588b763d7c9b1153f88",
            "70456371b9374800abc389f8c3a132fb",
            "e653cc36c30f464ea11ff051d3f610ed"
          ]
        }
      },
      "source": [
        "required = 50\n",
        "for i, enc_data_words in tqdm(enumerate(enc_gen), total=required):\n",
        "    if required is None or i<required:\n",
        "      out_words = get_out(enc_data_words)\n",
        "      write_file_append(data=enc_data_words, output=new_unaligned_en)\n",
        "      write_file_append(data=out_words, output=new_unaligned_fr)"
      ],
      "execution_count": 0,
      "outputs": [
        {
          "output_type": "display_data",
          "data": {
            "application/vnd.jupyter.widget-view+json": {
              "model_id": "dddbdcee3fa045eeb4907704b60bd085",
              "version_minor": 0,
              "version_major": 2
            },
            "text/plain": [
              "HBox(children=(IntProgress(value=0, max=50), HTML(value='')))"
            ]
          },
          "metadata": {
            "tags": []
          }
        },
        {
          "output_type": "stream",
          "text": [
            "\n",
            "\n",
            "\n",
            "\n",
            "  0%|          | 0/256 [00:00<?, ?it/s]\u001b[A\u001b[A\u001b[A\u001b[A\n",
            "\n",
            "\n",
            "\n",
            "  0%|          | 1/256 [00:01<08:11,  1.93s/it]\u001b[A\u001b[A\u001b[A\u001b[A\n",
            "\n",
            "\n",
            "\n",
            "100%|██████████| 256/256 [00:02<00:00, 120.87it/s]\n",
            "\n",
            "\n",
            "\n",
            "\n",
            "  0%|          | 0/256 [00:00<?, ?it/s]\u001b[A\u001b[A\u001b[A\u001b[A\n",
            "\n",
            "\n",
            "\n",
            "100%|██████████| 256/256 [00:00<00:00, 273.18it/s]\n",
            "\n",
            "\n",
            "\n",
            "\n",
            "  0%|          | 0/256 [00:00<?, ?it/s]\u001b[A\u001b[A\u001b[A\u001b[A\n",
            "\n",
            "\n",
            "\n",
            "  0%|          | 1/256 [00:00<03:44,  1.14it/s]\u001b[A\u001b[A\u001b[A\u001b[A\n",
            "\n",
            "\n",
            "\n",
            " 39%|███▉      | 101/256 [00:00<01:35,  1.62it/s]\u001b[A\u001b[A\u001b[A\u001b[A\n",
            "\n",
            "\n",
            "\n",
            "100%|██████████| 256/256 [00:01<00:00, 226.83it/s]\n",
            "\n",
            "\n",
            "\n",
            "\n",
            "  0%|          | 0/256 [00:00<?, ?it/s]\u001b[A\u001b[A\u001b[A\u001b[A\n",
            "\n",
            "\n",
            "\n",
            "100%|██████████| 256/256 [00:00<00:00, 265.74it/s]\n"
          ],
          "name": "stderr"
        }
      ]
    },
    {
      "cell_type": "markdown",
      "metadata": {
        "id": "nb67W9VFEWrq",
        "colab_type": "text"
      },
      "source": [
        "## Plots"
      ]
    },
    {
      "cell_type": "code",
      "metadata": {
        "colab_type": "code",
        "id": "CN-BV43FMBej",
        "colab": {}
      },
      "source": [
        "def plot_attention_weights(attention, sentence, result, layer):\n",
        "  fig = plt.figure(figsize=(16, 8))\n",
        "  \n",
        "  sentence = tokenizer_pt.encode(sentence)\n",
        "  \n",
        "  attention = tf.squeeze(attention[layer], axis=0)\n",
        "  \n",
        "  for head in range(attention.shape[0]):\n",
        "    ax = fig.add_subplot(2, 4, head+1)\n",
        "    \n",
        "    # plot the attention weights\n",
        "    ax.matshow(attention[head][:-1, :], cmap='viridis')\n",
        "\n",
        "    fontdict = {'fontsize': 10}\n",
        "    \n",
        "    ax.set_xticks(range(len(sentence)+2))\n",
        "    ax.set_yticks(range(len(result)))\n",
        "    \n",
        "    ax.set_ylim(len(result)-1.5, -0.5)\n",
        "        \n",
        "    ax.set_xticklabels(\n",
        "        ['<start>']+[tokenizer_pt.decode([i]) for i in sentence]+['<end>'], \n",
        "        fontdict=fontdict, rotation=90)\n",
        "    \n",
        "    ax.set_yticklabels([tokenizer_en.decode([i]) for i in result \n",
        "                        if i < tokenizer_en.vocab_size], \n",
        "                       fontdict=fontdict)\n",
        "    \n",
        "    ax.set_xlabel('Head {}'.format(head+1))\n",
        "  \n",
        "  plt.tight_layout()\n",
        "  plt.show()"
      ],
      "execution_count": 0,
      "outputs": []
    },
    {
      "cell_type": "code",
      "metadata": {
        "colab_type": "code",
        "id": "lU2_yG_vBGza",
        "colab": {}
      },
      "source": [
        "def translate(sentence, plot=''):\n",
        "  result, attention_weights = evaluate(sentence)\n",
        "  \n",
        "  predicted_sentence = tokenizer_en.decode([i for i in result \n",
        "                                            if i < tokenizer_en.vocab_size])  \n",
        "\n",
        "  print('Input: {}'.format(sentence))\n",
        "  print('Predicted translation: {}'.format(predicted_sentence))\n",
        "  \n",
        "  if plot:\n",
        "    plot_attention_weights(attention_weights, sentence, result, plot)"
      ],
      "execution_count": 0,
      "outputs": []
    },
    {
      "cell_type": "code",
      "metadata": {
        "colab_type": "code",
        "id": "YsxrAlvFG8SZ",
        "colab": {}
      },
      "source": [
        "translate(\"este é um problema que temos que resolver.\")\n",
        "print (\"Real translation: this is a problem we have to solve .\")"
      ],
      "execution_count": 0,
      "outputs": []
    },
    {
      "cell_type": "code",
      "metadata": {
        "colab_type": "code",
        "id": "7EH5y_aqI4t1",
        "colab": {}
      },
      "source": [
        "translate(\"os meus vizinhos ouviram sobre esta ideia.\")\n",
        "print (\"Real translation: and my neighboring homes heard about this idea .\")"
      ],
      "execution_count": 0,
      "outputs": []
    },
    {
      "cell_type": "code",
      "metadata": {
        "colab_type": "code",
        "id": "J-hVCTSUMlkb",
        "colab": {}
      },
      "source": [
        "translate(\"vou então muito rapidamente partilhar convosco algumas histórias de algumas coisas mágicas que aconteceram.\")\n",
        "print (\"Real translation: so i 'll just share with you some stories very quickly of some magical things that have happened .\")"
      ],
      "execution_count": 0,
      "outputs": []
    },
    {
      "cell_type": "markdown",
      "metadata": {
        "colab_type": "text",
        "id": "_1MxkSZvz0jX"
      },
      "source": [
        "You can pass different layers and attention blocks of the decoder to the `plot` parameter."
      ]
    },
    {
      "cell_type": "code",
      "metadata": {
        "colab_type": "code",
        "id": "t-kFyiOLH0xg",
        "colab": {}
      },
      "source": [
        "translate(\"este é o primeiro livro que eu fiz.\", plot='decoder_layer4_block2')\n",
        "print (\"Real translation: this is the first book i've ever done.\")"
      ],
      "execution_count": 0,
      "outputs": []
    },
    {
      "cell_type": "markdown",
      "metadata": {
        "colab_type": "text",
        "id": "RqQ1fIsLwkGE"
      },
      "source": [
        "## Summary\n",
        "\n",
        "In this tutorial, you learned about positional encoding, multi-head attention, the importance of masking and how to create a transformer.\n",
        "\n",
        "Try using a different dataset to train the transformer. You can also create the base transformer or transformer XL by changing the hyperparameters above. You can also use the layers defined here to create [BERT](https://arxiv.org/abs/1810.04805) and train state of the art models. Futhermore, you can implement beam search to get better predictions."
      ]
    }
  ]
}